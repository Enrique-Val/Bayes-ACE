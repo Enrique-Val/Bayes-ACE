{
 "cells": [
  {
   "cell_type": "code",
   "execution_count": 379,
   "id": "e5624c71",
   "metadata": {
    "ExecuteTime": {
     "end_time": "2024-01-25T13:41:19.540077752Z",
     "start_time": "2024-01-25T13:41:19.493223395Z"
    }
   },
   "outputs": [],
   "source": [
    "import pandas as pd\n",
    "import numpy as np\n",
    "from pybnesian import hc, CLGNetworkType, SemiparametricBNType, SemiparametricBN, MMHC, RCoT, MutualInformation, KMutualInformation, OperatorSet, Score, OperatorPool, ChangeNodeTypeSet, ArcOperatorSet, HoldoutLikelihood, BIC, BGe, CVLikelihood, CKDE, HCKDE, ValidatedLikelihood\n",
    "#from drawdata import draw_scatter\n",
    "import matplotlib.pyplot as plt\n",
    "\n",
    "from bayesace.utils import *\n",
    "from bayesace.algorithms.bayesace import BayesACE\n",
    "from bayesace.algorithms.face import FACE\n",
    "\n",
    "from sklearn.preprocessing import StandardScaler\n",
    "import openml as oml\n",
    "\n",
    "import time\n"
   ]
  },
  {
   "cell_type": "code",
   "outputs": [
    {
     "name": "stderr",
     "output_type": "stream",
     "text": [
      "/tmp/ipykernel_22436/1030542227.py:1: FutureWarning: Starting from Version 0.15 `download_data`, `download_qualities`, and `download_features_meta_data` will all be ``False`` instead of ``True`` by default to enable lazy loading. To disable this message until version 0.15 explicitly set `download_data`, `download_qualities`, and `download_features_meta_data` to a bool while calling `get_dataset`.\n",
      "  df = oml.datasets.get_dataset(44091).get_data()[0]\n"
     ]
    }
   ],
   "source": [
    "df = oml.datasets.get_dataset(44091).get_data()[0]\n"
   ],
   "metadata": {
    "collapsed": false,
    "ExecuteTime": {
     "end_time": "2024-01-24T19:05:29.358922533Z",
     "start_time": "2024-01-24T19:05:29.338899176Z"
    }
   },
   "id": "b713b8e2c9ac3e2d",
   "execution_count": 97
  },
  {
   "cell_type": "code",
   "outputs": [],
   "source": [
    "df[\"class\"] = df[\"quality\"].astype('string').astype('category')\n",
    "df = df.drop(\"quality\", axis=1)"
   ],
   "metadata": {
    "collapsed": false,
    "ExecuteTime": {
     "end_time": "2024-01-24T19:05:29.875398013Z",
     "start_time": "2024-01-24T19:05:29.861533445Z"
    }
   },
   "id": "496ccf5e8c035444",
   "execution_count": 98
  },
  {
   "cell_type": "code",
   "outputs": [
    {
     "data": {
      "text/plain": "<bound method PyCapsule.arcs of <pybnesian.SemiparametricBN object at 0x7f1966784970>>"
     },
     "execution_count": 309,
     "metadata": {},
     "output_type": "execute_result"
    }
   ],
   "source": [
    "naive = SemiparametricBN(df.columns)"
   ],
   "metadata": {
    "collapsed": false,
    "ExecuteTime": {
     "end_time": "2024-01-25T11:07:36.853199952Z",
     "start_time": "2024-01-25T11:07:36.842911672Z"
    }
   },
   "id": "5ba5381e91a90da0",
   "execution_count": 309
  },
  {
   "cell_type": "code",
   "outputs": [],
   "source": [
    "for i in [i for i in df.columns if i != \"class\"] :\n",
    "    naive.add_arc(\"class\", i)"
   ],
   "metadata": {
    "collapsed": false,
    "ExecuteTime": {
     "end_time": "2024-01-24T19:14:13.874037544Z",
     "start_time": "2024-01-24T19:14:13.866439065Z"
    }
   },
   "id": "cb6ae853c99c4d4a",
   "execution_count": 113
  },
  {
   "cell_type": "code",
   "outputs": [],
   "source": [
    "df_train = df.head(2000)\n",
    "df_test = df.tail(500)"
   ],
   "metadata": {
    "collapsed": false,
    "ExecuteTime": {
     "end_time": "2024-01-25T10:12:57.846937999Z",
     "start_time": "2024-01-25T10:12:57.794757139Z"
    }
   },
   "id": "7c908f26fcc1d9fc",
   "execution_count": 171
  },
  {
   "cell_type": "code",
   "execution_count": 346,
   "id": "eb6a2ef3",
   "metadata": {
    "ExecuteTime": {
     "end_time": "2024-01-25T11:17:46.057105382Z",
     "start_time": "2024-01-25T11:17:31.226286980Z"
    }
   },
   "outputs": [],
   "source": [
    "test = MutualInformation(df_train, True)\n",
    "#df = pd.read_csv(\"toy-3class.csv\")\n",
    "#df[\"class\"] = df[\"z\"].astype('category')\n",
    "#df[\"z\"] = df[\"z\"].astype('category')\n",
    "#df = df.drop(\"z\", axis = 1 )\n",
    "\n",
    "feature_columns = [i for i in df.columns if i != \"class\"]\n",
    "df[feature_columns] = StandardScaler().fit_transform(df[feature_columns].values)\n",
    "\n",
    "\n",
    "\n",
    "learned = hc(df_train, bn_type = CLGNetworkType(), operators = [\"arcs\"], score = \"bic\")\n",
    "learned.fit(df_train)\n",
    "\n",
    "est = MMHC()\n",
    "learned_kde = MMHC().estimate(hypot_test = test, operators = OperatorPool([ChangeNodeTypeSet(),ArcOperatorSet()]), score = CVLikelihood(df_train), bn_type = SemiparametricBNType()) #, score = \"cv-lik\"\n",
    "learned_kde = hc(df_train, start = naive, operators = [\"node_type\",\"arcs\"], score = \"holdout-lik\", num_folds = 10)\n",
    "learned_kde.fit(df_train)\n",
    "\n"
   ]
  },
  {
   "cell_type": "code",
   "outputs": [
    {
     "name": "stdout",
     "output_type": "stream",
     "text": [
      "fixed acidity\n",
      "[CKDE] P(fixed acidity | chlorides, residual sugar, alcohol, sulphates, total sulfur dioxide) = CKDE with 2000 instances\n",
      "\n",
      "volatile acidity\n",
      "[HCKDE] P(volatile acidity | chlorides, sulphates, pH, class, alcohol, density, total sulfur dioxide)\n",
      "+-------+--------------------------------------------------------------------------------------------------------------------------+\n",
      "|       |                   volatile acidity | chlorides, sulphates, pH, alcohol, density, total sulfur dioxide                    |\n",
      "+-------+--------------------------------------------------------------------------------------------------------------------------+\n",
      "| class |                                                                                                                          |\n",
      "+-------+--------------------------------------------------------------------------------------------------------------------------+\n",
      "| False | [CKDE] P(volatile acidity | chlorides, sulphates, pH, alcohol, density, total sulfur dioxide) = CKDE with 1277 instances |\n",
      "| True  | [CKDE] P(volatile acidity | chlorides, sulphates, pH, alcohol, density, total sulfur dioxide) = CKDE with 723 instances  |\n",
      "+-------+--------------------------------------------------------------------------------------------------------------------------+\n",
      "\n",
      "\n",
      "citric acid\n",
      "[HCKDE] P(citric acid | sulphates, volatile acidity, free sulfur dioxide, chlorides, pH, class, alcohol, total sulfur dioxide, fixed acidity)\n",
      "+-------+------------------------------------------------------------------------------------------------------------------------------------------------------------------+\n",
      "|       |                   citric acid | sulphates, volatile acidity, free sulfur dioxide, chlorides, pH, alcohol, total sulfur dioxide, fixed acidity                    |\n",
      "+-------+------------------------------------------------------------------------------------------------------------------------------------------------------------------+\n",
      "| class |                                                                                                                                                                  |\n",
      "+-------+------------------------------------------------------------------------------------------------------------------------------------------------------------------+\n",
      "| False | [CKDE] P(citric acid | sulphates, volatile acidity, free sulfur dioxide, chlorides, pH, alcohol, total sulfur dioxide, fixed acidity) = CKDE with 1277 instances |\n",
      "| True  | [CKDE] P(citric acid | sulphates, volatile acidity, free sulfur dioxide, chlorides, pH, alcohol, total sulfur dioxide, fixed acidity) = CKDE with 723 instances  |\n",
      "+-------+------------------------------------------------------------------------------------------------------------------------------------------------------------------+\n",
      "\n",
      "\n",
      "residual sugar\n",
      "[CKDE] P(residual sugar | total sulfur dioxide) = CKDE with 2000 instances\n",
      "\n",
      "chlorides\n",
      "[CKDE] P(chlorides | alcohol, total sulfur dioxide) = CKDE with 2000 instances\n",
      "\n",
      "free sulfur dioxide\n",
      "[CKDE] P(free sulfur dioxide) = CKDE with 2000 instances\n",
      "\n",
      "total sulfur dioxide\n",
      "[CKDE] P(total sulfur dioxide | free sulfur dioxide) = CKDE with 2000 instances\n",
      "\n",
      "density\n",
      "[CKDE] P(density | free sulfur dioxide, total sulfur dioxide, sulphates, chlorides, pH, residual sugar, fixed acidity, alcohol) = CKDE with 2000 instances\n",
      "\n",
      "pH\n",
      "[HCKDE] P(pH | fixed acidity, class, total sulfur dioxide, free sulfur dioxide, alcohol, sulphates, residual sugar)\n",
      "+-------+----------------------------------------------------------------------------------------------------------------------------------------+\n",
      "|       |                   pH | fixed acidity, total sulfur dioxide, free sulfur dioxide, alcohol, sulphates, residual sugar                    |\n",
      "+-------+----------------------------------------------------------------------------------------------------------------------------------------+\n",
      "| class |                                                                                                                                        |\n",
      "+-------+----------------------------------------------------------------------------------------------------------------------------------------+\n",
      "| False | [CKDE] P(pH | fixed acidity, total sulfur dioxide, free sulfur dioxide, alcohol, sulphates, residual sugar) = CKDE with 1277 instances |\n",
      "| True  | [CKDE] P(pH | fixed acidity, total sulfur dioxide, free sulfur dioxide, alcohol, sulphates, residual sugar) = CKDE with 723 instances  |\n",
      "+-------+----------------------------------------------------------------------------------------------------------------------------------------+\n",
      "\n",
      "\n",
      "sulphates\n",
      "[HCKDE] P(sulphates | residual sugar, class, chlorides, total sulfur dioxide)\n",
      "+-------+--------------------------------------------------------------------------------------------------+\n",
      "|       |                   sulphates | residual sugar, chlorides, total sulfur dioxide                    |\n",
      "+-------+--------------------------------------------------------------------------------------------------+\n",
      "| class |                                                                                                  |\n",
      "+-------+--------------------------------------------------------------------------------------------------+\n",
      "| False | [CKDE] P(sulphates | residual sugar, chlorides, total sulfur dioxide) = CKDE with 1277 instances |\n",
      "| True  | [CKDE] P(sulphates | residual sugar, chlorides, total sulfur dioxide) = CKDE with 723 instances  |\n",
      "+-------+--------------------------------------------------------------------------------------------------+\n",
      "\n",
      "\n",
      "alcohol\n",
      "[HCKDE] P(alcohol | free sulfur dioxide, total sulfur dioxide, class, residual sugar)\n",
      "+-------+----------------------------------------------------------------------------------------------------------+\n",
      "|       |                   alcohol | free sulfur dioxide, total sulfur dioxide, residual sugar                    |\n",
      "+-------+----------------------------------------------------------------------------------------------------------+\n",
      "| class |                                                                                                          |\n",
      "+-------+----------------------------------------------------------------------------------------------------------+\n",
      "| False | [CKDE] P(alcohol | free sulfur dioxide, total sulfur dioxide, residual sugar) = CKDE with 1277 instances |\n",
      "| True  | [CKDE] P(alcohol | free sulfur dioxide, total sulfur dioxide, residual sugar) = CKDE with 723 instances  |\n",
      "+-------+----------------------------------------------------------------------------------------------------------+\n",
      "\n",
      "\n",
      "class\n",
      "[DiscreteFactor] P(class)\n",
      "+---------------+\n",
      "|     class     |\n",
      "+-------+-------+\n",
      "| False | True  |\n",
      "+-------+-------+\n",
      "| 0.639 | 0.362 |\n",
      "+-------+-------+\n"
     ]
    }
   ],
   "source": [
    "for i in df.columns :\n",
    "    print(i)\n",
    "    print(learned_kde.cpd(i))\n",
    "    print()"
   ],
   "metadata": {
    "collapsed": false,
    "ExecuteTime": {
     "end_time": "2024-01-25T11:17:46.108785222Z",
     "start_time": "2024-01-25T11:17:46.061810312Z"
    }
   },
   "id": "1f32da79009f724d",
   "execution_count": 347
  },
  {
   "cell_type": "code",
   "outputs": [
    {
     "data": {
      "text/plain": "5"
     },
     "execution_count": 348,
     "metadata": {},
     "output_type": "execute_result"
    }
   ],
   "source": [
    "len([i for i in learned_kde.arcs() if \"class\" in i])"
   ],
   "metadata": {
    "collapsed": false,
    "ExecuteTime": {
     "end_time": "2024-01-25T11:17:46.109530940Z",
     "start_time": "2024-01-25T11:17:46.108537216Z"
    }
   },
   "id": "2e8e5399f79bccc",
   "execution_count": 348
  },
  {
   "cell_type": "code",
   "outputs": [
    {
     "name": "stdout",
     "output_type": "stream",
     "text": [
      "Hill climbing with val-lik\n",
      "MSE: 0.2832163635855585\n",
      "LL: -43.79869823891915\n",
      "KDE%: 66.0\n",
      "Num arcs: 66.0\n",
      "Time: 13.86982524394989\n",
      "--------\n",
      "Hill climbing with cv-lik\n",
      "MSE: 0.4306710031021491\n",
      "LL: -27.717231864352186\n",
      "KDE%: 100.0\n",
      "Num arcs: 100.0\n",
      "Time: 128.51258292198182\n",
      "--------\n",
      "MMHC with val-lik\n",
      "MSE: 0.39567284998386454\n",
      "LL: -49.89193557559115\n",
      "KDE%: 49.0\n",
      "Num arcs: 49.0\n",
      "Time: 5.205733513832092\n",
      "----------\n",
      "MMHC with cv-lik\n",
      "MSE: 0.34617343234381276\n",
      "LL: -40.78854972385176\n",
      "Num arcs: 94.0\n",
      "KDE%: 94.0\n",
      "Time: 20.759317064285277\n"
     ]
    }
   ],
   "source": [
    "labels = np.zeros(shape = (len(df_test.index)))\n",
    "labels[df_test[\"class\"] == \"True\"] = 1\n",
    "\n",
    "sum_sum = []\n",
    "accuracy = []\n",
    "ll = []\n",
    "num_arcs = []\n",
    "times = []\n",
    "for i in range(10) :\n",
    "    t0 = time.time()\n",
    "    learned_kde = hc(df_train, start = naive, operators = [\"node_type\",\"arcs\"], score = \"validated-lik\", num_folds = 10)\n",
    "    #MMHC().estimate(hypot_test = test, operators = OperatorPool([ChangeNodeTypeSet(),ArcOperatorSet()]), score = CVLikelihood(df_train), bn_type = SemiparametricBNType())\n",
    "    learned_kde.fit(df_train)\n",
    "    times.append(time.time()-t0)\n",
    "    saved = predict_class(df_test, learned_kde)\n",
    "    accuracy.append(np.sum((labels-saved[\"True\"])**2) / len(df_test.index))\n",
    "    ll.append(learned_kde.slogl(df_train)/500)\n",
    "    num_arcs.append(learned_kde.num_arcs())\n",
    "    sum = 0\n",
    "    for j in learned_kde.nodes()[:-2] :    \n",
    "        if isinstance(learned_kde.cpd(j), CKDE) or isinstance(learned_kde.cpd(j), HCKDE) :\n",
    "            sum = sum + 1\n",
    "    sum_sum.append(sum/10*100)\n",
    "print(\"Hill climbing with val-lik\")\n",
    "print(\"MSE:\",np.mean(accuracy))\n",
    "print(\"LL:\",np.mean(ll))\n",
    "print(\"KDE%:\",np.mean(sum_sum))\n",
    "print(\"Num arcs:\",np.mean(sum_sum))\n",
    "print(\"Time:\",np.mean(times))\n",
    "print(\"--------\")\n",
    "\n",
    "sum_sum = []\n",
    "accuracy = []\n",
    "ll = []\n",
    "num_arcs = []\n",
    "times = []\n",
    "for i in range(10) :\n",
    "    t0 = time.time()\n",
    "    learned_kde = hc(df_train, start = naive, operators = [\"node_type\",\"arcs\"], score = \"cv-lik\", num_folds = 10)\n",
    "    #MMHC().estimate(hypot_test = test, operators = OperatorPool([ChangeNodeTypeSet(),ArcOperatorSet()]), score = CVLikelihood(df_train), bn_type = SemiparametricBNType())\n",
    "    learned_kde.fit(df_train)\n",
    "    times.append(time.time()-t0)\n",
    "    saved = predict_class(df_test, learned_kde)\n",
    "    accuracy.append(np.sum((labels-saved[\"True\"])**2) / len(df_test.index))\n",
    "    ll.append(learned_kde.slogl(df_train)/500)\n",
    "    num_arcs.append(learned_kde.num_arcs())\n",
    "    sum = 0\n",
    "    for j in learned_kde.nodes()[:-2] :    \n",
    "        if isinstance(learned_kde.cpd(j), CKDE) or isinstance(learned_kde.cpd(j), HCKDE) :\n",
    "            sum = sum + 1\n",
    "    sum_sum.append(sum/10*100)\n",
    "print(\"Hill climbing with cv-lik\")\n",
    "print(\"MSE:\",np.mean(accuracy))\n",
    "print(\"LL:\",np.mean(ll))\n",
    "print(\"KDE%:\",np.mean(sum_sum))\n",
    "print(\"Num arcs:\",np.mean(sum_sum))\n",
    "print(\"Time:\",np.mean(times))\n",
    "print(\"--------\")\n",
    "\n",
    "sum_sum = []\n",
    "accuracy = []\n",
    "ll = []\n",
    "num_arcs = []\n",
    "times = []\n",
    "for i in range(10) :\n",
    "    t0 = time.time()\n",
    "    #learned_kde = hc(df_train, start = naive, operators = [\"node_type\",\"arcs\"], score = \"holdout-lik\", num_folds = 10)\n",
    "    learned_kde = MMHC().estimate(hypot_test = test, operators = OperatorPool([ChangeNodeTypeSet(),ArcOperatorSet()]), score = ValidatedLikelihood(df_train), bn_type = SemiparametricBNType())\n",
    "    learned_kde.fit(df_train)\n",
    "    times.append(time.time()-t0)\n",
    "    saved = predict_class(df_test, learned_kde)\n",
    "    accuracy.append(np.sum((labels-saved[\"True\"])**2) / len(df_test.index))\n",
    "    ll.append(learned_kde.slogl(df_train)/500)\n",
    "    num_arcs.append(learned_kde.num_arcs())\n",
    "    sum = 0\n",
    "    for j in learned_kde.nodes()[:-2] :    \n",
    "        if isinstance(learned_kde.cpd(j), CKDE) or isinstance(learned_kde.cpd(j), HCKDE) :\n",
    "            sum = sum + 1\n",
    "    sum_sum.append(sum/10*100)\n",
    "print(\"MMHC with val-lik\")\n",
    "print(\"MSE:\",np.mean(accuracy))\n",
    "print(\"LL:\",np.mean(ll))\n",
    "print(\"KDE%:\",np.mean(sum_sum))\n",
    "print(\"Num arcs:\",np.mean(sum_sum))\n",
    "print(\"Time:\",np.mean(times))\n",
    "print(\"----------\")\n",
    "\n",
    "sum_sum = []\n",
    "accuracy = []\n",
    "ll = []\n",
    "num_arcs = []\n",
    "times = []\n",
    "for i in range(10) :\n",
    "    t0 = time.time()\n",
    "    #learned_kde = hc(df_train, start = naive, operators = [\"node_type\",\"arcs\"], score = \"holdout-lik\", num_folds = 10)\n",
    "    learned_kde = MMHC().estimate(hypot_test = test, operators = OperatorPool([ChangeNodeTypeSet(),ArcOperatorSet()]), score = CVLikelihood(df_train), bn_type = SemiparametricBNType())\n",
    "    learned_kde.fit(df_train)\n",
    "    times.append(time.time()-t0)\n",
    "    saved = predict_class(df_test, learned_kde)\n",
    "    accuracy.append(np.sum((labels-saved[\"True\"])**2) / len(df_test.index))\n",
    "    ll.append(learned_kde.slogl(df_train)/500)\n",
    "    num_arcs.append(learned_kde.num_arcs())\n",
    "    sum = 0\n",
    "    for j in learned_kde.nodes()[:-2] :    \n",
    "        if isinstance(learned_kde.cpd(j), CKDE) or isinstance(learned_kde.cpd(j), HCKDE) :\n",
    "            sum = sum + 1\n",
    "    sum_sum.append(sum/10*100)\n",
    "print(\"MMHC with cv-lik\")\n",
    "print(\"MSE:\",np.mean(accuracy))\n",
    "print(\"LL:\",np.mean(ll))\n",
    "print(\"Num arcs:\",np.mean(sum_sum))\n",
    "print(\"KDE%:\",np.mean(sum_sum))\n",
    "print(\"Time:\",np.mean(times))\n"
   ],
   "metadata": {
    "collapsed": false,
    "ExecuteTime": {
     "end_time": "2024-01-25T14:12:55.084620407Z",
     "start_time": "2024-01-25T13:43:38.688349580Z"
    }
   },
   "id": "940e4c4aa86d25b8",
   "execution_count": 380
  },
  {
   "cell_type": "markdown",
   "source": [
    "Hill climbing with val-lik\n",
    "MSE: 0.2832163635855585\n",
    "LL: -43.79869823891915\n",
    "KDE%: 66.0\n",
    "Num arcs: 66.0\n",
    "Time: 13.86982524394989\n",
    "--------\n",
    "Hill climbing with cv-lik\n",
    "MSE: 0.4306710031021491\n",
    "LL: -27.717231864352186\n",
    "KDE%: 100.0\n",
    "Num arcs: 100.0\n",
    "Time: 128.51258292198182\n",
    "--------\n",
    "MMHC with val-lik\n",
    "MSE: 0.39567284998386454\n",
    "LL: -49.89193557559115\n",
    "KDE%: 49.0\n",
    "Num arcs: 49.0\n",
    "Time: 5.205733513832092\n",
    "----------\n",
    "MMHC with cv-lik\n",
    "MSE: 0.34617343234381276\n",
    "LL: -40.78854972385176\n",
    "Num arcs: 94.0\n",
    "KDE%: 94.0\n",
    "Time: 20.759317064285277"
   ],
   "metadata": {
    "collapsed": false
   },
   "id": "90be18a22327eecc"
  },
  {
   "cell_type": "code",
   "outputs": [
    {
     "name": "stdout",
     "output_type": "stream",
     "text": [
      "Hill climbing with val-lik\n",
      "MSE: 0.39 +- 0.03\n",
      "LL: -42.42 +- 7.41\n",
      "Num arcs: 24.0 +- 13.47\n",
      "KDE%: 63.0 +- 16.16\n",
      "Time: 19.96 +- 13.33\n",
      "--------\n",
      "MMHC with cv-lik\n",
      "MSE: 0.36 +- 0.01\n",
      "LL: -40.78 +- 0.42\n",
      "Num arcs: 26.5 +- 0.5\n",
      "KDE%: 92.0 +- 4.0\n",
      "Time: 18.5 +- 2.48\n"
     ]
    }
   ],
   "source": [
    "labels = np.zeros(shape = (len(df_test.index)))\n",
    "labels[df_test[\"class\"] == \"True\"] = 1\n",
    "\n",
    "sum_sum = []\n",
    "accuracy = []\n",
    "ll = []\n",
    "num_arcs = []\n",
    "times = []\n",
    "for i in range(10) :\n",
    "    t0 = time.process_time()\n",
    "    learned_kde = hc(df_train, start = naive, operators = [\"node_type\",\"arcs\"], score = \"validated-lik\", num_folds = 10)\n",
    "    #MMHC().estimate(hypot_test = test, operators = OperatorPool([ChangeNodeTypeSet(),ArcOperatorSet()]), score = CVLikelihood(df_train), bn_type = SemiparametricBNType())\n",
    "    learned_kde.fit(df_train)\n",
    "    times.append(time.process_time()-t0)\n",
    "    saved = predict_class(df_test, learned_kde)\n",
    "    accuracy.append(np.sum((labels-saved[\"True\"])**2) / len(df_test.index))\n",
    "    ll.append(learned_kde.slogl(df_train)/500)\n",
    "    num_arcs.append(learned_kde.num_arcs())\n",
    "    sum = 0\n",
    "    for j in learned_kde.nodes()[:-2] :    \n",
    "        if isinstance(learned_kde.cpd(j), CKDE) or isinstance(learned_kde.cpd(j), HCKDE) :\n",
    "            sum = sum + 1\n",
    "    sum_sum.append(sum/10*100)\n",
    "print(\"Hill climbing with val-lik\")\n",
    "print(\"MSE:\",round(np.mean(accuracy),2),\"+-\",round(np.std(accuracy),2))\n",
    "print(\"LL:\",round(np.mean(ll),2),\"+-\",round(np.std(ll),2))\n",
    "print(\"Num arcs:\",round(np.mean(num_arcs),2),\"+-\",round(np.std(num_arcs),2))\n",
    "print(\"KDE%:\",round(np.mean(sum_sum),2),\"+-\",round(np.std(sum_sum),2))\n",
    "print(\"Time:\",round(np.mean(times),2),\"+-\",round(np.std(times),2))\n",
    "print(\"--------\")\n",
    "\n",
    "\n",
    "sum_sum = []\n",
    "accuracy = []\n",
    "ll = []\n",
    "num_arcs = []\n",
    "times = []\n",
    "for i in range(10) :\n",
    "    t0 = time.process_time()\n",
    "    #learned_kde = hc(df_train, start = naive, operators = [\"node_type\",\"arcs\"], score = \"holdout-lik\", num_folds = 10)\n",
    "    learned_kde = MMHC().estimate(hypot_test = test, operators = OperatorPool([ChangeNodeTypeSet(),ArcOperatorSet()]), score = CVLikelihood(df_train), bn_type = SemiparametricBNType())\n",
    "    learned_kde.fit(df_train)\n",
    "    times.append(time.process_time()-t0)\n",
    "    saved = predict_class(df_test, learned_kde)\n",
    "    accuracy.append(np.sum((labels-saved[\"True\"])**2) / len(df_test.index))\n",
    "    ll.append(learned_kde.slogl(df_train)/500)\n",
    "    num_arcs.append(learned_kde.num_arcs())\n",
    "    sum = 0\n",
    "    for j in learned_kde.nodes()[:-2] :    \n",
    "        if isinstance(learned_kde.cpd(j), CKDE) or isinstance(learned_kde.cpd(j), HCKDE) :\n",
    "            sum = sum + 1\n",
    "    sum_sum.append(sum/10*100)\n",
    "print(\"MMHC with cv-lik\")\n",
    "print(\"MSE:\",round(np.mean(accuracy),2),\"+-\",round(np.std(accuracy),2))\n",
    "print(\"LL:\",round(np.mean(ll),2),\"+-\",round(np.std(ll),2))\n",
    "print(\"Num arcs:\",round(np.mean(num_arcs),2),\"+-\",round(np.std(num_arcs),2))\n",
    "print(\"KDE%:\",round(np.mean(sum_sum),2),\"+-\",round(np.std(sum_sum),2))\n",
    "print(\"Time:\",round(np.mean(times),2),\"+-\",round(np.std(times),2))"
   ],
   "metadata": {
    "collapsed": false,
    "ExecuteTime": {
     "end_time": "2024-01-25T15:21:08.344767217Z",
     "start_time": "2024-01-25T15:14:12.452997377Z"
    }
   },
   "id": "f088f344eb49580c",
   "execution_count": 381
  },
  {
   "cell_type": "code",
   "outputs": [
    {
     "name": "stdout",
     "output_type": "stream",
     "text": [
      "Hill climbing with val-lik\n",
      "MSE: 0.22 +- 0.03\n",
      "LL: -46.31 +- 10.43\n",
      "Num arcs: 16.46 +- 11.31\n",
      "Class arcs: 1.22 +- 1.27\n",
      "KDE%: 54.6 +- 30.54\n",
      "Time: 12.21 +- 9.09\n",
      "--------\n",
      "Hill climbing with val-lik\n",
      "MSE: 0.22 +- 0.03\n",
      "LL: -49.43 +- 8.52\n",
      "Num arcs: 12.16 +- 8.21\n",
      "Class arcs: 1.14 +- 1.4\n",
      "KDE%: 53.2 +- 30.43\n",
      "Time: 5.79 +- 4.26\n",
      "--------\n",
      "Hill climbing with val-lik\n",
      "MSE: 0.16 +- 0.0\n",
      "LL: -39.15 +- 0.29\n",
      "Num arcs: 27.36 +- 0.84\n",
      "Class arcs: 6.14 +- 0.45\n",
      "KDE%: 99.4 +- 3.1\n",
      "Time: 18.89 +- 2.76\n",
      "--------\n"
     ]
    }
   ],
   "source": [
    "df = df.sample(frac = 1)\n",
    "df_train = df.head(2000)\n",
    "df_test = df.tail(500)\n",
    "\n",
    "labels = np.zeros(shape = (len(df_test.index)))\n",
    "labels[df_test[\"class\"] == \"True\"] = 1\n",
    "\n",
    "sum_sum = []\n",
    "accuracy = []\n",
    "ll = []\n",
    "num_arcs = []\n",
    "class_arcs = []\n",
    "times = []\n",
    "for i in range(50) :\n",
    "    t0 = time.process_time()\n",
    "    learned_kde = hc(df_train, start = naive, operators = [\"node_type\",\"arcs\"], score = \"validated-lik\", num_folds = 10)\n",
    "    #MMHC().estimate(hypot_test = test, operators = OperatorPool([ChangeNodeTypeSet(),ArcOperatorSet()]), score = CVLikelihood(df_train), bn_type = SemiparametricBNType())\n",
    "    learned_kde.fit(df_train)\n",
    "    times.append(time.process_time()-t0)\n",
    "    saved = predict_class(df_test, learned_kde)\n",
    "    accuracy.append(np.sum((labels-saved[\"True\"])**2) / len(df_test.index))\n",
    "    ll.append(learned_kde.slogl(df_train)/500)\n",
    "    num_arcs.append(learned_kde.num_arcs())\n",
    "    class_arcs.append(len([j for j in learned_kde.arcs() if \"class\" in j]))\n",
    "    sum = 0\n",
    "    for j in learned_kde.nodes()[:-2] :    \n",
    "        if isinstance(learned_kde.cpd(j), CKDE) or isinstance(learned_kde.cpd(j), HCKDE) :\n",
    "            sum = sum + 1\n",
    "    sum_sum.append(sum/10*100)\n",
    "print(\"Hill climbing with val-lik\")\n",
    "print(\"MSE:\",round(np.mean(accuracy),2),\"+-\",round(np.std(accuracy),2))\n",
    "print(\"LL:\",round(np.mean(ll),2),\"+-\",round(np.std(ll),2))\n",
    "print(\"Num arcs:\",round(np.mean(num_arcs),2),\"+-\",round(np.std(num_arcs),2))\n",
    "print(\"Class arcs:\",round(np.mean(class_arcs),2),\"+-\",round(np.std(class_arcs),2))\n",
    "print(\"KDE%:\",round(np.mean(sum_sum),2),\"+-\",round(np.std(sum_sum),2))\n",
    "print(\"Time:\",round(np.mean(times),2),\"+-\",round(np.std(times),2))\n",
    "analysis_hc = pd.DataFrame(data = np.vstack([accuracy,ll,num_arcs,class_arcs,sum_sum,times]).transpose(), columns = [\"MSE\", \"logl\", \"n_arcs\", \"class_arcs\",\"kdes\", \"ptime\"])\n",
    "print(\"--------\")\n",
    "\n",
    "sum_sum = []\n",
    "accuracy = []\n",
    "ll = []\n",
    "num_arcs = []\n",
    "class_arcs = []\n",
    "times = []\n",
    "for i in range(50) :\n",
    "    t0 = time.process_time()\n",
    "    #learned_kde = hc(df_train, start = naive, operators = [\"node_type\",\"arcs\"], score = \"validated-lik\", num_folds = 10)\n",
    "    learned_kde = MMHC().estimate(hypot_test = test, operators = OperatorPool([ChangeNodeTypeSet(),ArcOperatorSet()]), score = ValidatedLikelihood(df_train), bn_type = SemiparametricBNType())\n",
    "    learned_kde.fit(df_train)\n",
    "    times.append(time.process_time()-t0)\n",
    "    saved = predict_class(df_test, learned_kde)\n",
    "    accuracy.append(np.sum((labels-saved[\"True\"])**2) / len(df_test.index))\n",
    "    ll.append(learned_kde.slogl(df_train)/500)\n",
    "    num_arcs.append(learned_kde.num_arcs())\n",
    "    class_arcs.append(len([j for j in learned_kde.arcs() if \"class\" in j]))\n",
    "    sum = 0\n",
    "    for j in learned_kde.nodes()[:-2] :    \n",
    "        if isinstance(learned_kde.cpd(j), CKDE) or isinstance(learned_kde.cpd(j), HCKDE) :\n",
    "            sum = sum + 1\n",
    "    sum_sum.append(sum/10*100)\n",
    "print(\"Hill climbing with val-lik\")\n",
    "print(\"MSE:\",round(np.mean(accuracy),2),\"+-\",round(np.std(accuracy),2))\n",
    "print(\"LL:\",round(np.mean(ll),2),\"+-\",round(np.std(ll),2))\n",
    "print(\"Num arcs:\",round(np.mean(num_arcs),2),\"+-\",round(np.std(num_arcs),2))\n",
    "print(\"Class arcs:\",round(np.mean(class_arcs),2),\"+-\",round(np.std(class_arcs),2))\n",
    "print(\"KDE%:\",round(np.mean(sum_sum),2),\"+-\",round(np.std(sum_sum),2))\n",
    "print(\"Time:\",round(np.mean(times),2),\"+-\",round(np.std(times),2))\n",
    "analysis_mmhc_val = pd.DataFrame(data = np.vstack([accuracy,ll,num_arcs,class_arcs,sum_sum,times]).transpose(), columns = [\"MSE\", \"logl\", \"n_arcs\", \"class_arcs\",\"kdes\", \"ptime\"])\n",
    "print(\"--------\")\n",
    "\n",
    "sum_sum = []\n",
    "accuracy = []\n",
    "ll = []\n",
    "num_arcs = []\n",
    "class_arcs = []\n",
    "times = []\n",
    "for i in range(50) :\n",
    "    t0 = time.process_time()\n",
    "    #learned_kde = hc(df_train, start = naive, operators = [\"node_type\",\"arcs\"], score = \"validated-lik\", num_folds = 10)\n",
    "    learned_kde = MMHC().estimate(hypot_test = test, operators = OperatorPool([ChangeNodeTypeSet(),ArcOperatorSet()]), score = CVLikelihood(df_train), bn_type = SemiparametricBNType())\n",
    "    learned_kde.fit(df_train)\n",
    "    times.append(time.process_time()-t0)\n",
    "    saved = predict_class(df_test, learned_kde)\n",
    "    accuracy.append(np.sum((labels-saved[\"True\"])**2) / len(df_test.index))\n",
    "    ll.append(learned_kde.slogl(df_train)/500)\n",
    "    num_arcs.append(learned_kde.num_arcs())\n",
    "    class_arcs.append(len([j for j in learned_kde.arcs() if \"class\" in j]))\n",
    "    sum = 0\n",
    "    for j in learned_kde.nodes()[:-2] :    \n",
    "        if isinstance(learned_kde.cpd(j), CKDE) or isinstance(learned_kde.cpd(j), HCKDE) :\n",
    "            sum = sum + 1\n",
    "    sum_sum.append(sum/10*100)\n",
    "print(\"Hill climbing with val-lik\")\n",
    "print(\"MSE:\",round(np.mean(accuracy),2),\"+-\",round(np.std(accuracy),2))\n",
    "print(\"LL:\",round(np.mean(ll),2),\"+-\",round(np.std(ll),2))\n",
    "print(\"Num arcs:\",round(np.mean(num_arcs),2),\"+-\",round(np.std(num_arcs),2))\n",
    "print(\"Class arcs:\",round(np.mean(class_arcs),2),\"+-\",round(np.std(class_arcs),2))\n",
    "print(\"KDE%:\",round(np.mean(sum_sum),2),\"+-\",round(np.std(sum_sum),2))\n",
    "print(\"Time:\",round(np.mean(times),2),\"+-\",round(np.std(times),2))\n",
    "analysis_mmhc_cv = pd.DataFrame(data = np.vstack([accuracy,ll,num_arcs,class_arcs,sum_sum,times]).transpose(), columns = [\"MSE\", \"logl\", \"n_arcs\", \"class_arcs\",\"kdes\", \"ptime\"])\n",
    "print(\"--------\")"
   ],
   "metadata": {
    "collapsed": false,
    "ExecuteTime": {
     "end_time": "2024-01-25T16:35:11.120730417Z",
     "start_time": "2024-01-25T16:02:14.221735001Z"
    }
   },
   "id": "389a3e465240c3fb",
   "execution_count": 396
  },
  {
   "cell_type": "code",
   "outputs": [
    {
     "data": {
      "text/plain": "         MSE       logl  n_arcs  class_arcs  kdes      ptime\n0   0.244384 -43.018614    17.0         1.0  60.0  10.833885\n1   0.177075 -34.551579    36.0         4.0  90.0  27.276015\n2   0.197943 -43.079298    17.0         1.0  60.0  11.546251\n3   0.216749 -47.534548    11.0         1.0  60.0   6.697710\n4   0.194404 -36.607270    30.0         3.0  90.0  21.945917\n5   0.216749 -44.772460    13.0         1.0  60.0   9.123855\n6   0.244384 -42.870112    17.0         1.0  60.0  10.537385\n7   0.250076 -61.843395     1.0         0.0  10.0   0.383535\n8   0.216749 -42.178945    17.0         1.0  70.0  12.621452\n9   0.250076 -44.980750    13.0         0.0  50.0   9.330226\n10  0.182381 -35.097220    35.0         4.0  90.0  25.809887\n11  0.250076 -63.340838     0.0         0.0  10.0   0.397593\n12  0.179099 -36.307605    30.0         4.0  90.0  25.446741\n13  0.250076 -64.963647     0.0         0.0   0.0   0.098263\n14  0.250076 -45.467232    13.0         0.0  50.0   8.728723\n15  0.181546 -36.581345    31.0         3.0  80.0  22.352986\n16  0.244384 -42.588453    18.0         1.0  60.0  12.368445\n17  0.186839 -33.681247    35.0         3.0  90.0  30.171912\n18  0.200731 -40.227067    20.0         1.0  70.0  17.243977\n19  0.223308 -39.534882    25.0         1.0  70.0  17.247421\n20  0.197957 -39.603252    22.0         2.0  80.0  18.039863\n21  0.250076 -64.963647     0.0         0.0   0.0   0.095481\n22  0.250076 -60.503673     2.0         0.0  10.0   0.437023\n23  0.250076 -56.246188     5.0         0.0  30.0   2.620063\n24  0.250076 -56.128786     5.0         0.0  30.0   2.169051\n25  0.250076 -45.624250    13.0         0.0  50.0   8.475510\n26  0.191855 -35.198201    31.0         2.0  90.0  24.853441\n27  0.182084 -35.100893    30.0         2.0  90.0  25.369580\n28  0.250076 -61.843395     1.0         0.0  10.0   0.414894\n29  0.250076 -56.246188     5.0         0.0  30.0   2.598486\n30  0.195223 -38.036600    27.0         2.0  80.0  19.837149\n31  0.250076 -45.615734    13.0         0.0  50.0   8.431430\n32  0.250076 -45.850157    11.0         0.0  60.0   6.078611\n33  0.250076 -64.963647     0.0         0.0   0.0   0.084220\n34  0.192132 -39.303031    22.0         2.0  80.0  17.916262\n35  0.207100 -40.790272    18.0         1.0  70.0  14.170189\n36  0.187501 -36.193067    32.0         3.0  90.0  24.002018\n37  0.207100 -42.160016    18.0         1.0  70.0  10.913497\n38  0.198350 -38.550995    25.0         1.0  70.0  18.873422\n39  0.207100 -41.225678    18.0         1.0  70.0  13.738551\n40  0.183761 -39.605774    24.0         2.0  70.0  17.459574\n41  0.250076 -64.963647     0.0         0.0   0.0   0.099755\n42  0.173735 -36.766162    30.0         4.0  80.0  24.344421\n43  0.200035 -42.641178    19.0         3.0  60.0  11.627325\n44  0.250076 -64.963647     0.0         0.0   0.0   0.085078\n45  0.195223 -40.710235    23.0         2.0  70.0  16.286405\n46  0.200731 -38.755754    22.0         1.0  80.0  18.788738\n47  0.250076 -64.963647     0.0         0.0   0.0   0.098532\n48  0.250076 -61.843395     1.0         0.0  10.0   0.413396\n49  0.189747 -36.827368    27.0         2.0  80.0  22.042181",
      "text/html": "<div>\n<style scoped>\n    .dataframe tbody tr th:only-of-type {\n        vertical-align: middle;\n    }\n\n    .dataframe tbody tr th {\n        vertical-align: top;\n    }\n\n    .dataframe thead th {\n        text-align: right;\n    }\n</style>\n<table border=\"1\" class=\"dataframe\">\n  <thead>\n    <tr style=\"text-align: right;\">\n      <th></th>\n      <th>MSE</th>\n      <th>logl</th>\n      <th>n_arcs</th>\n      <th>class_arcs</th>\n      <th>kdes</th>\n      <th>ptime</th>\n    </tr>\n  </thead>\n  <tbody>\n    <tr>\n      <th>0</th>\n      <td>0.244384</td>\n      <td>-43.018614</td>\n      <td>17.0</td>\n      <td>1.0</td>\n      <td>60.0</td>\n      <td>10.833885</td>\n    </tr>\n    <tr>\n      <th>1</th>\n      <td>0.177075</td>\n      <td>-34.551579</td>\n      <td>36.0</td>\n      <td>4.0</td>\n      <td>90.0</td>\n      <td>27.276015</td>\n    </tr>\n    <tr>\n      <th>2</th>\n      <td>0.197943</td>\n      <td>-43.079298</td>\n      <td>17.0</td>\n      <td>1.0</td>\n      <td>60.0</td>\n      <td>11.546251</td>\n    </tr>\n    <tr>\n      <th>3</th>\n      <td>0.216749</td>\n      <td>-47.534548</td>\n      <td>11.0</td>\n      <td>1.0</td>\n      <td>60.0</td>\n      <td>6.697710</td>\n    </tr>\n    <tr>\n      <th>4</th>\n      <td>0.194404</td>\n      <td>-36.607270</td>\n      <td>30.0</td>\n      <td>3.0</td>\n      <td>90.0</td>\n      <td>21.945917</td>\n    </tr>\n    <tr>\n      <th>5</th>\n      <td>0.216749</td>\n      <td>-44.772460</td>\n      <td>13.0</td>\n      <td>1.0</td>\n      <td>60.0</td>\n      <td>9.123855</td>\n    </tr>\n    <tr>\n      <th>6</th>\n      <td>0.244384</td>\n      <td>-42.870112</td>\n      <td>17.0</td>\n      <td>1.0</td>\n      <td>60.0</td>\n      <td>10.537385</td>\n    </tr>\n    <tr>\n      <th>7</th>\n      <td>0.250076</td>\n      <td>-61.843395</td>\n      <td>1.0</td>\n      <td>0.0</td>\n      <td>10.0</td>\n      <td>0.383535</td>\n    </tr>\n    <tr>\n      <th>8</th>\n      <td>0.216749</td>\n      <td>-42.178945</td>\n      <td>17.0</td>\n      <td>1.0</td>\n      <td>70.0</td>\n      <td>12.621452</td>\n    </tr>\n    <tr>\n      <th>9</th>\n      <td>0.250076</td>\n      <td>-44.980750</td>\n      <td>13.0</td>\n      <td>0.0</td>\n      <td>50.0</td>\n      <td>9.330226</td>\n    </tr>\n    <tr>\n      <th>10</th>\n      <td>0.182381</td>\n      <td>-35.097220</td>\n      <td>35.0</td>\n      <td>4.0</td>\n      <td>90.0</td>\n      <td>25.809887</td>\n    </tr>\n    <tr>\n      <th>11</th>\n      <td>0.250076</td>\n      <td>-63.340838</td>\n      <td>0.0</td>\n      <td>0.0</td>\n      <td>10.0</td>\n      <td>0.397593</td>\n    </tr>\n    <tr>\n      <th>12</th>\n      <td>0.179099</td>\n      <td>-36.307605</td>\n      <td>30.0</td>\n      <td>4.0</td>\n      <td>90.0</td>\n      <td>25.446741</td>\n    </tr>\n    <tr>\n      <th>13</th>\n      <td>0.250076</td>\n      <td>-64.963647</td>\n      <td>0.0</td>\n      <td>0.0</td>\n      <td>0.0</td>\n      <td>0.098263</td>\n    </tr>\n    <tr>\n      <th>14</th>\n      <td>0.250076</td>\n      <td>-45.467232</td>\n      <td>13.0</td>\n      <td>0.0</td>\n      <td>50.0</td>\n      <td>8.728723</td>\n    </tr>\n    <tr>\n      <th>15</th>\n      <td>0.181546</td>\n      <td>-36.581345</td>\n      <td>31.0</td>\n      <td>3.0</td>\n      <td>80.0</td>\n      <td>22.352986</td>\n    </tr>\n    <tr>\n      <th>16</th>\n      <td>0.244384</td>\n      <td>-42.588453</td>\n      <td>18.0</td>\n      <td>1.0</td>\n      <td>60.0</td>\n      <td>12.368445</td>\n    </tr>\n    <tr>\n      <th>17</th>\n      <td>0.186839</td>\n      <td>-33.681247</td>\n      <td>35.0</td>\n      <td>3.0</td>\n      <td>90.0</td>\n      <td>30.171912</td>\n    </tr>\n    <tr>\n      <th>18</th>\n      <td>0.200731</td>\n      <td>-40.227067</td>\n      <td>20.0</td>\n      <td>1.0</td>\n      <td>70.0</td>\n      <td>17.243977</td>\n    </tr>\n    <tr>\n      <th>19</th>\n      <td>0.223308</td>\n      <td>-39.534882</td>\n      <td>25.0</td>\n      <td>1.0</td>\n      <td>70.0</td>\n      <td>17.247421</td>\n    </tr>\n    <tr>\n      <th>20</th>\n      <td>0.197957</td>\n      <td>-39.603252</td>\n      <td>22.0</td>\n      <td>2.0</td>\n      <td>80.0</td>\n      <td>18.039863</td>\n    </tr>\n    <tr>\n      <th>21</th>\n      <td>0.250076</td>\n      <td>-64.963647</td>\n      <td>0.0</td>\n      <td>0.0</td>\n      <td>0.0</td>\n      <td>0.095481</td>\n    </tr>\n    <tr>\n      <th>22</th>\n      <td>0.250076</td>\n      <td>-60.503673</td>\n      <td>2.0</td>\n      <td>0.0</td>\n      <td>10.0</td>\n      <td>0.437023</td>\n    </tr>\n    <tr>\n      <th>23</th>\n      <td>0.250076</td>\n      <td>-56.246188</td>\n      <td>5.0</td>\n      <td>0.0</td>\n      <td>30.0</td>\n      <td>2.620063</td>\n    </tr>\n    <tr>\n      <th>24</th>\n      <td>0.250076</td>\n      <td>-56.128786</td>\n      <td>5.0</td>\n      <td>0.0</td>\n      <td>30.0</td>\n      <td>2.169051</td>\n    </tr>\n    <tr>\n      <th>25</th>\n      <td>0.250076</td>\n      <td>-45.624250</td>\n      <td>13.0</td>\n      <td>0.0</td>\n      <td>50.0</td>\n      <td>8.475510</td>\n    </tr>\n    <tr>\n      <th>26</th>\n      <td>0.191855</td>\n      <td>-35.198201</td>\n      <td>31.0</td>\n      <td>2.0</td>\n      <td>90.0</td>\n      <td>24.853441</td>\n    </tr>\n    <tr>\n      <th>27</th>\n      <td>0.182084</td>\n      <td>-35.100893</td>\n      <td>30.0</td>\n      <td>2.0</td>\n      <td>90.0</td>\n      <td>25.369580</td>\n    </tr>\n    <tr>\n      <th>28</th>\n      <td>0.250076</td>\n      <td>-61.843395</td>\n      <td>1.0</td>\n      <td>0.0</td>\n      <td>10.0</td>\n      <td>0.414894</td>\n    </tr>\n    <tr>\n      <th>29</th>\n      <td>0.250076</td>\n      <td>-56.246188</td>\n      <td>5.0</td>\n      <td>0.0</td>\n      <td>30.0</td>\n      <td>2.598486</td>\n    </tr>\n    <tr>\n      <th>30</th>\n      <td>0.195223</td>\n      <td>-38.036600</td>\n      <td>27.0</td>\n      <td>2.0</td>\n      <td>80.0</td>\n      <td>19.837149</td>\n    </tr>\n    <tr>\n      <th>31</th>\n      <td>0.250076</td>\n      <td>-45.615734</td>\n      <td>13.0</td>\n      <td>0.0</td>\n      <td>50.0</td>\n      <td>8.431430</td>\n    </tr>\n    <tr>\n      <th>32</th>\n      <td>0.250076</td>\n      <td>-45.850157</td>\n      <td>11.0</td>\n      <td>0.0</td>\n      <td>60.0</td>\n      <td>6.078611</td>\n    </tr>\n    <tr>\n      <th>33</th>\n      <td>0.250076</td>\n      <td>-64.963647</td>\n      <td>0.0</td>\n      <td>0.0</td>\n      <td>0.0</td>\n      <td>0.084220</td>\n    </tr>\n    <tr>\n      <th>34</th>\n      <td>0.192132</td>\n      <td>-39.303031</td>\n      <td>22.0</td>\n      <td>2.0</td>\n      <td>80.0</td>\n      <td>17.916262</td>\n    </tr>\n    <tr>\n      <th>35</th>\n      <td>0.207100</td>\n      <td>-40.790272</td>\n      <td>18.0</td>\n      <td>1.0</td>\n      <td>70.0</td>\n      <td>14.170189</td>\n    </tr>\n    <tr>\n      <th>36</th>\n      <td>0.187501</td>\n      <td>-36.193067</td>\n      <td>32.0</td>\n      <td>3.0</td>\n      <td>90.0</td>\n      <td>24.002018</td>\n    </tr>\n    <tr>\n      <th>37</th>\n      <td>0.207100</td>\n      <td>-42.160016</td>\n      <td>18.0</td>\n      <td>1.0</td>\n      <td>70.0</td>\n      <td>10.913497</td>\n    </tr>\n    <tr>\n      <th>38</th>\n      <td>0.198350</td>\n      <td>-38.550995</td>\n      <td>25.0</td>\n      <td>1.0</td>\n      <td>70.0</td>\n      <td>18.873422</td>\n    </tr>\n    <tr>\n      <th>39</th>\n      <td>0.207100</td>\n      <td>-41.225678</td>\n      <td>18.0</td>\n      <td>1.0</td>\n      <td>70.0</td>\n      <td>13.738551</td>\n    </tr>\n    <tr>\n      <th>40</th>\n      <td>0.183761</td>\n      <td>-39.605774</td>\n      <td>24.0</td>\n      <td>2.0</td>\n      <td>70.0</td>\n      <td>17.459574</td>\n    </tr>\n    <tr>\n      <th>41</th>\n      <td>0.250076</td>\n      <td>-64.963647</td>\n      <td>0.0</td>\n      <td>0.0</td>\n      <td>0.0</td>\n      <td>0.099755</td>\n    </tr>\n    <tr>\n      <th>42</th>\n      <td>0.173735</td>\n      <td>-36.766162</td>\n      <td>30.0</td>\n      <td>4.0</td>\n      <td>80.0</td>\n      <td>24.344421</td>\n    </tr>\n    <tr>\n      <th>43</th>\n      <td>0.200035</td>\n      <td>-42.641178</td>\n      <td>19.0</td>\n      <td>3.0</td>\n      <td>60.0</td>\n      <td>11.627325</td>\n    </tr>\n    <tr>\n      <th>44</th>\n      <td>0.250076</td>\n      <td>-64.963647</td>\n      <td>0.0</td>\n      <td>0.0</td>\n      <td>0.0</td>\n      <td>0.085078</td>\n    </tr>\n    <tr>\n      <th>45</th>\n      <td>0.195223</td>\n      <td>-40.710235</td>\n      <td>23.0</td>\n      <td>2.0</td>\n      <td>70.0</td>\n      <td>16.286405</td>\n    </tr>\n    <tr>\n      <th>46</th>\n      <td>0.200731</td>\n      <td>-38.755754</td>\n      <td>22.0</td>\n      <td>1.0</td>\n      <td>80.0</td>\n      <td>18.788738</td>\n    </tr>\n    <tr>\n      <th>47</th>\n      <td>0.250076</td>\n      <td>-64.963647</td>\n      <td>0.0</td>\n      <td>0.0</td>\n      <td>0.0</td>\n      <td>0.098532</td>\n    </tr>\n    <tr>\n      <th>48</th>\n      <td>0.250076</td>\n      <td>-61.843395</td>\n      <td>1.0</td>\n      <td>0.0</td>\n      <td>10.0</td>\n      <td>0.413396</td>\n    </tr>\n    <tr>\n      <th>49</th>\n      <td>0.189747</td>\n      <td>-36.827368</td>\n      <td>27.0</td>\n      <td>2.0</td>\n      <td>80.0</td>\n      <td>22.042181</td>\n    </tr>\n  </tbody>\n</table>\n</div>"
     },
     "execution_count": 414,
     "metadata": {},
     "output_type": "execute_result"
    }
   ],
   "source": [
    "analysis_hc"
   ],
   "metadata": {
    "collapsed": false,
    "ExecuteTime": {
     "end_time": "2024-01-25T16:50:49.368237588Z",
     "start_time": "2024-01-25T16:50:49.330390625Z"
    }
   },
   "id": "516d36e9571726af",
   "execution_count": 414
  },
  {
   "cell_type": "code",
   "outputs": [
    {
     "data": {
      "text/plain": "         MSE       logl  n_arcs  class_arcs  kdes      ptime\n1   0.177075 -34.551579    36.0         4.0  90.0  27.276015\n10  0.182381 -35.097220    35.0         4.0  90.0  25.809887\n12  0.179099 -36.307605    30.0         4.0  90.0  25.446741\n42  0.173735 -36.766162    30.0         4.0  80.0  24.344421",
      "text/html": "<div>\n<style scoped>\n    .dataframe tbody tr th:only-of-type {\n        vertical-align: middle;\n    }\n\n    .dataframe tbody tr th {\n        vertical-align: top;\n    }\n\n    .dataframe thead th {\n        text-align: right;\n    }\n</style>\n<table border=\"1\" class=\"dataframe\">\n  <thead>\n    <tr style=\"text-align: right;\">\n      <th></th>\n      <th>MSE</th>\n      <th>logl</th>\n      <th>n_arcs</th>\n      <th>class_arcs</th>\n      <th>kdes</th>\n      <th>ptime</th>\n    </tr>\n  </thead>\n  <tbody>\n    <tr>\n      <th>1</th>\n      <td>0.177075</td>\n      <td>-34.551579</td>\n      <td>36.0</td>\n      <td>4.0</td>\n      <td>90.0</td>\n      <td>27.276015</td>\n    </tr>\n    <tr>\n      <th>10</th>\n      <td>0.182381</td>\n      <td>-35.097220</td>\n      <td>35.0</td>\n      <td>4.0</td>\n      <td>90.0</td>\n      <td>25.809887</td>\n    </tr>\n    <tr>\n      <th>12</th>\n      <td>0.179099</td>\n      <td>-36.307605</td>\n      <td>30.0</td>\n      <td>4.0</td>\n      <td>90.0</td>\n      <td>25.446741</td>\n    </tr>\n    <tr>\n      <th>42</th>\n      <td>0.173735</td>\n      <td>-36.766162</td>\n      <td>30.0</td>\n      <td>4.0</td>\n      <td>80.0</td>\n      <td>24.344421</td>\n    </tr>\n  </tbody>\n</table>\n</div>"
     },
     "execution_count": 412,
     "metadata": {},
     "output_type": "execute_result"
    }
   ],
   "source": [
    "analysis_hc[analysis_hc[\"class_arcs\"]==4]"
   ],
   "metadata": {
    "collapsed": false,
    "ExecuteTime": {
     "end_time": "2024-01-25T16:50:12.729622559Z",
     "start_time": "2024-01-25T16:50:12.655402430Z"
    }
   },
   "id": "646a376ef4c86409",
   "execution_count": 412
  },
  {
   "cell_type": "code",
   "outputs": [
    {
     "data": {
      "text/plain": "KstestResult(statistic=0.06431654899817901, pvalue=1.253587757507702e-09, statistic_location=-0.5362215669681757, statistic_sign=1)"
     },
     "execution_count": 416,
     "metadata": {},
     "output_type": "execute_result"
    }
   ],
   "source": [
    "from scipy.stats import kstest\n",
    "from scipy.stats import lognorm\n",
    "\n",
    "kstest(df[\"density\"], 'norm')\n"
   ],
   "metadata": {
    "collapsed": false,
    "ExecuteTime": {
     "end_time": "2024-01-25T16:52:23.807759213Z",
     "start_time": "2024-01-25T16:52:23.737713341Z"
    }
   },
   "id": "facf4a89580326dd",
   "execution_count": 416
  },
  {
   "cell_type": "code",
   "outputs": [
    {
     "name": "stdout",
     "output_type": "stream",
     "text": [
      "100.0\n"
     ]
    }
   ],
   "source": [
    "sum = 0\n",
    "for i in learned_kde.nodes()[:-2] :    \n",
    "    if isinstance(learned_kde.cpd(i), CKDE) or isinstance(learned_kde.cpd(i), HCKDE) :\n",
    "        sum = sum + 1\n",
    "print(sum/10 * 100)"
   ],
   "metadata": {
    "collapsed": false,
    "ExecuteTime": {
     "end_time": "2024-01-25T12:42:17.128866663Z",
     "start_time": "2024-01-25T12:42:17.123328436Z"
    }
   },
   "id": "965c1c72b5d5195a",
   "execution_count": 372
  },
  {
   "cell_type": "code",
   "outputs": [
    {
     "data": {
      "text/plain": "0.4489779380314274"
     },
     "execution_count": 356,
     "metadata": {},
     "output_type": "execute_result"
    }
   ],
   "source": [
    "me_hc_h = 0.564\n",
    "me_mmhc_h = 0.52\n",
    "me_hc_cv = 0.59\n",
    "me_mmhc_cv = 0.46"
   ],
   "metadata": {
    "collapsed": false,
    "ExecuteTime": {
     "end_time": "2024-01-25T11:28:17.127010536Z",
     "start_time": "2024-01-25T11:28:17.116824646Z"
    }
   },
   "id": "e845ecb845e0e0b8",
   "execution_count": 356
  },
  {
   "cell_type": "code",
   "outputs": [
    {
     "data": {
      "text/plain": "[('class', 'citric acid'), ('class', 'alcohol')]"
     },
     "execution_count": 394,
     "metadata": {},
     "output_type": "execute_result"
    }
   ],
   "source": [
    "len([i for i in learned_kde.arcs() if \"class\" in i])"
   ],
   "metadata": {
    "collapsed": false,
    "ExecuteTime": {
     "end_time": "2024-01-25T15:57:35.443685692Z",
     "start_time": "2024-01-25T15:57:35.403694591Z"
    }
   },
   "id": "345dc2f166095084",
   "execution_count": 394
  },
  {
   "cell_type": "code",
   "outputs": [
    {
     "data": {
      "text/plain": "array([0.5])"
     },
     "execution_count": 54,
     "metadata": {},
     "output_type": "execute_result"
    }
   ],
   "source": [
    "accuracy(instance.drop(\"class\", axis = 1), \"True\", learned_kde)/"
   ],
   "metadata": {
    "collapsed": false,
    "ExecuteTime": {
     "end_time": "2024-01-24T18:49:37.272247172Z",
     "start_time": "2024-01-24T18:49:37.238528573Z"
    }
   },
   "id": "c1f2876ded385dc6",
   "execution_count": 54
  },
  {
   "cell_type": "code",
   "outputs": [
    {
     "name": "stderr",
     "output_type": "stream",
     "text": [
      "/tmp/ipykernel_22436/3126163979.py:2: SettingWithCopyWarning: \n",
      "A value is trying to be set on a copy of a slice from a DataFrame.\n",
      "Try using .loc[row_indexer,col_indexer] = value instead\n",
      "\n",
      "See the caveats in the documentation: https://pandas.pydata.org/pandas-docs/stable/user_guide/indexing.html#returning-a-view-versus-a-copy\n",
      "  instance[\"class\"] = pd.Categorical([\"False\"], categories=learned_kde.cpd(\"class\").variable_values())\n"
     ]
    },
    {
     "data": {
      "text/plain": "array([0.03584753])"
     },
     "execution_count": 60,
     "metadata": {},
     "output_type": "execute_result"
    }
   ],
   "source": [
    "instance = df.iloc[[0]]\n",
    "instance[\"class\"] = pd.Categorical([\"False\"], categories=learned_kde.cpd(\"class\").variable_values())\n",
    "(math.e ** learned.logl(instance)) / likelihood(instance.drop(\"class\", axis = 1), learned_kde)"
   ],
   "metadata": {
    "collapsed": false,
    "ExecuteTime": {
     "end_time": "2024-01-24T18:51:40.325807154Z",
     "start_time": "2024-01-24T18:51:40.282277509Z"
    }
   },
   "id": "301a011e730c8804",
   "execution_count": 60
  },
  {
   "cell_type": "code",
   "outputs": [],
   "source": [
    "n_vertex = 0\n",
    "x_og = df.iloc[[0]]\n",
    "bayesace = BayesACE(bayesian_network=learned_kde, features= df.columns[:-1], n_vertex=n_vertex, chunks = 100, penalty=1, pop_size=50, likelihood_threshold=0.0, accuracy_threshold= 0.5, generations=10)\n",
    "res = bayesace.run(x_og)"
   ],
   "metadata": {
    "collapsed": false
   },
   "id": "8cfd86dcf24ccfb8",
   "execution_count": null
  },
  {
   "cell_type": "code",
   "outputs": [],
   "source": [
    "res.counterfactual"
   ],
   "metadata": {
    "collapsed": false
   },
   "id": "4e57fbf8b7268ab4",
   "execution_count": null
  },
  {
   "cell_type": "code",
   "outputs": [],
   "source": [
    "df.iloc[0]"
   ],
   "metadata": {
    "collapsed": false
   },
   "id": "afe42a234542fccd",
   "execution_count": null
  },
  {
   "cell_type": "code",
   "outputs": [],
   "source": [
    "x_1 = x_og.drop(\"class\",axis = 1)\n",
    "df_vertex = res.path\n",
    "to_plot = df.drop(\"class\", axis = 1)\n",
    "colours = df[\"class\"].to_numpy()\n",
    "colours[colours == \"a\"] = \"green\"\n",
    "colours[colours == \"b\"] = \"yellow\"\n",
    "colours[colours == \"c\"] = \"blue\"\n",
    "plt.scatter(to_plot[\"x\"],to_plot[\"y\"], color = colours)\n",
    "plt.plot(df_vertex.x,df_vertex.y,color = \"red\")\n",
    "plt.show()"
   ],
   "metadata": {
    "collapsed": false
   },
   "id": "d0088520ea1193ef",
   "execution_count": null
  },
  {
   "cell_type": "code",
   "outputs": [],
   "source": [
    "n_vertex = 1\n",
    "x_og = df.iloc[[0]]\n",
    "face = FACE(bayesian_network=learned_kde, features= df.columns[:-1], dataset=df.drop(\"class\", axis = 1), graph_type = \"epsilon\", chunks = 10, penalty=1, distance_threshold=0.75, accuracy_threshold= 0.5, verbose = False)\n",
    "res = face.run(x_og)"
   ],
   "metadata": {
    "collapsed": false
   },
   "id": "4c0ddeead002c66d",
   "execution_count": null
  },
  {
   "cell_type": "code",
   "outputs": [],
   "source": [
    "x_1 = x_og.drop(\"class\",axis = 1)\n",
    "df_vertex = res.path\n",
    "to_plot = df.drop(\"class\", axis = 1)\n",
    "colours = df[\"class\"].to_numpy()\n",
    "colours[colours == \"a\"] = \"green\"\n",
    "colours[colours == \"b\"] = \"yellow\"\n",
    "colours[colours == \"c\"] = \"blue\"\n",
    "plt.scatter(to_plot[\"x\"],to_plot[\"y\"], color = colours)\n",
    "plt.plot(df_vertex.x,df_vertex.y,color = \"red\")\n",
    "plt.show()"
   ],
   "metadata": {
    "collapsed": false
   },
   "id": "7b612900b31fbb1f",
   "execution_count": null
  },
  {
   "cell_type": "code",
   "outputs": [],
   "source": [],
   "metadata": {
    "collapsed": false
   },
   "id": "b82c14ba5c70a842",
   "execution_count": null
  },
  {
   "cell_type": "code",
   "outputs": [],
   "source": [],
   "metadata": {
    "collapsed": false
   },
   "id": "a2b9132171b37496"
  }
 ],
 "metadata": {
  "kernelspec": {
   "display_name": "Python 3 (ipykernel)",
   "language": "python",
   "name": "python3"
  },
  "language_info": {
   "codemirror_mode": {
    "name": "ipython",
    "version": 3
   },
   "file_extension": ".py",
   "mimetype": "text/x-python",
   "name": "python",
   "nbconvert_exporter": "python",
   "pygments_lexer": "ipython3",
   "version": "3.10.13"
  }
 },
 "nbformat": 4,
 "nbformat_minor": 5
}
