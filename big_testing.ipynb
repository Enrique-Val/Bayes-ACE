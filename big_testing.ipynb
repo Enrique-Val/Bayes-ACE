{
 "cells": [
  {
   "cell_type": "code",
   "execution_count": 1,
   "id": "e5624c71",
   "metadata": {
    "ExecuteTime": {
     "end_time": "2024-02-01T10:41:01.223009317Z",
     "start_time": "2024-02-01T10:40:59.802263619Z"
    }
   },
   "outputs": [],
   "source": [
    "import random\n",
    "\n",
    "import pandas as pd\n",
    "import numpy as np\n",
    "from pybnesian import hc, CLGNetworkType, SemiparametricBNType, SemiparametricBN, MMHC, RCoT, MutualInformation, KMutualInformation, OperatorSet, Score, OperatorPool, ChangeNodeTypeSet, ArcOperatorSet, HoldoutLikelihood, BIC, BGe, CVLikelihood, CKDE, HCKDE, ValidatedLikelihood\n",
    "#from drawdata import draw_scatter\n",
    "import matplotlib.pyplot as plt\n",
    "\n",
    "from bayesace.utils import *\n",
    "from bayesace.algorithms.bayesace_algortihm import BayesACE\n",
    "from bayesace.algorithms.face import FACE\n",
    "\n",
    "from sklearn.preprocessing import StandardScaler\n",
    "import openml as oml\n",
    "\n",
    "import time\n"
   ]
  },
  {
   "cell_type": "code",
   "outputs": [
    {
     "name": "stderr",
     "output_type": "stream",
     "text": [
      "/tmp/ipykernel_377621/1030542227.py:1: FutureWarning: Starting from Version 0.15 `download_data`, `download_qualities`, and `download_features_meta_data` will all be ``False`` instead of ``True`` by default to enable lazy loading. To disable this message until version 0.15 explicitly set `download_data`, `download_qualities`, and `download_features_meta_data` to a bool while calling `get_dataset`.\n",
      "  df = oml.datasets.get_dataset(44091).get_data()[0]\n"
     ]
    }
   ],
   "source": [
    "df = oml.datasets.get_dataset(44091).get_data()[0]\n"
   ],
   "metadata": {
    "collapsed": false,
    "ExecuteTime": {
     "end_time": "2024-02-01T10:41:01.289978477Z",
     "start_time": "2024-02-01T10:41:01.222395668Z"
    }
   },
   "id": "b713b8e2c9ac3e2d",
   "execution_count": 2
  },
  {
   "cell_type": "code",
   "outputs": [],
   "source": [
    "df[\"class\"] = df[\"quality\"].astype('string').astype('category')\n",
    "df = df.drop(\"quality\", axis=1)"
   ],
   "metadata": {
    "collapsed": false,
    "ExecuteTime": {
     "end_time": "2024-02-01T10:41:01.291535790Z",
     "start_time": "2024-02-01T10:41:01.276370713Z"
    }
   },
   "id": "496ccf5e8c035444",
   "execution_count": 3
  },
  {
   "cell_type": "code",
   "outputs": [],
   "source": [
    "naive = SemiparametricBN(df.columns)\n",
    "feature_columns = [i for i in df.columns if i != \"class\"]\n",
    "df[feature_columns] = StandardScaler().fit_transform(df[feature_columns].values)"
   ],
   "metadata": {
    "collapsed": false,
    "ExecuteTime": {
     "end_time": "2024-02-01T10:41:01.371864670Z",
     "start_time": "2024-02-01T10:41:01.279929253Z"
    }
   },
   "id": "5ba5381e91a90da0",
   "execution_count": 4
  },
  {
   "cell_type": "code",
   "outputs": [],
   "source": [
    "for i in [i for i in df.columns if i != \"class\"] :\n",
    "    naive.add_arc(\"class\", i)"
   ],
   "metadata": {
    "collapsed": false,
    "ExecuteTime": {
     "end_time": "2024-02-01T10:41:01.373144813Z",
     "start_time": "2024-02-01T10:41:01.322309087Z"
    }
   },
   "id": "cb6ae853c99c4d4a",
   "execution_count": 5
  },
  {
   "cell_type": "code",
   "outputs": [],
   "source": [
    "df_train = df.head(2000)\n",
    "df_test = df.tail(500)"
   ],
   "metadata": {
    "collapsed": false,
    "ExecuteTime": {
     "end_time": "2024-02-01T10:41:01.591005648Z",
     "start_time": "2024-02-01T10:41:01.540965997Z"
    }
   },
   "id": "7c908f26fcc1d9fc",
   "execution_count": 6
  },
  {
   "cell_type": "code",
   "execution_count": 8,
   "id": "eb6a2ef3",
   "metadata": {
    "ExecuteTime": {
     "end_time": "2024-02-01T10:41:27.601458359Z",
     "start_time": "2024-02-01T10:41:27.525239313Z"
    }
   },
   "outputs": [],
   "source": [
    "test = MutualInformation(df_train, True)\n",
    "#df = pd.read_csv(\"toy-3class.csv\")\n",
    "#df[\"class\"] = df[\"z\"].astype('category')\n",
    "#df[\"z\"] = df[\"z\"].astype('category')\n",
    "#df = df.drop(\"z\", axis = 1 )\n",
    "\n",
    "\n",
    "\n",
    "\n",
    "\n",
    "learned = hc(df_train, bn_type = CLGNetworkType(), operators = [\"arcs\"], score = \"bic\")\n",
    "learned.fit(df_train)\n",
    "\n",
    "est = MMHC()\n",
    "#learned_kde = MMHC().estimate(hypot_test = test, operators = OperatorPool([ChangeNodeTypeSet(),ArcOperatorSet()]), score = CVLikelihood(df_train), bn_type = SemiparametricBNType()) #, score = \"cv-lik\"\n",
    "#learned_kde = hc(df_train, start = naive, operators = [\"node_type\",\"arcs\"], score = \"holdout-lik\", num_folds = 10)\n",
    "#learned_kde.fit(df_train)\n",
    "\n"
   ]
  },
  {
   "cell_type": "code",
   "outputs": [
    {
     "name": "stdout",
     "output_type": "stream",
     "text": [
      "fixed acidity\n",
      "[CKDE] P(fixed acidity | chlorides, residual sugar, alcohol, sulphates, total sulfur dioxide) = CKDE with 2000 instances\n",
      "\n",
      "volatile acidity\n",
      "[HCKDE] P(volatile acidity | chlorides, sulphates, pH, class, alcohol, density, total sulfur dioxide)\n",
      "+-------+--------------------------------------------------------------------------------------------------------------------------+\n",
      "|       |                   volatile acidity | chlorides, sulphates, pH, alcohol, density, total sulfur dioxide                    |\n",
      "+-------+--------------------------------------------------------------------------------------------------------------------------+\n",
      "| class |                                                                                                                          |\n",
      "+-------+--------------------------------------------------------------------------------------------------------------------------+\n",
      "| False | [CKDE] P(volatile acidity | chlorides, sulphates, pH, alcohol, density, total sulfur dioxide) = CKDE with 1277 instances |\n",
      "| True  | [CKDE] P(volatile acidity | chlorides, sulphates, pH, alcohol, density, total sulfur dioxide) = CKDE with 723 instances  |\n",
      "+-------+--------------------------------------------------------------------------------------------------------------------------+\n",
      "\n",
      "\n",
      "citric acid\n",
      "[HCKDE] P(citric acid | sulphates, volatile acidity, free sulfur dioxide, chlorides, pH, class, alcohol, total sulfur dioxide, fixed acidity)\n",
      "+-------+------------------------------------------------------------------------------------------------------------------------------------------------------------------+\n",
      "|       |                   citric acid | sulphates, volatile acidity, free sulfur dioxide, chlorides, pH, alcohol, total sulfur dioxide, fixed acidity                    |\n",
      "+-------+------------------------------------------------------------------------------------------------------------------------------------------------------------------+\n",
      "| class |                                                                                                                                                                  |\n",
      "+-------+------------------------------------------------------------------------------------------------------------------------------------------------------------------+\n",
      "| False | [CKDE] P(citric acid | sulphates, volatile acidity, free sulfur dioxide, chlorides, pH, alcohol, total sulfur dioxide, fixed acidity) = CKDE with 1277 instances |\n",
      "| True  | [CKDE] P(citric acid | sulphates, volatile acidity, free sulfur dioxide, chlorides, pH, alcohol, total sulfur dioxide, fixed acidity) = CKDE with 723 instances  |\n",
      "+-------+------------------------------------------------------------------------------------------------------------------------------------------------------------------+\n",
      "\n",
      "\n",
      "residual sugar\n",
      "[CKDE] P(residual sugar | total sulfur dioxide) = CKDE with 2000 instances\n",
      "\n",
      "chlorides\n",
      "[CKDE] P(chlorides | alcohol, total sulfur dioxide) = CKDE with 2000 instances\n",
      "\n",
      "free sulfur dioxide\n",
      "[CKDE] P(free sulfur dioxide) = CKDE with 2000 instances\n",
      "\n",
      "total sulfur dioxide\n",
      "[CKDE] P(total sulfur dioxide | free sulfur dioxide) = CKDE with 2000 instances\n",
      "\n",
      "density\n",
      "[CKDE] P(density | free sulfur dioxide, total sulfur dioxide, sulphates, chlorides, pH, residual sugar, fixed acidity, alcohol) = CKDE with 2000 instances\n",
      "\n",
      "pH\n",
      "[HCKDE] P(pH | fixed acidity, class, total sulfur dioxide, free sulfur dioxide, alcohol, sulphates, residual sugar)\n",
      "+-------+----------------------------------------------------------------------------------------------------------------------------------------+\n",
      "|       |                   pH | fixed acidity, total sulfur dioxide, free sulfur dioxide, alcohol, sulphates, residual sugar                    |\n",
      "+-------+----------------------------------------------------------------------------------------------------------------------------------------+\n",
      "| class |                                                                                                                                        |\n",
      "+-------+----------------------------------------------------------------------------------------------------------------------------------------+\n",
      "| False | [CKDE] P(pH | fixed acidity, total sulfur dioxide, free sulfur dioxide, alcohol, sulphates, residual sugar) = CKDE with 1277 instances |\n",
      "| True  | [CKDE] P(pH | fixed acidity, total sulfur dioxide, free sulfur dioxide, alcohol, sulphates, residual sugar) = CKDE with 723 instances  |\n",
      "+-------+----------------------------------------------------------------------------------------------------------------------------------------+\n",
      "\n",
      "\n",
      "sulphates\n",
      "[HCKDE] P(sulphates | residual sugar, class, chlorides, total sulfur dioxide)\n",
      "+-------+--------------------------------------------------------------------------------------------------+\n",
      "|       |                   sulphates | residual sugar, chlorides, total sulfur dioxide                    |\n",
      "+-------+--------------------------------------------------------------------------------------------------+\n",
      "| class |                                                                                                  |\n",
      "+-------+--------------------------------------------------------------------------------------------------+\n",
      "| False | [CKDE] P(sulphates | residual sugar, chlorides, total sulfur dioxide) = CKDE with 1277 instances |\n",
      "| True  | [CKDE] P(sulphates | residual sugar, chlorides, total sulfur dioxide) = CKDE with 723 instances  |\n",
      "+-------+--------------------------------------------------------------------------------------------------+\n",
      "\n",
      "\n",
      "alcohol\n",
      "[HCKDE] P(alcohol | free sulfur dioxide, total sulfur dioxide, class, residual sugar)\n",
      "+-------+----------------------------------------------------------------------------------------------------------+\n",
      "|       |                   alcohol | free sulfur dioxide, total sulfur dioxide, residual sugar                    |\n",
      "+-------+----------------------------------------------------------------------------------------------------------+\n",
      "| class |                                                                                                          |\n",
      "+-------+----------------------------------------------------------------------------------------------------------+\n",
      "| False | [CKDE] P(alcohol | free sulfur dioxide, total sulfur dioxide, residual sugar) = CKDE with 1277 instances |\n",
      "| True  | [CKDE] P(alcohol | free sulfur dioxide, total sulfur dioxide, residual sugar) = CKDE with 723 instances  |\n",
      "+-------+----------------------------------------------------------------------------------------------------------+\n",
      "\n",
      "\n",
      "class\n",
      "[DiscreteFactor] P(class)\n",
      "+---------------+\n",
      "|     class     |\n",
      "+-------+-------+\n",
      "| False | True  |\n",
      "+-------+-------+\n",
      "| 0.639 | 0.362 |\n",
      "+-------+-------+\n"
     ]
    }
   ],
   "source": [
    "for i in df.columns :\n",
    "    print(i)\n",
    "    print(learned_kde.cpd(i))\n",
    "    print()"
   ],
   "metadata": {
    "collapsed": false,
    "ExecuteTime": {
     "end_time": "2024-01-25T11:17:46.108785222Z",
     "start_time": "2024-01-25T11:17:46.061810312Z"
    }
   },
   "id": "1f32da79009f724d",
   "execution_count": 347
  },
  {
   "cell_type": "code",
   "outputs": [
    {
     "data": {
      "text/plain": "5"
     },
     "execution_count": 348,
     "metadata": {},
     "output_type": "execute_result"
    }
   ],
   "source": [
    "len([i for i in learned_kde.arcs() if \"class\" in i])"
   ],
   "metadata": {
    "collapsed": false,
    "ExecuteTime": {
     "end_time": "2024-01-25T11:17:46.109530940Z",
     "start_time": "2024-01-25T11:17:46.108537216Z"
    }
   },
   "id": "2e8e5399f79bccc",
   "execution_count": 348
  },
  {
   "cell_type": "code",
   "outputs": [
    {
     "name": "stdout",
     "output_type": "stream",
     "text": [
      "Hill climbing with val-lik\n",
      "MSE: 0.16 +- 0.01\n",
      "LL: -32.78 +- 4.03\n",
      "Num arcs: 36.7 +- 6.91\n",
      "Class arcs: 10.85 +- 0.48\n",
      "KDE%: 88.5 +- 7.92\n",
      "Time: 26.52 +- 10.74\n",
      "--------\n",
      "MMHC with val-lik\n",
      "MSE: 0.19 +- 0.01\n",
      "LL: -37.66 +- 1.87\n",
      "Num arcs: 23.1 +- 4.09\n",
      "Class arcs: 4.05 +- 1.86\n",
      "KDE%: 93.5 +- 9.1\n",
      "Time: 12.28 +- 2.72\n",
      "--------\n",
      "MMHC with cv-lik\n",
      "MSE: 0.18 +- 0.0\n",
      "LL: -35.87 +- 0.14\n",
      "Num arcs: 28.85 +- 0.36\n",
      "Class arcs: 7.0 +- 0.0\n",
      "KDE%: 100.0 +- 0.0\n",
      "Time: 19.91 +- 1.64\n",
      "--------\n"
     ]
    }
   ],
   "source": [
    "n_exps = 20\n",
    "df = df.sample(frac = 1)\n",
    "df_train = df.head(2000)\n",
    "for i in df_train.columns[:-2] :\n",
    "    df_train = df_train[df_train[i] <4]\n",
    "    df_train = df_train[df_train[i] >-4]\n",
    "df_test = df.tail(500)\n",
    "for i in df_test.columns[:-2] :\n",
    "    df_test = df_test[df_test[i] <4]\n",
    "    df_test = df_test[df_test[i] >-4]\n",
    "\n",
    "labels = np.zeros(shape = (len(df_test.index)))\n",
    "labels[df_test[\"class\"] == \"True\"] = 1\n",
    "\n",
    "sum_sum = []\n",
    "accuracy = []\n",
    "ll = []\n",
    "num_arcs = []\n",
    "class_arcs = []\n",
    "times = []\n",
    "for i in range(n_exps) :\n",
    "    t0 = time.process_time()\n",
    "    learned_kde = hc(df_train, start = naive, operators = [\"node_type\",\"arcs\"], score = \"validated-lik\", num_folds = 10)\n",
    "    #MMHC().estimate(hypot_test = test, operators = OperatorPool([ChangeNodeTypeSet(),ArcOperatorSet()]), score = CVLikelihood(df_train), bn_type = SemiparametricBNType())\n",
    "    learned_kde.fit(df_train)\n",
    "    times.append(time.process_time()-t0)\n",
    "    saved = predict_class(df_test, learned_kde)\n",
    "    accuracy.append(np.sum((labels-saved[\"True\"])**2) / len(df_test.index))\n",
    "    ll.append(learned_kde.slogl(df_train)/500)\n",
    "    num_arcs.append(learned_kde.num_arcs())\n",
    "    class_arcs.append(len([j for j in learned_kde.arcs() if \"class\" in j]))\n",
    "    sum = 0\n",
    "    for j in learned_kde.nodes()[:-2] :    \n",
    "        if isinstance(learned_kde.cpd(j), CKDE) or isinstance(learned_kde.cpd(j), HCKDE) :\n",
    "            sum = sum + 1\n",
    "    sum_sum.append(sum/10*100)\n",
    "print(\"Hill climbing with val-lik\")\n",
    "print(\"MSE:\",round(np.mean(accuracy),2),\"+-\",round(np.std(accuracy),2))\n",
    "print(\"LL:\",round(np.mean(ll),2),\"+-\",round(np.std(ll),2))\n",
    "print(\"Num arcs:\",round(np.mean(num_arcs),2),\"+-\",round(np.std(num_arcs),2))\n",
    "print(\"Class arcs:\",round(np.mean(class_arcs),2),\"+-\",round(np.std(class_arcs),2))\n",
    "print(\"KDE%:\",round(np.mean(sum_sum),2),\"+-\",round(np.std(sum_sum),2))\n",
    "print(\"Time:\",round(np.mean(times),2),\"+-\",round(np.std(times),2))\n",
    "analysis_hc = pd.DataFrame(data = np.vstack([accuracy,ll,num_arcs,class_arcs,sum_sum,times]).transpose(), columns = [\"MSE\", \"logl\", \"n_arcs\", \"class_arcs\",\"kdes\", \"ptime\"])\n",
    "print(\"--------\")\n",
    "\n",
    "sum_sum = []\n",
    "accuracy = []\n",
    "ll = []\n",
    "num_arcs = []\n",
    "class_arcs = []\n",
    "times = []\n",
    "for i in range(n_exps) :\n",
    "    t0 = time.process_time()\n",
    "    #learned_kde = hc(df_train, start = naive, operators = [\"node_type\",\"arcs\"], score = \"validated-lik\", num_folds = 10)\n",
    "    learned_kde = MMHC().estimate(hypot_test = test, operators = OperatorPool([ChangeNodeTypeSet(),ArcOperatorSet()]), score = ValidatedLikelihood(df_train), bn_type = SemiparametricBNType())\n",
    "    learned_kde.fit(df_train)\n",
    "    times.append(time.process_time()-t0)\n",
    "    saved = predict_class(df_test, learned_kde)\n",
    "    accuracy.append(np.sum((labels-saved[\"True\"])**2) / len(df_test.index))\n",
    "    ll.append(learned_kde.slogl(df_train)/500)\n",
    "    num_arcs.append(learned_kde.num_arcs())\n",
    "    class_arcs.append(len([j for j in learned_kde.arcs() if \"class\" in j]))\n",
    "    sum = 0\n",
    "    for j in learned_kde.nodes()[:-2] :    \n",
    "        if isinstance(learned_kde.cpd(j), CKDE) or isinstance(learned_kde.cpd(j), HCKDE) :\n",
    "            sum = sum + 1\n",
    "    sum_sum.append(sum/10*100)\n",
    "print(\"MMHC with val-lik\")\n",
    "print(\"MSE:\",round(np.mean(accuracy),2),\"+-\",round(np.std(accuracy),2))\n",
    "print(\"LL:\",round(np.mean(ll),2),\"+-\",round(np.std(ll),2))\n",
    "print(\"Num arcs:\",round(np.mean(num_arcs),2),\"+-\",round(np.std(num_arcs),2))\n",
    "print(\"Class arcs:\",round(np.mean(class_arcs),2),\"+-\",round(np.std(class_arcs),2))\n",
    "print(\"KDE%:\",round(np.mean(sum_sum),2),\"+-\",round(np.std(sum_sum),2))\n",
    "print(\"Time:\",round(np.mean(times),2),\"+-\",round(np.std(times),2))\n",
    "analysis_mmhc_val = pd.DataFrame(data = np.vstack([accuracy,ll,num_arcs,class_arcs,sum_sum,times]).transpose(), columns = [\"MSE\", \"logl\", \"n_arcs\", \"class_arcs\",\"kdes\", \"ptime\"])\n",
    "print(\"--------\")\n",
    "\n",
    "sum_sum = []\n",
    "accuracy = []\n",
    "ll = []\n",
    "num_arcs = []\n",
    "class_arcs = []\n",
    "times = []\n",
    "for i in range(n_exps) :\n",
    "    t0 = time.process_time()\n",
    "    #learned_kde = hc(df_train, start = naive, operators = [\"node_type\",\"arcs\"], score = \"validated-lik\", num_folds = 10)\n",
    "    learned_kde = MMHC().estimate(hypot_test = test, operators = OperatorPool([ChangeNodeTypeSet(),ArcOperatorSet()]), score = CVLikelihood(df_train), bn_type = SemiparametricBNType())\n",
    "    learned_kde.fit(df_train)\n",
    "    times.append(time.process_time()-t0)\n",
    "    saved = predict_class(df_test, learned_kde)\n",
    "    accuracy.append(np.sum((labels-saved[\"True\"])**2) / len(df_test.index))\n",
    "    ll.append(learned_kde.slogl(df_train)/500)\n",
    "    num_arcs.append(learned_kde.num_arcs())\n",
    "    class_arcs.append(len([j for j in learned_kde.arcs() if \"class\" in j]))\n",
    "    sum = 0\n",
    "    for j in learned_kde.nodes()[:-2] :    \n",
    "        if isinstance(learned_kde.cpd(j), CKDE) or isinstance(learned_kde.cpd(j), HCKDE) :\n",
    "            sum = sum + 1\n",
    "    sum_sum.append(sum/10*100)\n",
    "print(\"MMHC with cv-lik\")\n",
    "print(\"MSE:\",round(np.mean(accuracy),2),\"+-\",round(np.std(accuracy),2))\n",
    "print(\"LL:\",round(np.mean(ll),2),\"+-\",round(np.std(ll),2))\n",
    "print(\"Num arcs:\",round(np.mean(num_arcs),2),\"+-\",round(np.std(num_arcs),2))\n",
    "print(\"Class arcs:\",round(np.mean(class_arcs),2),\"+-\",round(np.std(class_arcs),2))\n",
    "print(\"KDE%:\",round(np.mean(sum_sum),2),\"+-\",round(np.std(sum_sum),2))\n",
    "print(\"Time:\",round(np.mean(times),2),\"+-\",round(np.std(times),2))\n",
    "analysis_mmhc_cv = pd.DataFrame(data = np.vstack([accuracy,ll,num_arcs,class_arcs,sum_sum,times]).transpose(), columns = [\"MSE\", \"logl\", \"n_arcs\", \"class_arcs\",\"kdes\", \"ptime\"])\n",
    "print(\"--------\")"
   ],
   "metadata": {
    "collapsed": false,
    "ExecuteTime": {
     "end_time": "2024-01-29T12:00:33.706464266Z",
     "start_time": "2024-01-29T11:39:36.945916392Z"
    }
   },
   "id": "389a3e465240c3fb",
   "execution_count": 71
  },
  {
   "cell_type": "code",
   "outputs": [
    {
     "data": {
      "text/plain": "         MSE       logl  n_arcs  class_arcs  kdes     ptime\n0   0.193622 -46.211505    53.0        10.0   0.0  1.459491\n1   0.192682 -46.204224    56.0        11.0   0.0  1.393674\n2   0.193762 -46.185867    61.0        11.0   0.0  2.557138\n3   0.194243 -46.203636    57.0        11.0   0.0  1.479339\n4   0.193261 -46.211125    55.0        10.0   0.0  1.286369\n5   0.191463 -46.189103    57.0        11.0   0.0  1.849517\n6   0.192333 -46.206194    53.0        11.0   0.0  1.214592\n7   0.193319 -46.189057    59.0        11.0   0.0  3.024686\n8   0.194065 -46.192206    60.0        11.0   0.0  1.686018\n9   0.191659 -46.193108    55.0        11.0   0.0  1.733318\n10  0.193745 -46.199898    56.0        11.0   0.0  1.673510\n11  0.191817 -46.197756    55.0        11.0   0.0  1.866494\n12  0.190445 -46.193952    55.0        11.0   0.0  1.529068\n13  0.192872 -46.212516    53.0        10.0   0.0  1.372451\n14  0.191471 -46.194380    57.0        11.0   0.0  1.269541\n15  0.193408 -46.199450    56.0        10.0   0.0  1.816126\n16  0.192927 -46.213095    52.0        10.0   0.0  1.192781\n17  0.193891 -46.192286    60.0        11.0   0.0  2.790898\n18  0.193205 -46.204480    54.0        11.0   0.0  1.471199\n19  0.193889 -46.192286    60.0        11.0   0.0  2.679675",
      "text/html": "<div>\n<style scoped>\n    .dataframe tbody tr th:only-of-type {\n        vertical-align: middle;\n    }\n\n    .dataframe tbody tr th {\n        vertical-align: top;\n    }\n\n    .dataframe thead th {\n        text-align: right;\n    }\n</style>\n<table border=\"1\" class=\"dataframe\">\n  <thead>\n    <tr style=\"text-align: right;\">\n      <th></th>\n      <th>MSE</th>\n      <th>logl</th>\n      <th>n_arcs</th>\n      <th>class_arcs</th>\n      <th>kdes</th>\n      <th>ptime</th>\n    </tr>\n  </thead>\n  <tbody>\n    <tr>\n      <th>0</th>\n      <td>0.193622</td>\n      <td>-46.211505</td>\n      <td>53.0</td>\n      <td>10.0</td>\n      <td>0.0</td>\n      <td>1.459491</td>\n    </tr>\n    <tr>\n      <th>1</th>\n      <td>0.192682</td>\n      <td>-46.204224</td>\n      <td>56.0</td>\n      <td>11.0</td>\n      <td>0.0</td>\n      <td>1.393674</td>\n    </tr>\n    <tr>\n      <th>2</th>\n      <td>0.193762</td>\n      <td>-46.185867</td>\n      <td>61.0</td>\n      <td>11.0</td>\n      <td>0.0</td>\n      <td>2.557138</td>\n    </tr>\n    <tr>\n      <th>3</th>\n      <td>0.194243</td>\n      <td>-46.203636</td>\n      <td>57.0</td>\n      <td>11.0</td>\n      <td>0.0</td>\n      <td>1.479339</td>\n    </tr>\n    <tr>\n      <th>4</th>\n      <td>0.193261</td>\n      <td>-46.211125</td>\n      <td>55.0</td>\n      <td>10.0</td>\n      <td>0.0</td>\n      <td>1.286369</td>\n    </tr>\n    <tr>\n      <th>5</th>\n      <td>0.191463</td>\n      <td>-46.189103</td>\n      <td>57.0</td>\n      <td>11.0</td>\n      <td>0.0</td>\n      <td>1.849517</td>\n    </tr>\n    <tr>\n      <th>6</th>\n      <td>0.192333</td>\n      <td>-46.206194</td>\n      <td>53.0</td>\n      <td>11.0</td>\n      <td>0.0</td>\n      <td>1.214592</td>\n    </tr>\n    <tr>\n      <th>7</th>\n      <td>0.193319</td>\n      <td>-46.189057</td>\n      <td>59.0</td>\n      <td>11.0</td>\n      <td>0.0</td>\n      <td>3.024686</td>\n    </tr>\n    <tr>\n      <th>8</th>\n      <td>0.194065</td>\n      <td>-46.192206</td>\n      <td>60.0</td>\n      <td>11.0</td>\n      <td>0.0</td>\n      <td>1.686018</td>\n    </tr>\n    <tr>\n      <th>9</th>\n      <td>0.191659</td>\n      <td>-46.193108</td>\n      <td>55.0</td>\n      <td>11.0</td>\n      <td>0.0</td>\n      <td>1.733318</td>\n    </tr>\n    <tr>\n      <th>10</th>\n      <td>0.193745</td>\n      <td>-46.199898</td>\n      <td>56.0</td>\n      <td>11.0</td>\n      <td>0.0</td>\n      <td>1.673510</td>\n    </tr>\n    <tr>\n      <th>11</th>\n      <td>0.191817</td>\n      <td>-46.197756</td>\n      <td>55.0</td>\n      <td>11.0</td>\n      <td>0.0</td>\n      <td>1.866494</td>\n    </tr>\n    <tr>\n      <th>12</th>\n      <td>0.190445</td>\n      <td>-46.193952</td>\n      <td>55.0</td>\n      <td>11.0</td>\n      <td>0.0</td>\n      <td>1.529068</td>\n    </tr>\n    <tr>\n      <th>13</th>\n      <td>0.192872</td>\n      <td>-46.212516</td>\n      <td>53.0</td>\n      <td>10.0</td>\n      <td>0.0</td>\n      <td>1.372451</td>\n    </tr>\n    <tr>\n      <th>14</th>\n      <td>0.191471</td>\n      <td>-46.194380</td>\n      <td>57.0</td>\n      <td>11.0</td>\n      <td>0.0</td>\n      <td>1.269541</td>\n    </tr>\n    <tr>\n      <th>15</th>\n      <td>0.193408</td>\n      <td>-46.199450</td>\n      <td>56.0</td>\n      <td>10.0</td>\n      <td>0.0</td>\n      <td>1.816126</td>\n    </tr>\n    <tr>\n      <th>16</th>\n      <td>0.192927</td>\n      <td>-46.213095</td>\n      <td>52.0</td>\n      <td>10.0</td>\n      <td>0.0</td>\n      <td>1.192781</td>\n    </tr>\n    <tr>\n      <th>17</th>\n      <td>0.193891</td>\n      <td>-46.192286</td>\n      <td>60.0</td>\n      <td>11.0</td>\n      <td>0.0</td>\n      <td>2.790898</td>\n    </tr>\n    <tr>\n      <th>18</th>\n      <td>0.193205</td>\n      <td>-46.204480</td>\n      <td>54.0</td>\n      <td>11.0</td>\n      <td>0.0</td>\n      <td>1.471199</td>\n    </tr>\n    <tr>\n      <th>19</th>\n      <td>0.193889</td>\n      <td>-46.192286</td>\n      <td>60.0</td>\n      <td>11.0</td>\n      <td>0.0</td>\n      <td>2.679675</td>\n    </tr>\n  </tbody>\n</table>\n</div>"
     },
     "execution_count": 75,
     "metadata": {},
     "output_type": "execute_result"
    }
   ],
   "source": [
    "analysis_ga_cv"
   ],
   "metadata": {
    "collapsed": false,
    "ExecuteTime": {
     "end_time": "2024-01-29T15:00:18.745264272Z",
     "start_time": "2024-01-29T15:00:18.686841619Z"
    }
   },
   "id": "657fed43b6a3a099",
   "execution_count": 75
  },
  {
   "cell_type": "code",
   "outputs": [
    {
     "name": "stdout",
     "output_type": "stream",
     "text": [
      "Hill climbing with BIC\n",
      "MSE: 0.19 +- 0.0\n",
      "LL: -46.32 +- 0.0\n",
      "Num arcs: 50.0 +- 0.0\n",
      "Class arcs: 9.0 +- 0.0\n",
      "KDE%: 0.0 +- 0.0\n",
      "Time: 0.06 +- 0.0\n",
      "--------\n",
      "Hill climbing with val-lik\n",
      "MSE: 0.2 +- 0.0\n",
      "LL: -47.1 +- 0.49\n",
      "Num arcs: 32.7 +- 5.17\n",
      "Class arcs: 6.0 +- 2.05\n",
      "KDE%: 0.0 +- 0.0\n",
      "Time: 0.44 +- 0.11\n",
      "--------\n",
      "Hill climbing with cv-lik\n",
      "MSE: 0.19 +- 0.0\n",
      "LL: -46.2 +- 0.01\n",
      "Num arcs: 56.2 +- 2.6\n",
      "Class arcs: 10.75 +- 0.43\n",
      "KDE%: 0.0 +- 0.0\n",
      "Time: 1.77 +- 0.54\n",
      "--------\n"
     ]
    }
   ],
   "source": [
    "n_exps = 20\n",
    "df = df.sample(frac = 1)\n",
    "df_train = df.head(2000)\n",
    "for i in df_train.columns[:-2] :\n",
    "    df_train = df_train[df_train[i] <4]\n",
    "    df_train = df_train[df_train[i] >-4]\n",
    "df_test = df.tail(500)\n",
    "\n",
    "for i in df_test.columns[:-2] :\n",
    "    df_test = df_test[df_test[i] <4]\n",
    "    df_test = df_test[df_test[i] >-4]\n",
    "    \n",
    "\n",
    "    \n",
    "labels = np.zeros(shape = (len(df_test.index)))\n",
    "labels[df_test[\"class\"] == \"True\"] = 1\n",
    "\n",
    "sum_sum = []\n",
    "accuracy = []\n",
    "ll = []\n",
    "num_arcs = []\n",
    "class_arcs = []\n",
    "times = []\n",
    "for i in range(n_exps) :\n",
    "    t0 = time.process_time()\n",
    "    learned_kde = hc(df_train, bn_type = CLGNetworkType(), operators = [\"arcs\"], score = \"bic\", num_folds = 10)\n",
    "    #MMHC().estimate(hypot_test = test, operators = OperatorPool([ChangeNodeTypeSet(),ArcOperatorSet()]), score = CVLikelihood(df_train), bn_type = SemiparametricBNType())\n",
    "    learned_kde.fit(df_train)\n",
    "    times.append(time.process_time()-t0)\n",
    "    saved = predict_class(df_test, learned_kde)\n",
    "    accuracy.append(np.sum((labels-saved[\"True\"])**2) / len(df_test.index))\n",
    "    ll.append(learned_kde.slogl(df_train)/500)\n",
    "    num_arcs.append(learned_kde.num_arcs())\n",
    "    class_arcs.append(len([j for j in learned_kde.arcs() if \"class\" in j]))\n",
    "    sum = 0\n",
    "    for j in learned_kde.nodes()[:-2] :    \n",
    "        if isinstance(learned_kde.cpd(j), CKDE) or isinstance(learned_kde.cpd(j), HCKDE) :\n",
    "            sum = sum + 1\n",
    "    sum_sum.append(sum/10*100)\n",
    "print(\"Hill climbing with BIC\")\n",
    "print(\"MSE:\",round(np.mean(accuracy),2),\"+-\",round(np.std(accuracy),2))\n",
    "print(\"LL:\",round(np.mean(ll),2),\"+-\",round(np.std(ll),2))\n",
    "print(\"Num arcs:\",round(np.mean(num_arcs),2),\"+-\",round(np.std(num_arcs),2))\n",
    "print(\"Class arcs:\",round(np.mean(class_arcs),2),\"+-\",round(np.std(class_arcs),2))\n",
    "print(\"KDE%:\",round(np.mean(sum_sum),2),\"+-\",round(np.std(sum_sum),2))\n",
    "print(\"Time:\",round(np.mean(times),2),\"+-\",round(np.std(times),2))\n",
    "analysis_ga_bic = pd.DataFrame(data = np.vstack([accuracy,ll,num_arcs,class_arcs,sum_sum,times]).transpose(), columns = [\"MSE\", \"logl\", \"n_arcs\", \"class_arcs\",\"kdes\", \"ptime\"])\n",
    "print(\"--------\")\n",
    "\n",
    "\n",
    "sum_sum = []\n",
    "accuracy = []\n",
    "ll = []\n",
    "num_arcs = []\n",
    "class_arcs = []\n",
    "times = []\n",
    "for i in range(n_exps) :\n",
    "    t0 = time.process_time()\n",
    "    learned_kde = hc(df_train, bn_type = CLGNetworkType(), operators = [\"arcs\"], score = \"validated-lik\", num_folds = 10)\n",
    "    #MMHC().estimate(hypot_test = test, operators = OperatorPool([ChangeNodeTypeSet(),ArcOperatorSet()]), score = CVLikelihood(df_train), bn_type = SemiparametricBNType())\n",
    "    learned_kde.fit(df_train)\n",
    "    times.append(time.process_time()-t0)\n",
    "    saved = predict_class(df_test, learned_kde)\n",
    "    accuracy.append(np.sum((labels-saved[\"True\"])**2) / len(df_test.index))\n",
    "    ll.append(learned_kde.slogl(df_train)/500)\n",
    "    num_arcs.append(learned_kde.num_arcs())\n",
    "    class_arcs.append(len([j for j in learned_kde.arcs() if \"class\" in j]))\n",
    "    sum = 0\n",
    "    for j in learned_kde.nodes()[:-2] :    \n",
    "        if isinstance(learned_kde.cpd(j), CKDE) or isinstance(learned_kde.cpd(j), HCKDE) :\n",
    "            sum = sum + 1\n",
    "    sum_sum.append(sum/10*100)\n",
    "print(\"Hill climbing with val-lik\")\n",
    "print(\"MSE:\",round(np.mean(accuracy),2),\"+-\",round(np.std(accuracy),2))\n",
    "print(\"LL:\",round(np.mean(ll),2),\"+-\",round(np.std(ll),2))\n",
    "print(\"Num arcs:\",round(np.mean(num_arcs),2),\"+-\",round(np.std(num_arcs),2))\n",
    "print(\"Class arcs:\",round(np.mean(class_arcs),2),\"+-\",round(np.std(class_arcs),2))\n",
    "print(\"KDE%:\",round(np.mean(sum_sum),2),\"+-\",round(np.std(sum_sum),2))\n",
    "print(\"Time:\",round(np.mean(times),2),\"+-\",round(np.std(times),2))\n",
    "analysis_ga_val = pd.DataFrame(data = np.vstack([accuracy,ll,num_arcs,class_arcs,sum_sum,times]).transpose(), columns = [\"MSE\", \"logl\", \"n_arcs\", \"class_arcs\",\"kdes\", \"ptime\"])\n",
    "print(\"--------\")\n",
    "\n",
    "\n",
    "sum_sum = []\n",
    "accuracy = []\n",
    "ll = []\n",
    "num_arcs = []\n",
    "class_arcs = []\n",
    "times = []\n",
    "for i in range(n_exps) :\n",
    "    t0 = time.process_time()\n",
    "    learned_kde = hc(df_train, bn_type = CLGNetworkType(), operators = [\"arcs\"], score = \"cv-lik\", num_folds = 10)\n",
    "    #MMHC().estimate(hypot_test = test, operators = OperatorPool([ChangeNodeTypeSet(),ArcOperatorSet()]), score = CVLikelihood(df_train), bn_type = SemiparametricBNType())\n",
    "    learned_kde.fit(df_train)\n",
    "    times.append(time.process_time()-t0)\n",
    "    saved = predict_class(df_test, learned_kde)\n",
    "    accuracy.append(np.sum((labels-saved[\"True\"])**2) / len(df_test.index))\n",
    "    ll.append(learned_kde.slogl(df_train)/500)\n",
    "    num_arcs.append(learned_kde.num_arcs())\n",
    "    class_arcs.append(len([j for j in learned_kde.arcs() if \"class\" in j]))\n",
    "    sum = 0\n",
    "    for j in learned_kde.nodes()[:-2] :    \n",
    "        if isinstance(learned_kde.cpd(j), CKDE) or isinstance(learned_kde.cpd(j), HCKDE) :\n",
    "            sum = sum + 1\n",
    "    sum_sum.append(sum/10*100)\n",
    "print(\"Hill climbing with cv-lik\")\n",
    "print(\"MSE:\",round(np.mean(accuracy),2),\"+-\",round(np.std(accuracy),2))\n",
    "print(\"LL:\",round(np.mean(ll),2),\"+-\",round(np.std(ll),2))\n",
    "print(\"Num arcs:\",round(np.mean(num_arcs),2),\"+-\",round(np.std(num_arcs),2))\n",
    "print(\"Class arcs:\",round(np.mean(class_arcs),2),\"+-\",round(np.std(class_arcs),2))\n",
    "print(\"KDE%:\",round(np.mean(sum_sum),2),\"+-\",round(np.std(sum_sum),2))\n",
    "print(\"Time:\",round(np.mean(times),2),\"+-\",round(np.std(times),2))\n",
    "analysis_ga_cv = pd.DataFrame(data = np.vstack([accuracy,ll,num_arcs,class_arcs,sum_sum,times]).transpose(), columns = [\"MSE\", \"logl\", \"n_arcs\", \"class_arcs\",\"kdes\", \"ptime\"])\n",
    "print(\"--------\")"
   ],
   "metadata": {
    "collapsed": false,
    "ExecuteTime": {
     "end_time": "2024-01-29T12:01:19.758407806Z",
     "start_time": "2024-01-29T12:00:33.706354856Z"
    }
   },
   "id": "516d36e9571726af",
   "execution_count": 72
  },
  {
   "cell_type": "code",
   "outputs": [
    {
     "name": "stdout",
     "output_type": "stream",
     "text": [
      "fixed acidity KstestResult(statistic=0.14433382926856342, pvalue=6.806213913198701e-47, statistic_location=0.1729773584075554, statistic_sign=1)\n",
      "volatile acidity KstestResult(statistic=0.1427379704356445, pvalue=7.228441082937421e-46, statistic_location=0.061327369979953424, statistic_sign=1)\n",
      "citric acid KstestResult(statistic=0.09933197373690558, pvalue=2.1751231446786863e-22, statistic_location=-0.6365354915635609, statistic_sign=-1)\n",
      "residual sugar KstestResult(statistic=0.19657333596163662, pvalue=6.010921511702523e-87, statistic_location=-0.5145702936416315, statistic_sign=1)\n",
      "chlorides KstestResult(statistic=0.1789337559025822, pvalue=5.181167920837191e-72, statistic_location=0.08746373870199499, statistic_sign=1)\n",
      "free sulfur dioxide KstestResult(statistic=0.05764003476126494, pvalue=8.114116739755302e-08, statistic_location=-1.5715146471652022, statistic_sign=-1)\n",
      "total sulfur dioxide KstestResult(statistic=0.04586395283077263, pvalue=4.1649165020146406e-05, statistic_location=-1.198035335162442, statistic_sign=1)\n",
      "density KstestResult(statistic=0.06431654899817946, pvalue=1.2535877575073352e-09, statistic_location=-0.5362215669681767, statistic_sign=1)\n",
      "pH KstestResult(statistic=0.033866115912602635, pvalue=0.005578378374461033, statistic_location=-0.13238513584473716, statistic_sign=1)\n",
      "sulphates KstestResult(statistic=0.08065434373978875, pvalue=6.716559948798288e-15, statistic_location=0.4408094189555594, statistic_sign=1)\n"
     ]
    }
   ],
   "source": [
    "from scipy.stats import kstest\n",
    "from scipy.stats import norm\n",
    "\n",
    "for i in df.columns[:-2] : \n",
    "    print(i,kstest(df[i], 'norm'))\n"
   ],
   "metadata": {
    "collapsed": false,
    "ExecuteTime": {
     "end_time": "2024-01-29T10:43:27.764579260Z",
     "start_time": "2024-01-29T10:43:27.762415499Z"
    }
   },
   "id": "facf4a89580326dd",
   "execution_count": 66
  },
  {
   "cell_type": "code",
   "outputs": [],
   "source": [
    "df2 =df2.drop(\"index\",axis=1)"
   ],
   "metadata": {
    "collapsed": false,
    "ExecuteTime": {
     "end_time": "2024-01-25T19:17:26.441213533Z",
     "start_time": "2024-01-25T19:17:26.360692900Z"
    }
   },
   "id": "1b4c1f86cebaf15e",
   "execution_count": 52
  },
  {
   "cell_type": "code",
   "outputs": [],
   "source": [
    "df2 = df.copy()\n",
    "for i in df2.columns[:-2] :\n",
    "    df2 = df2[df2[i] <3]\n",
    "    df2 = df2[df2[i] >-3]"
   ],
   "metadata": {
    "collapsed": false,
    "ExecuteTime": {
     "end_time": "2024-01-25T18:13:07.424056582Z",
     "start_time": "2024-01-25T18:13:07.380571294Z"
    }
   },
   "id": "2fd76aca7b64bde9",
   "execution_count": 35
  },
  {
   "cell_type": "code",
   "outputs": [
    {
     "data": {
      "text/plain": "0.9197337509788567"
     },
     "execution_count": 36,
     "metadata": {},
     "output_type": "execute_result"
    }
   ],
   "source": [
    "len(df2.index)/len(df.index)"
   ],
   "metadata": {
    "collapsed": false,
    "ExecuteTime": {
     "end_time": "2024-01-25T18:13:07.995446802Z",
     "start_time": "2024-01-25T18:13:07.959950138Z"
    }
   },
   "id": "dbbb07567a77fe60",
   "execution_count": 36
  },
  {
   "cell_type": "code",
   "outputs": [
    {
     "name": "stdout",
     "output_type": "stream",
     "text": [
      "100.0\n"
     ]
    }
   ],
   "source": [
    "sum = 0\n",
    "for i in learned_kde.nodes()[:-2] :    \n",
    "    if isinstance(learned_kde.cpd(i), CKDE) or isinstance(learned_kde.cpd(i), HCKDE) :\n",
    "        sum = sum + 1\n",
    "print(sum/10 * 100)"
   ],
   "metadata": {
    "collapsed": false
   },
   "id": "965c1c72b5d5195a",
   "execution_count": 372
  },
  {
   "cell_type": "code",
   "outputs": [],
   "source": [
    "df_pre = df.copy()\n",
    "\n",
    "for i in df_pre.columns[:-1] :\n",
    "    df_pre = df_pre[df_pre[i] <3]\n",
    "    df_pre = df_pre[df_pre[i] >-3]\n",
    "    \n",
    "df_pre = df_pre.reset_index(drop=True)\n",
    "\n",
    "learned_kde = hc(df_pre, start = naive, operators = [\"node_type\",\"arcs\"], score = \"validated-lik\", num_folds = 5)\n",
    "learned_kde.fit(df_pre)\n",
    "\n"
   ],
   "metadata": {
    "collapsed": false,
    "ExecuteTime": {
     "end_time": "2024-01-31T11:32:39.042530317Z",
     "start_time": "2024-01-31T11:32:08.852635718Z"
    }
   },
   "id": "423b2442270e9bbf",
   "execution_count": 20
  },
  {
   "cell_type": "code",
   "outputs": [
    {
     "name": "stdout",
     "output_type": "stream",
     "text": [
      "Graph edges:\n",
      "[(1, 44), (1, 68), (1, 83), (1, 115), (1, 129), (1, 157), (1, 167), (1, 214), (1, 252), (1, 261), (1, 277), (1, 301), (1, 328), (1, 329), (1, 331), (1, 355), (1, 358), (1, 392), (1, 409), (1, 427), (1, 443), (1, 455), (1, 471), (1, 472), (1, 487), (1, 494), (2, 100), (2, 103), (2, 247), (2, 353), (2, 356), (2, 437), (3, 110), (3, 126), (3, 135), (3, 140), (3, 205), (3, 215), (3, 218), (3, 221), (3, 229), (3, 237), (3, 297), (3, 357), (3, 398), (3, 404), (3, 408), (3, 418), (4, 33), (4, 40), (4, 95), (4, 233), (4, 369), (4, 383), (4, 460), (4, 474), (4, 487), (5, 138), (5, 217), (5, 373), (5, 467), (6, 132), (6, 179), (6, 203), (6, 241), (6, 243), (6, 326), (6, 393), (7, 24), (7, 88), (7, 174), (7, 220), (7, 246), (7, 256), (7, 319), (7, 352), (7, 390), (7, 401), (7, 448), (7, 479), (8, 36), (8, 407), (9, 231), (9, 252), (9, 280), (9, 439), (9, 472), (10, 235), (10, 446), (11, 23), (11, 286), (11, 451), (11, 465), (12, 191), (13, 16), (13, 41), (13, 55), (13, 142), (13, 149), (13, 150), (13, 159), (13, 161), (13, 190), (13, 225), (13, 256), (13, 314), (13, 317), (13, 328), (13, 352), (13, 421), (13, 431), (13, 453), (13, 496), (14, 132), (14, 386), (14, 442), (15, 22), (15, 286), (15, 299), (15, 339), (15, 342), (15, 349), (15, 377), (15, 451), (15, 458), (16, 68), (16, 115), (16, 142), (16, 159), (16, 256), (16, 331), (16, 352), (16, 453), (16, 496), (17, 129), (17, 157), (17, 355), (18, 35), (18, 375), (18, 380), (18, 447), (18, 500), (19, 229), (19, 300), (19, 415), (19, 482), (20, 34), (20, 244), (20, 369), (20, 383), (20, 451), (21, 76), (21, 100), (21, 224), (21, 437), (21, 470), (22, 89), (22, 109), (22, 131), (22, 164), (22, 170), (22, 171), (22, 175), (22, 190), (22, 219), (22, 231), (22, 257), (22, 286), (22, 294), (22, 298), (22, 301), (22, 311), (22, 339), (22, 342), (22, 344), (22, 349), (22, 354), (22, 360), (22, 363), (22, 368), (22, 370), (22, 377), (22, 389), (22, 413), (22, 421), (22, 422), (22, 451), (22, 458), (23, 109), (23, 124), (23, 131), (23, 133), (23, 180), (23, 211), (23, 286), (23, 311), (23, 316), (23, 354), (23, 360), (23, 363), (23, 377), (23, 413), (24, 83), (24, 153), (24, 165), (24, 226), (24, 244), (24, 256), (24, 278), (24, 328), (24, 364), (24, 383), (24, 433), (25, 87), (25, 156), (25, 164), (25, 186), (25, 190), (25, 225), (25, 258), (25, 262), (25, 277), (25, 339), (25, 409), (25, 424), (25, 468), (26, 144), (26, 149), (26, 248), (26, 290), (26, 314), (26, 351), (26, 367), (27, 273), (29, 49), (29, 68), (29, 157), (29, 231), (29, 260), (29, 294), (29, 301), (29, 302), (29, 331), (29, 368), (29, 409), (29, 439), (30, 162), (30, 167), (30, 186), (30, 203), (30, 214), (30, 236), (30, 252), (30, 314), (30, 328), (30, 358), (30, 409), (30, 420), (30, 443), (30, 461), (30, 471), (30, 472), (30, 483), (30, 494), (32, 152), (32, 183), (32, 206), (32, 269), (32, 289), (32, 333), (32, 391), (32, 449), (32, 495), (33, 40), (33, 102), (33, 120), (33, 255), (33, 460), (33, 474), (33, 475), (34, 180), (34, 377), (35, 65), (35, 188), (35, 248), (35, 375), (35, 380), (35, 416), (35, 447), (35, 500), (37, 60), (37, 122), (37, 154), (37, 174), (37, 211), (37, 220), (37, 254), (37, 336), (37, 360), (37, 382), (37, 444), (37, 448), (37, 479), (37, 493), (38, 51), (38, 411), (38, 419), (38, 497), (39, 189), (39, 211), (39, 291), (39, 479), (40, 53), (40, 95), (40, 102), (40, 167), (40, 179), (40, 216), (40, 230), (40, 244), (40, 248), (40, 252), (40, 257), (40, 298), (40, 326), (40, 328), (40, 342), (40, 351), (40, 358), (40, 361), (40, 369), (40, 383), (40, 392), (40, 427), (40, 469), (40, 474), (40, 483), (40, 487), (41, 55), (41, 150), (41, 159), (41, 225), (41, 250), (41, 262), (41, 288), (41, 314), (41, 317), (41, 334), (41, 352), (41, 453), (41, 496), (42, 137), (42, 202), (42, 235), (42, 394), (42, 497), (43, 228), (44, 68), (44, 83), (44, 87), (44, 111), (44, 115), (44, 153), (44, 157), (44, 166), (44, 190), (44, 214), (44, 244), (44, 256), (44, 258), (44, 277), (44, 278), (44, 293), (44, 328), (44, 331), (44, 355), (44, 364), (44, 444), (44, 487), (44, 492), (45, 63), (45, 83), (45, 111), (45, 166), (45, 207), (45, 364), (46, 386), (46, 435), (46, 442), (48, 51), (49, 260), (49, 280), (49, 439), (50, 151), (50, 154), (50, 182), (50, 192), (50, 222), (50, 253), (50, 352), (50, 401), (50, 421), (50, 440), (52, 86), (52, 438), (53, 68), (53, 108), (53, 159), (53, 230), (53, 326), (53, 331), (53, 351), (53, 361), (53, 392), (53, 427), (53, 431), (53, 460), (53, 487), (53, 496), (55, 165), (55, 203), (55, 236), (55, 243), (55, 246), (55, 257), (55, 272), (55, 288), (55, 314), (55, 319), (55, 328), (55, 377), (55, 389), (55, 453), (57, 98), (57, 152), (57, 206), (57, 270), (57, 333), (57, 400), (57, 403), (59, 359), (60, 61), (60, 69), (60, 174), (60, 189), (60, 195), (60, 211), (60, 234), (60, 278), (60, 286), (60, 293), (60, 324), (60, 360), (60, 422), (60, 444), (60, 479), (61, 87), (61, 89), (61, 190), (61, 211), (61, 258), (61, 277), (61, 355), (61, 401), (61, 421), (61, 422), (61, 455), (61, 468), (62, 115), (62, 118), (64, 320), (64, 423), (65, 102), (65, 188), (65, 248), (65, 375), (65, 475), (66, 71), (66, 75), (66, 271), (67, 167), (67, 186), (67, 188), (67, 216), (67, 252), (67, 469), (68, 83), (68, 85), (68, 87), (68, 115), (68, 142), (68, 157), (68, 165), (68, 186), (68, 190), (68, 214), (68, 257), (68, 258), (68, 261), (68, 277), (68, 301), (68, 328), (68, 329), (68, 331), (68, 355), (68, 358), (68, 361), (68, 364), (68, 392), (68, 409), (68, 443), (68, 455), (68, 471), (68, 472), (68, 487), (68, 492), (69, 195), (69, 293), (70, 315), (70, 432), (70, 476), (71, 187), (72, 98), (72, 110), (72, 126), (72, 218), (72, 221), (72, 297), (72, 357), (72, 398), (72, 408), (72, 418), (73, 220), (73, 390), (75, 206), (75, 271), (75, 333), (76, 100), (76, 136), (76, 224), (76, 406), (77, 132), (77, 141), (77, 393), (78, 170), (78, 234), (78, 266), (78, 344), (78, 370), (78, 422), (78, 445), (79, 172), (79, 178), (79, 227), (80, 231), (80, 354), (80, 413), (81, 97), (81, 112), (81, 315), (81, 411), (81, 423), (81, 432), (83, 87), (83, 111), (83, 153), (83, 157), (83, 165), (83, 166), (83, 226), (83, 244), (83, 257), (83, 258), (83, 277), (83, 278), (83, 293), (83, 298), (83, 301), (83, 308), (83, 328), (83, 355), (83, 364), (83, 369), (83, 392), (83, 444), (83, 487), (83, 492), (85, 115), (85, 157), (85, 165), (85, 257), (85, 328), (85, 329), (85, 331), (85, 364), (85, 392), (85, 409), (85, 472), (86, 128), (86, 183), (86, 300), (86, 333), (86, 385), (86, 426), (86, 428), (86, 438), (86, 482), (87, 156), (87, 157), (87, 165), (87, 190), (87, 214), (87, 244), (87, 258), (87, 277), (87, 278), (87, 301), (87, 328), (87, 331), (87, 355), (87, 409), (87, 422), (87, 424), (87, 461), (87, 468), (87, 472), (87, 492), (87, 494), (88, 174), (88, 390), (88, 401), (88, 481), (89, 109), (89, 122), (89, 131), (89, 149), (89, 150), (89, 164), (89, 190), (89, 192), (89, 211), (89, 219), (89, 257), (89, 277), (89, 278), (89, 286), (89, 301), (89, 311), (89, 314), (89, 328), (89, 339), (89, 349), (89, 360), (89, 377), (89, 401), (89, 420), (89, 421), (89, 422), (89, 453), (89, 455), (90, 304), (90, 476), (93, 274), (93, 497), (94, 410), (95, 148), (95, 351), (95, 364), (95, 369), (95, 383), (95, 474), (95, 487), (96, 181), (96, 391), (97, 423), (98, 126), (98, 218), (98, 297), (98, 398), (98, 400), (98, 408), (98, 418), (99, 146), (99, 168), (99, 188), (99, 216), (99, 248), (100, 103), (100, 224), (100, 247), (100, 268), (100, 353), (100, 406), (100, 437), (101, 163), (101, 246), (101, 319), (101, 322), (101, 389), (101, 478), (102, 146), (102, 326), (102, 427), (102, 475), (103, 247), (103, 268), (103, 437), (104, 243), (104, 362), (104, 396), (107, 493), (108, 167), (108, 186), (108, 252), (108, 326), (108, 358), (108, 361), (108, 366), (108, 431), (108, 469), (109, 131), (109, 133), (109, 164), (109, 170), (109, 171), (109, 174), (109, 211), (109, 219), (109, 286), (109, 294), (109, 311), (109, 344), (109, 354), (109, 377), (109, 413), (109, 422), (109, 458), (110, 126), (110, 140), (110, 160), (110, 205), (110, 218), (110, 229), (110, 237), (110, 297), (110, 325), (110, 332), (110, 357), (110, 365), (110, 388), (110, 395), (110, 398), (110, 404), (110, 408), (110, 418), (110, 456), (111, 153), (111, 166), (111, 226), (111, 244), (111, 293), (111, 298), (111, 308), (111, 364), (111, 487), (115, 118), (115, 157), (115, 165), (115, 277), (115, 301), (115, 328), (115, 329), (115, 331), (115, 355), (115, 409), (115, 433), (115, 455), (115, 472), (117, 417), (120, 255), (122, 211), (122, 220), (122, 360), (122, 401), (122, 421), (122, 448), (122, 479), (123, 199), (124, 133), (124, 163), (124, 246), (124, 311), (124, 319), (124, 389), (124, 390), (125, 443), (126, 140), (126, 160), (126, 194), (126, 205), (126, 218), (126, 221), (126, 297), (126, 300), (126, 325), (126, 332), (126, 357), (126, 365), (126, 395), (126, 398), (126, 408), (126, 418), (126, 485), (128, 229), (128, 300), (128, 385), (128, 426), (128, 438), (128, 456), (128, 489), (129, 157), (129, 280), (129, 329), (129, 355), (129, 409), (129, 455), (129, 472), (130, 198), (130, 227), (130, 270), (130, 410), (130, 428), (131, 133), (131, 171), (131, 180), (131, 236), (131, 257), (131, 284), (131, 311), (131, 339), (131, 354), (131, 359), (131, 360), (131, 377), (131, 413), (132, 203), (132, 241), (132, 393), (133, 170), (133, 172), (133, 212), (133, 311), (133, 316), (133, 354), (133, 359), (133, 363), (133, 377), (133, 413), (133, 466), (135, 140), (135, 194), (135, 205), (135, 215), (135, 221), (135, 237), (135, 404), (136, 463), (137, 235), (138, 373), (138, 467), (140, 194), (140, 205), (140, 215), (140, 218), (140, 237), (140, 297), (140, 357), (140, 398), (140, 404), (140, 408), (140, 418), (141, 204), (141, 379), (141, 393), (142, 159), (142, 256), (142, 328), (142, 352), (142, 431), (142, 443), (142, 496), (143, 203), (144, 149), (146, 216), (146, 248), (146, 475), (148, 153), (148, 155), (148, 193), (148, 214), (148, 244), (148, 369), (148, 383), (148, 461), (148, 474), (148, 487), (148, 488), (149, 150), (149, 162), (149, 236), (149, 311), (149, 314), (149, 318), (149, 328), (149, 334), (149, 420), (149, 421), (149, 453), (149, 461), (149, 466), (150, 162), (150, 225), (150, 236), (150, 288), (150, 314), (150, 318), (150, 334), (150, 420), (150, 421), (150, 434), (150, 453), (150, 461), (151, 172), (151, 209), (151, 222), (151, 250), (152, 206), (152, 400), (153, 157), (153, 166), (153, 226), (153, 244), (153, 278), (153, 328), (153, 369), (153, 461), (153, 487), (153, 492), (154, 174), (154, 222), (154, 401), (154, 421), (154, 440), (155, 193), (155, 214), (155, 216), (155, 244), (155, 351), (155, 358), (155, 369), (155, 443), (155, 474), (155, 483), (155, 487), (155, 488), (155, 492), (156, 157), (156, 190), (156, 225), (156, 258), (156, 277), (156, 285), (156, 401), (156, 421), (156, 424), (156, 448), (156, 468), (157, 165), (157, 190), (157, 214), (157, 258), (157, 261), (157, 277), (157, 280), (157, 301), (157, 328), (157, 329), (157, 331), (157, 355), (157, 409), (157, 424), (157, 443), (157, 455), (157, 468), (157, 471), (157, 472), (157, 487), (157, 492), (157, 494), (158, 196), (158, 435), (159, 190), (159, 225), (159, 256), (159, 262), (159, 285), (159, 317), (159, 352), (159, 361), (159, 431), (159, 453), (159, 496), (160, 218), (160, 229), (160, 297), (160, 300), (160, 325), (160, 332), (160, 357), (160, 365), (160, 395), (160, 398), (160, 408), (160, 418), (160, 456), (161, 220), (161, 246), (161, 319), (161, 360), (161, 433), (161, 440), (162, 236), (162, 314), (162, 318), (162, 334), (162, 420), (162, 434), (162, 461), (162, 471), (163, 246), (163, 319), (163, 322), (163, 389), (163, 429), (164, 190), (164, 219), (164, 231), (164, 277), (164, 294), (164, 301), (164, 328), (164, 339), (164, 349), (164, 368), (164, 370), (164, 377), (164, 421), (164, 422), (165, 214), (165, 244), (165, 257), (165, 258), (165, 328), (165, 331), (165, 364), (165, 392), (165, 409), (165, 443), (165, 471), (165, 487), (166, 226), (166, 244), (166, 278), (166, 293), (166, 298), (166, 308), (166, 328), (166, 364), (166, 369), (166, 383), (166, 392), (166, 487), (167, 186), (167, 188), (167, 203), (167, 214), (167, 216), (167, 219), (167, 236), (167, 248), (167, 252), (167, 257), (167, 298), (167, 314), (167, 326), (167, 328), (167, 358), (167, 369), (167, 392), (167, 420), (167, 427), (167, 469), (167, 471), (167, 472), (167, 483), (167, 487), (167, 488), (168, 188), (168, 414), (169, 345), (170, 171), (170, 172), (170, 174), (170, 178), (170, 286), (170, 311), (170, 354), (170, 370), (170, 413), (171, 266), (171, 294), (171, 301), (171, 339), (171, 344), (171, 354), (171, 377), (171, 413), (171, 422), (171, 445), (172, 192), (172, 209), (172, 311), (172, 382), (174, 211), (174, 234), (174, 246), (174, 311), (174, 319), (174, 390), (174, 401), (174, 422), (174, 481), (175, 178), (175, 301), (175, 331), (175, 429), (175, 433), (177, 181), (177, 273), (177, 481), (179, 203), (179, 243), (179, 351), (179, 414), (179, 475), (180, 211), (180, 278), (180, 286), (180, 311), (180, 360), (180, 377), (180, 382), (180, 444), (181, 391), (181, 481), (183, 206), (183, 270), (183, 300), (183, 333), (183, 385), (183, 438), (183, 495), (184, 254), (186, 203), (186, 214), (186, 225), (186, 252), (186, 314), (186, 328), (186, 329), (186, 334), (186, 358), (186, 420), (186, 443), (186, 453), (186, 471), (187, 348), (188, 248), (189, 211), (189, 479), (190, 225), (190, 256), (190, 257), (190, 258), (190, 262), (190, 277), (190, 278), (190, 301), (190, 314), (190, 328), (190, 331), (190, 334), (190, 339), (190, 352), (190, 360), (190, 368), (190, 377), (190, 401), (190, 409), (190, 421), (190, 422), (190, 424), (190, 448), (190, 453), (190, 468), (190, 471), (190, 496), (192, 262), (192, 339), (192, 421), (193, 214), (193, 244), (193, 351), (193, 383), (193, 392), (193, 461), (194, 205), (194, 215), (194, 221), (194, 237), (194, 357), (194, 398), (194, 404), (194, 408), (194, 418), (195, 211), (195, 293), (195, 324), (195, 444), (196, 386), (196, 435), (196, 442), (199, 304), (199, 374), (200, 207), (200, 320), (201, 226), (203, 236), (203, 314), (203, 358), (203, 471), (204, 283), (205, 215), (205, 218), (205, 221), (205, 237), (205, 297), (205, 305), (205, 325), (205, 332), (205, 357), (205, 398), (205, 404), (205, 408), (205, 418), (206, 270), (206, 333), (206, 403), (206, 454), (206, 489), (206, 495), (209, 311), (211, 277), (211, 278), (211, 286), (211, 293), (211, 311), (211, 360), (211, 364), (211, 377), (211, 382), (211, 421), (211, 422), (211, 444), (212, 393), (214, 216), (214, 252), (214, 258), (214, 261), (214, 277), (214, 328), (214, 329), (214, 358), (214, 369), (214, 409), (214, 443), (214, 461), (214, 471), (214, 472), (214, 483), (214, 487), (214, 488), (214, 492), (214, 494), (215, 221), (215, 237), (215, 404), (216, 252), (216, 351), (216, 358), (216, 369), (216, 427), (216, 439), (216, 469), (216, 474), (216, 483), (216, 487), (216, 488), (217, 412), (217, 467), (218, 229), (218, 297), (218, 300), (218, 325), (218, 332), (218, 357), (218, 365), (218, 395), (218, 398), (218, 408), (218, 418), (218, 456), (219, 252), (219, 257), (219, 294), (219, 298), (219, 301), (219, 326), (219, 328), (219, 349), (219, 363), (219, 389), (219, 420), (219, 455), (220, 246), (220, 319), (220, 390), (221, 237), (221, 347), (221, 398), (221, 404), (221, 408), (222, 352), (222, 401), (222, 440), (222, 477), (223, 310), (224, 470), (225, 262), (225, 314), (225, 317), (225, 421), (225, 424), (225, 434), (225, 453), (225, 496), (226, 293), (226, 364), (226, 462), (227, 270), (227, 410), (227, 428), (228, 243), (229, 297), (229, 300), (229, 325), (229, 332), (229, 357), (229, 365), (229, 395), (229, 418), (229, 438), (229, 456), (229, 482), (230, 245), (230, 257), (230, 361), (230, 460), (230, 478), (231, 257), (231, 294), (231, 298), (231, 342), (231, 377), (231, 422), (231, 439), (231, 458), (231, 483), (232, 425), (233, 351), (233, 364), (233, 383), (233, 460), (234, 266), (234, 324), (234, 344), (234, 370), (234, 376), (234, 422), (235, 394), (235, 497), (236, 252), (236, 257), (236, 272), (236, 284), (236, 314), (236, 328), (236, 334), (236, 359), (236, 369), (236, 377), (236, 420), (236, 471), (236, 483), (237, 357), (237, 404), (237, 418), (240, 320), (241, 393), (241, 397), (243, 292), (243, 429), (244, 257), (244, 258), (244, 278), (244, 293), (244, 298), (244, 308), (244, 328), (244, 364), (244, 369), (244, 383), (244, 392), (244, 461), (244, 483), (244, 487), (245, 326), (245, 460), (245, 478), (246, 257), (246, 319), (246, 322), (246, 364), (246, 389), (246, 390), (246, 440), (246, 478), (246, 481), (247, 437), (248, 342), (248, 369), (248, 375), (248, 475), (248, 483), (249, 291), (250, 262), (250, 352), (250, 434), (250, 453), (251, 279), (251, 459), (251, 498), (251, 499), (252, 257), (252, 280), (252, 298), (252, 314), (252, 326), (252, 328), (252, 329), (252, 358), (252, 369), (252, 392), (252, 409), (252, 420), (252, 427), (252, 443), (252, 469), (252, 471), (252, 472), (252, 483), (252, 487), (252, 488), (252, 494), (253, 303), (253, 410), (254, 401), (254, 421), (254, 448), (256, 277), (256, 278), (256, 285), (256, 328), (256, 352), (256, 448), (256, 453), (256, 461), (256, 462), (256, 492), (256, 496), (257, 272), (257, 298), (257, 314), (257, 319), (257, 326), (257, 328), (257, 331), (257, 339), (257, 364), (257, 369), (257, 377), (257, 383), (257, 389), (257, 392), (257, 427), (257, 453), (257, 471), (257, 483), (257, 487), (258, 277), (258, 278), (258, 301), (258, 328), (258, 331), (258, 355), (258, 409), (258, 422), (258, 424), (258, 461), (258, 468), (258, 472), (258, 492), (258, 494), (260, 280), (260, 439), (261, 302), (261, 329), (261, 409), (261, 443), (261, 472), (261, 494), (262, 317), (262, 339), (262, 421), (262, 453), (262, 496), (266, 294), (266, 301), (266, 344), (266, 368), (266, 370), (266, 422), (266, 445), (268, 346), (268, 394), (268, 437), (268, 450), (268, 497), (269, 391), (269, 489), (270, 333), (270, 403), (272, 284), (273, 481), (274, 394), (277, 278), (277, 301), (277, 328), (277, 331), (277, 334), (277, 355), (277, 401), (277, 409), (277, 421), (277, 422), (277, 424), (277, 444), (277, 448), (277, 453), (277, 455), (277, 468), (277, 472), (277, 492), (278, 293), (278, 328), (278, 360), (278, 364), (278, 377), (278, 422), (278, 444), (278, 448), (278, 453), (278, 461), (279, 459), (279, 498), (280, 302), (280, 329), (280, 409), (280, 472), (281, 411), (281, 419), (282, 292), (284, 314), (284, 334), (284, 359), (284, 377), (284, 483), (285, 352), (285, 424), (285, 448), (285, 496), (286, 293), (286, 311), (286, 360), (286, 370), (286, 377), (286, 422), (286, 444), (286, 451), (286, 458), (287, 320), (287, 423), (289, 391), (291, 382), (292, 316), (292, 354), (292, 363), (292, 413), (293, 298), (293, 360), (293, 364), (293, 377), (293, 422), (293, 444), (293, 458), (294, 301), (294, 344), (294, 368), (294, 370), (294, 422), (294, 458), (297, 300), (297, 325), (297, 332), (297, 357), (297, 365), (297, 395), (297, 398), (297, 408), (297, 418), (297, 456), (298, 308), (298, 328), (298, 342), (298, 364), (298, 369), (298, 427), (298, 439), (298, 451), (298, 458), (298, 469), (298, 483), (298, 487), (298, 488), (299, 380), (299, 500), (300, 357), (300, 365), (300, 385), (300, 395), (300, 398), (300, 408), (300, 415), (300, 418), (300, 438), (300, 456), (300, 482), (301, 328), (301, 331), (301, 344), (301, 360), (301, 368), (301, 370), (301, 409), (301, 422), (301, 455), (301, 458), (301, 472), (302, 472), (306, 450), (308, 328), (308, 364), (311, 349), (311, 354), (311, 360), (311, 377), (311, 413), (311, 421), (311, 453), (311, 466), (314, 318), (314, 328), (314, 334), (314, 339), (314, 358), (314, 359), (314, 369), (314, 377), (314, 420), (314, 421), (314, 453), (314, 461), (314, 471), (314, 483), (315, 330), (315, 432), (316, 354), (316, 363), (316, 413), (317, 334), (317, 352), (317, 453), (317, 496), (318, 420), (318, 434), (318, 461), (318, 471), (319, 322), (319, 364), (319, 389), (319, 390), (319, 440), (319, 478), (319, 481), (320, 423), (322, 389), (322, 478), (324, 422), (325, 332), (325, 357), (325, 365), (325, 388), (325, 395), (325, 398), (325, 408), (325, 418), (325, 456), (326, 361), (326, 389), (326, 427), (328, 329), (328, 331), (328, 334), (328, 355), (328, 358), (328, 364), (328, 369), (328, 377), (328, 392), (328, 409), (328, 420), (328, 443), (328, 453), (328, 455), (328, 461), (328, 471), (328, 472), (328, 474), (328, 483), (328, 487), (328, 488), (328, 494), (329, 331), (329, 355), (329, 358), (329, 409), (329, 443), (329, 455), (329, 471), (329, 472), (329, 494), (331, 361), (331, 368), (331, 409), (331, 427), (331, 455), (331, 472), (331, 487), (332, 357), (332, 365), (332, 388), (332, 395), (332, 398), (332, 408), (332, 418), (332, 456), (333, 385), (333, 403), (333, 495), (334, 339), (334, 352), (334, 420), (334, 434), (334, 453), (334, 468), (334, 471), (339, 342), (339, 377), (339, 421), (339, 453), (342, 349), (342, 377), (342, 389), (342, 427), (342, 458), (342, 469), (344, 368), (344, 370), (344, 422), (344, 445), (344, 458), (346, 394), (346, 437), (346, 450), (348, 482), (349, 363), (349, 377), (349, 389), (349, 458), (351, 358), (351, 361), (351, 369), (351, 383), (351, 392), (351, 431), (351, 469), (351, 474), (351, 487), (352, 401), (352, 421), (352, 440), (352, 448), (352, 453), (352, 496), (353, 437), (354, 363), (354, 377), (354, 413), (355, 409), (355, 455), (355, 468), (355, 472), (355, 492), (357, 365), (357, 395), (357, 398), (357, 404), (357, 408), (357, 418), (357, 456), (357, 485), (358, 369), (358, 392), (358, 409), (358, 420), (358, 427), (358, 431), (358, 443), (358, 469), (358, 471), (358, 472), (358, 483), (358, 487), (358, 488), (358, 494), (359, 466), (360, 363), (360, 377), (360, 421), (360, 422), (360, 444), (361, 392), (361, 427), (361, 431), (361, 460), (361, 487), (361, 496), (363, 413), (363, 493), (364, 383), (364, 392), (364, 444), (364, 487), (365, 385), (365, 395), (365, 398), (365, 408), (365, 418), (365, 438), (365, 456), (365, 482), (365, 485), (366, 431), (367, 414), (368, 370), (368, 422), (368, 445), (369, 383), (369, 392), (369, 461), (369, 469), (369, 471), (369, 474), (369, 483), (369, 487), (369, 488), (370, 422), (370, 445), (373, 467), (375, 380), (375, 500), (377, 389), (377, 413), (377, 422), (377, 451), (377, 453), (377, 458), (379, 387), (380, 447), (380, 500), (382, 479), (383, 392), (383, 474), (385, 426), (385, 428), (385, 438), (385, 482), (386, 435), (386, 442), (389, 458), (389, 478), (390, 440), (390, 481), (392, 427), (392, 487), (394, 437), (394, 450), (394, 497), (395, 398), (395, 408), (395, 418), (395, 456), (398, 408), (398, 418), (398, 485), (401, 421), (401, 424), (401, 440), (401, 448), (401, 453), (401, 468), (404, 418), (408, 418), (408, 485), (409, 443), (409, 455), (409, 468), (409, 471), (409, 472), (409, 494), (411, 419), (412, 449), (412, 467), (412, 485), (416, 447), (418, 456), (419, 497), (420, 461), (420, 471), (421, 424), (421, 448), (421, 453), (421, 468), (422, 444), (422, 458), (424, 448), (424, 468), (426, 428), (426, 438), (427, 469), (427, 487), (431, 474), (431, 496), (433, 440), (434, 468), (434, 471), (435, 442), (438, 482), (439, 469), (439, 483), (440, 481), (443, 461), (443, 471), (443, 472), (443, 494), (447, 500), (448, 468), (449, 485), (449, 495), (451, 458), (453, 496), (455, 472), (456, 482), (459, 498), (461, 471), (461, 494), (464, 489), (467, 485), (469, 483), (469, 487), (471, 472), (471, 483), (471, 488), (471, 494), (472, 494), (474, 475), (474, 483), (474, 487), (474, 488), (477, 481), (483, 488), (487, 488)]\n",
      "\n",
      "Closest paths from node 500 to target nodes:\n",
      "To node 155:\n",
      "   Path: [500, 35, 248, 369, 155]\n",
      "   Distance: 1043.253396702202\n",
      "To node 249:\n",
      "   Path: [500, 299, 15, 286, 211, 39, 291, 249]\n",
      "   Distance: 1825.6934442288534\n",
      "To node 330:\n",
      "   Path: [500, 35, 248, 369, 83, 45, 207, 200, 320, 423, 81, 315, 330]\n",
      "   Distance: 3129.760190106607\n",
      "Llega\n"
     ]
    }
   ],
   "source": [
    "np.random.seed(0)\n",
    "t0 = time.process_time()\n",
    "face = FACE(bayesian_network=learned_kde, features= df_pre.columns[:-1], dataset=df_pre.drop(\"class\", axis = 1).sample(frac = 1).reset_index(drop=True).head(500), graph_type = \"epsilon\", chunks = 5, penalty=1, distance_threshold=np.sqrt(0.5**2*11), accuracy_threshold= 0.05, likelihood_threshold=0.0005, verbose = True)\n",
    "res = face.run(df_pre.iloc[[0]])\n",
    "#print(time.process_time()-t0)"
   ],
   "metadata": {
    "collapsed": false,
    "ExecuteTime": {
     "end_time": "2024-01-31T11:40:25.336753376Z",
     "start_time": "2024-01-31T11:40:23.444537860Z"
    }
   },
   "id": "16d347947f4ef5cf",
   "execution_count": 40
  },
  {
   "cell_type": "code",
   "outputs": [
    {
     "data": {
      "text/plain": "36.61796837652288"
     },
     "execution_count": 65,
     "metadata": {},
     "output_type": "execute_result"
    }
   ],
   "source": [
    "path_likelihood_length(res.path,learned_kde)"
   ],
   "metadata": {
    "collapsed": false,
    "ExecuteTime": {
     "end_time": "2024-01-31T12:05:20.903776944Z",
     "start_time": "2024-01-31T12:05:20.866856826Z"
    }
   },
   "id": "dc56ac02807e36fd",
   "execution_count": 65
  },
  {
   "cell_type": "code",
   "outputs": [
    {
     "data": {
      "text/plain": "array([36.43455058])"
     },
     "execution_count": 64,
     "metadata": {},
     "output_type": "execute_result"
    }
   ],
   "source": [
    "res_opt.distance"
   ],
   "metadata": {
    "collapsed": false,
    "ExecuteTime": {
     "end_time": "2024-01-31T12:05:15.109818418Z",
     "start_time": "2024-01-31T12:05:15.052506120Z"
    }
   },
   "id": "a12eb87c4502f2a3",
   "execution_count": 64
  },
  {
   "cell_type": "code",
   "outputs": [
    {
     "name": "stdout",
     "output_type": "stream",
     "text": [
      "==========================================================================================\n",
      "n_gen  |  n_eval  | n_nds  |     cv_min    |     cv_avg    |      eps      |   indicator  \n",
      "==========================================================================================\n",
      "     1 |      150 |      1 |  0.0000999371 |  0.6452130996 |             - |             -\n",
      "     2 |      300 |      1 |  0.0000999371 |  0.3260071369 |             - |             -\n",
      "     3 |      450 |      1 |  0.0000999371 |  0.0296590994 |             - |             -\n",
      "     4 |      600 |      1 |  0.0000974280 |  0.0000999788 |             - |             -\n",
      "     5 |      750 |      1 |  0.0000960108 |  0.0000999260 |             - |             -\n",
      "     6 |      900 |      1 |  0.0000944523 |  0.0000998022 |             - |             -\n",
      "     7 |     1050 |      1 |  0.0000944523 |  0.0000996579 |             - |             -\n",
      "     8 |     1200 |      1 |  0.0000936534 |  0.0000993048 |             - |             -\n",
      "     9 |     1350 |      1 |  0.0000882130 |  0.0000981976 |             - |             -\n",
      "    10 |     1500 |      1 |  0.0000876779 |  0.0000962414 |             - |             -\n",
      "    11 |     1650 |      1 |  0.0000626372 |  0.0000934277 |             - |             -\n",
      "    12 |     1800 |      1 |  0.0000580752 |  0.0000896580 |             - |             -\n",
      "    13 |     1950 |      1 |  0.0000507800 |  0.0000834303 |             - |             -\n",
      "    14 |     2100 |      1 |  1.020534E-06 |  0.0000745486 |             - |             -\n",
      "    15 |     2250 |      1 |  0.000000E+00 |  0.0000614874 |             - |             -\n",
      "    16 |     2400 |      1 |  0.000000E+00 |  0.0000451063 |  3.652008E+01 |         ideal\n",
      "    17 |     2550 |      1 |  0.000000E+00 |  0.0000284473 |  2.4001310719 |         ideal\n",
      "    18 |     2700 |      1 |  0.000000E+00 |  0.0000114305 |  2.259697E+02 |         ideal\n",
      "    19 |     2850 |      1 |  0.000000E+00 |  2.685988E-06 |  6.430813E+01 |         ideal\n",
      "    20 |     3000 |      1 |  0.000000E+00 |  0.000000E+00 |  0.000000E+00 |             f\n",
      "    21 |     3150 |      1 |  0.000000E+00 |  0.000000E+00 |  0.000000E+00 |             f\n",
      "    22 |     3300 |      1 |  0.000000E+00 |  0.000000E+00 |  5.2222610600 |         ideal\n",
      "    23 |     3450 |      1 |  0.000000E+00 |  0.000000E+00 |  0.000000E+00 |             f\n",
      "    24 |     3600 |      1 |  0.000000E+00 |  0.000000E+00 |  6.3914522369 |         ideal\n",
      "    25 |     3750 |      1 |  0.000000E+00 |  0.000000E+00 |  5.4864011359 |         ideal\n",
      "    26 |     3900 |      1 |  0.000000E+00 |  0.000000E+00 |  4.2558541486 |         ideal\n",
      "    27 |     4050 |      1 |  0.000000E+00 |  0.000000E+00 |  6.4943879712 |         ideal\n",
      "    28 |     4200 |      1 |  0.000000E+00 |  0.000000E+00 |  4.5165466829 |         ideal\n",
      "    29 |     4350 |      1 |  0.000000E+00 |  0.000000E+00 |  1.810344E+01 |         ideal\n",
      "    30 |     4500 |      1 |  0.000000E+00 |  0.000000E+00 |  0.000000E+00 |             f\n",
      "91.84966278076172\n"
     ]
    }
   ],
   "source": [
    "t0 = time.time()\n",
    "n_vertex = 2\n",
    "x_og = df.iloc[[0]]\n",
    "bayesace = BayesACE(bayesian_network=learned, features= df.columns[:-1], n_vertex=n_vertex, chunks = 5, penalty=1, pop_size=150, likelihood_threshold=0.0001, accuracy_threshold= 0.1, generations=30)\n",
    "res_opt = bayesace.run(x_og, n_processes=1)\n",
    "print(time.time()-t0)"
   ],
   "metadata": {
    "collapsed": false,
    "ExecuteTime": {
     "end_time": "2024-02-01T10:47:28.104515847Z",
     "start_time": "2024-02-01T10:45:56.254071492Z"
    }
   },
   "id": "1dcb8387bc03416",
   "execution_count": 24
  },
  {
   "cell_type": "code",
   "outputs": [
    {
     "data": {
      "text/plain": "fixed acidity          -0.728087\nvolatile acidity        0.260181\ncitric acid            -0.036504\nresidual sugar         -0.269755\nchlorides              -0.499612\nfree sulfur dioxide     0.755435\ntotal sulfur dioxide   -0.403147\ndensity                -1.523288\npH                     -0.132385\nsulphates              -0.211995\nalcohol                 1.904296\nName: 155, dtype: float64"
     },
     "execution_count": 48,
     "metadata": {},
     "output_type": "execute_result"
    }
   ],
   "source": [
    "res.counterfactual"
   ],
   "metadata": {
    "collapsed": false,
    "ExecuteTime": {
     "end_time": "2024-01-31T11:48:31.314640548Z",
     "start_time": "2024-01-31T11:48:31.301659634Z"
    }
   },
   "id": "79205ced0fecef96",
   "execution_count": 48
  },
  {
   "cell_type": "code",
   "outputs": [
    {
     "data": {
      "text/plain": "fixed acidity           0.817333\nvolatile acidity       -0.250464\ncitric acid             0.687118\nresidual sugar         -0.661246\nchlorides               0.113358\nfree sulfur dioxide    -1.014017\ntotal sulfur dioxide   -1.213462\ndensity                -0.550290\npH                      0.389414\nsulphates               0.293936\nalcohol                 1.043154\nName: 3, dtype: float64"
     },
     "execution_count": 25,
     "metadata": {},
     "output_type": "execute_result"
    }
   ],
   "source": [
    "res_opt.counterfactual"
   ],
   "metadata": {
    "collapsed": false,
    "ExecuteTime": {
     "end_time": "2024-02-01T10:47:28.111818671Z",
     "start_time": "2024-02-01T10:47:28.103917092Z"
    }
   },
   "id": "ff42c06611975f40",
   "execution_count": 25
  },
  {
   "cell_type": "code",
   "outputs": [
    {
     "data": {
      "text/plain": "fixed acidity           0.817333\nvolatile acidity       -0.250464\ncitric acid             0.687118\nresidual sugar         -0.661246\nchlorides               0.113358\nfree sulfur dioxide    -1.014017\ntotal sulfur dioxide   -1.213462\ndensity                -0.550290\npH                      0.389414\nsulphates               0.293936\nalcohol                 1.043154\nName: 3, dtype: float64"
     },
     "execution_count": 26,
     "metadata": {},
     "output_type": "execute_result"
    }
   ],
   "source": [
    "res_opt.counterfactual"
   ],
   "metadata": {
    "collapsed": false,
    "ExecuteTime": {
     "end_time": "2024-02-01T10:49:56.715961342Z",
     "start_time": "2024-02-01T10:49:56.665014496Z"
    }
   },
   "id": "48832104e7809739",
   "execution_count": 26
  },
  {
   "cell_type": "code",
   "outputs": [
    {
     "ename": "NameError",
     "evalue": "name 'res' is not defined",
     "output_type": "error",
     "traceback": [
      "\u001B[0;31m---------------------------------------------------------------------------\u001B[0m",
      "\u001B[0;31mNameError\u001B[0m                                 Traceback (most recent call last)",
      "Cell \u001B[0;32mIn[19], line 1\u001B[0m\n\u001B[0;32m----> 1\u001B[0m np\u001B[38;5;241m.\u001B[39msum(np\u001B[38;5;241m.\u001B[39mabs(\u001B[43mres\u001B[49m\u001B[38;5;241m.\u001B[39mcounterfactual\u001B[38;5;241m-\u001B[39mres_opt\u001B[38;5;241m.\u001B[39mcounterfactual))\u001B[38;5;241m/\u001B[39m\u001B[38;5;241m11\u001B[39m\u001B[38;5;241m/\u001B[39m\u001B[38;5;241m6\u001B[39m\n",
      "\u001B[0;31mNameError\u001B[0m: name 'res' is not defined"
     ]
    }
   ],
   "source": [
    "np.sum(np.abs(res.counterfactual-res_opt.counterfactual))/11/6"
   ],
   "metadata": {
    "collapsed": false,
    "ExecuteTime": {
     "end_time": "2024-02-01T10:44:25.287296863Z",
     "start_time": "2024-02-01T10:44:25.245774538Z"
    }
   },
   "id": "83955e3bd572030b",
   "execution_count": 19
  },
  {
   "cell_type": "code",
   "outputs": [
    {
     "data": {
      "text/plain": "   fixed acidity  volatile acidity  citric acid  residual sugar  chlorides  \\\n0       1.074041         -0.071241    -0.186512       -0.959689  -0.206074   \n1      -0.782993          0.417737    -0.583686        0.333003  -0.549122   \n2      -0.611261          0.061735    -0.322317       -0.580877  -0.882620   \n\n   free sulfur dioxide  total sulfur dioxide   density        pH  sulphates  \\\n0            -0.833701             -0.088889 -0.506999 -1.707929  -0.930081   \n1             0.051426              0.404042 -0.705472  0.485267  -0.434907   \n2             0.770653              0.020193 -1.540727  0.239687  -0.330372   \n\n    alcohol  \n0 -0.581331  \n1  0.748370  \n2  1.943428  ",
      "text/html": "<div>\n<style scoped>\n    .dataframe tbody tr th:only-of-type {\n        vertical-align: middle;\n    }\n\n    .dataframe tbody tr th {\n        vertical-align: top;\n    }\n\n    .dataframe thead th {\n        text-align: right;\n    }\n</style>\n<table border=\"1\" class=\"dataframe\">\n  <thead>\n    <tr style=\"text-align: right;\">\n      <th></th>\n      <th>fixed acidity</th>\n      <th>volatile acidity</th>\n      <th>citric acid</th>\n      <th>residual sugar</th>\n      <th>chlorides</th>\n      <th>free sulfur dioxide</th>\n      <th>total sulfur dioxide</th>\n      <th>density</th>\n      <th>pH</th>\n      <th>sulphates</th>\n      <th>alcohol</th>\n    </tr>\n  </thead>\n  <tbody>\n    <tr>\n      <th>0</th>\n      <td>1.074041</td>\n      <td>-0.071241</td>\n      <td>-0.186512</td>\n      <td>-0.959689</td>\n      <td>-0.206074</td>\n      <td>-0.833701</td>\n      <td>-0.088889</td>\n      <td>-0.506999</td>\n      <td>-1.707929</td>\n      <td>-0.930081</td>\n      <td>-0.581331</td>\n    </tr>\n    <tr>\n      <th>1</th>\n      <td>-0.782993</td>\n      <td>0.417737</td>\n      <td>-0.583686</td>\n      <td>0.333003</td>\n      <td>-0.549122</td>\n      <td>0.051426</td>\n      <td>0.404042</td>\n      <td>-0.705472</td>\n      <td>0.485267</td>\n      <td>-0.434907</td>\n      <td>0.748370</td>\n    </tr>\n    <tr>\n      <th>2</th>\n      <td>-0.611261</td>\n      <td>0.061735</td>\n      <td>-0.322317</td>\n      <td>-0.580877</td>\n      <td>-0.882620</td>\n      <td>0.770653</td>\n      <td>0.020193</td>\n      <td>-1.540727</td>\n      <td>0.239687</td>\n      <td>-0.330372</td>\n      <td>1.943428</td>\n    </tr>\n  </tbody>\n</table>\n</div>"
     },
     "execution_count": 51,
     "metadata": {},
     "output_type": "execute_result"
    }
   ],
   "source": [
    "res_opt.path"
   ],
   "metadata": {
    "collapsed": false,
    "ExecuteTime": {
     "end_time": "2024-01-31T11:49:33.462853140Z",
     "start_time": "2024-01-31T11:49:33.401334582Z"
    }
   },
   "id": "77530d69505f84d8",
   "execution_count": 51
  },
  {
   "cell_type": "code",
   "outputs": [
    {
     "data": {
      "text/plain": "      fixed acidity  volatile acidity  citric acid  residual sugar  chlorides  \\\n1454      -1.554062          1.254447    -1.086559       -0.692618   -0.30392   \n\n      free sulfur dioxide  total sulfur dioxide   density       pH  sulphates  \\\n1454            -0.833701             -0.236776 -0.536222  1.50618   2.203383   \n\n       alcohol  \n1454  1.593592  ",
      "text/html": "<div>\n<style scoped>\n    .dataframe tbody tr th:only-of-type {\n        vertical-align: middle;\n    }\n\n    .dataframe tbody tr th {\n        vertical-align: top;\n    }\n\n    .dataframe thead th {\n        text-align: right;\n    }\n</style>\n<table border=\"1\" class=\"dataframe\">\n  <thead>\n    <tr style=\"text-align: right;\">\n      <th></th>\n      <th>fixed acidity</th>\n      <th>volatile acidity</th>\n      <th>citric acid</th>\n      <th>residual sugar</th>\n      <th>chlorides</th>\n      <th>free sulfur dioxide</th>\n      <th>total sulfur dioxide</th>\n      <th>density</th>\n      <th>pH</th>\n      <th>sulphates</th>\n      <th>alcohol</th>\n    </tr>\n  </thead>\n  <tbody>\n    <tr>\n      <th>1454</th>\n      <td>-1.554062</td>\n      <td>1.254447</td>\n      <td>-1.086559</td>\n      <td>-0.692618</td>\n      <td>-0.30392</td>\n      <td>-0.833701</td>\n      <td>-0.236776</td>\n      <td>-0.536222</td>\n      <td>1.50618</td>\n      <td>2.203383</td>\n      <td>1.593592</td>\n    </tr>\n  </tbody>\n</table>\n</div>"
     },
     "execution_count": 169,
     "metadata": {},
     "output_type": "execute_result"
    }
   ],
   "source": [
    "res.path"
   ],
   "metadata": {
    "collapsed": false,
    "ExecuteTime": {
     "end_time": "2024-01-30T15:15:04.346511708Z",
     "start_time": "2024-01-30T15:15:04.298322794Z"
    }
   },
   "id": "822ea023d10326d4",
   "execution_count": 169
  },
  {
   "cell_type": "code",
   "outputs": [
    {
     "data": {
      "text/plain": "     fixed acidity  volatile acidity  citric acid  residual sugar  chlorides  \\\n589       3.551967           0.39275     1.238564       -0.559082   1.522538   \n\n     free sulfur dioxide  total sulfur dioxide   density        pH  sulphates  \\\n589            -1.060721             -1.327436  2.061323 -0.384472    0.50609   \n\n      alcohol  class  \n589 -0.425979  False  ",
      "text/html": "<div>\n<style scoped>\n    .dataframe tbody tr th:only-of-type {\n        vertical-align: middle;\n    }\n\n    .dataframe tbody tr th {\n        vertical-align: top;\n    }\n\n    .dataframe thead th {\n        text-align: right;\n    }\n</style>\n<table border=\"1\" class=\"dataframe\">\n  <thead>\n    <tr style=\"text-align: right;\">\n      <th></th>\n      <th>fixed acidity</th>\n      <th>volatile acidity</th>\n      <th>citric acid</th>\n      <th>residual sugar</th>\n      <th>chlorides</th>\n      <th>free sulfur dioxide</th>\n      <th>total sulfur dioxide</th>\n      <th>density</th>\n      <th>pH</th>\n      <th>sulphates</th>\n      <th>alcohol</th>\n      <th>class</th>\n    </tr>\n  </thead>\n  <tbody>\n    <tr>\n      <th>589</th>\n      <td>3.551967</td>\n      <td>0.39275</td>\n      <td>1.238564</td>\n      <td>-0.559082</td>\n      <td>1.522538</td>\n      <td>-1.060721</td>\n      <td>-1.327436</td>\n      <td>2.061323</td>\n      <td>-0.384472</td>\n      <td>0.50609</td>\n      <td>-0.425979</td>\n      <td>False</td>\n    </tr>\n  </tbody>\n</table>\n</div>"
     },
     "execution_count": 170,
     "metadata": {},
     "output_type": "execute_result"
    }
   ],
   "source": [
    "df.iloc[[0]]"
   ],
   "metadata": {
    "collapsed": false,
    "ExecuteTime": {
     "end_time": "2024-01-30T15:17:23.005174160Z",
     "start_time": "2024-01-30T15:17:22.981122353Z"
    }
   },
   "id": "4f0aee55c830ff58",
   "execution_count": 170
  },
  {
   "cell_type": "code",
   "outputs": [
    {
     "data": {
      "text/plain": "      fixed acidity  volatile acidity  citric acid  residual sugar  chlorides  \\\n1454      -1.554062          1.254447    -1.086559       -0.692618   -0.30392   \n\n      free sulfur dioxide  total sulfur dioxide   density       pH  sulphates  \\\n1454            -0.833701             -0.236776 -0.536222  1.50618   2.203383   \n\n       alcohol class  \n1454  1.593592  True  ",
      "text/html": "<div>\n<style scoped>\n    .dataframe tbody tr th:only-of-type {\n        vertical-align: middle;\n    }\n\n    .dataframe tbody tr th {\n        vertical-align: top;\n    }\n\n    .dataframe thead th {\n        text-align: right;\n    }\n</style>\n<table border=\"1\" class=\"dataframe\">\n  <thead>\n    <tr style=\"text-align: right;\">\n      <th></th>\n      <th>fixed acidity</th>\n      <th>volatile acidity</th>\n      <th>citric acid</th>\n      <th>residual sugar</th>\n      <th>chlorides</th>\n      <th>free sulfur dioxide</th>\n      <th>total sulfur dioxide</th>\n      <th>density</th>\n      <th>pH</th>\n      <th>sulphates</th>\n      <th>alcohol</th>\n      <th>class</th>\n    </tr>\n  </thead>\n  <tbody>\n    <tr>\n      <th>1454</th>\n      <td>-1.554062</td>\n      <td>1.254447</td>\n      <td>-1.086559</td>\n      <td>-0.692618</td>\n      <td>-0.30392</td>\n      <td>-0.833701</td>\n      <td>-0.236776</td>\n      <td>-0.536222</td>\n      <td>1.50618</td>\n      <td>2.203383</td>\n      <td>1.593592</td>\n      <td>True</td>\n    </tr>\n  </tbody>\n</table>\n</div>"
     },
     "execution_count": 171,
     "metadata": {},
     "output_type": "execute_result"
    }
   ],
   "source": [
    "df.loc[[1454]]"
   ],
   "metadata": {
    "collapsed": false,
    "ExecuteTime": {
     "end_time": "2024-01-30T15:17:36.447782934Z",
     "start_time": "2024-01-30T15:17:36.397663328Z"
    }
   },
   "id": "1dec3c6cda0bd239",
   "execution_count": 171
  },
  {
   "cell_type": "code",
   "outputs": [
    {
     "data": {
      "text/plain": "      fixed acidity  volatile acidity  citric acid  residual sugar  chlorides  \\\n1454      -1.554062          1.254447    -1.086559       -0.692618  -0.303920   \n1822      -1.178619          1.121878    -1.461579       -0.158475  -0.401766   \n\n      free sulfur dioxide  total sulfur dioxide   density        pH  \\\n1454            -0.833701             -0.236776 -0.536222  1.506180   \n1822            -0.776946              0.040511 -1.088200  1.254093   \n\n      sulphates   alcohol  \n1454   2.203383  1.593592  \n1822   2.399224  2.214999  ",
      "text/html": "<div>\n<style scoped>\n    .dataframe tbody tr th:only-of-type {\n        vertical-align: middle;\n    }\n\n    .dataframe tbody tr th {\n        vertical-align: top;\n    }\n\n    .dataframe thead th {\n        text-align: right;\n    }\n</style>\n<table border=\"1\" class=\"dataframe\">\n  <thead>\n    <tr style=\"text-align: right;\">\n      <th></th>\n      <th>fixed acidity</th>\n      <th>volatile acidity</th>\n      <th>citric acid</th>\n      <th>residual sugar</th>\n      <th>chlorides</th>\n      <th>free sulfur dioxide</th>\n      <th>total sulfur dioxide</th>\n      <th>density</th>\n      <th>pH</th>\n      <th>sulphates</th>\n      <th>alcohol</th>\n    </tr>\n  </thead>\n  <tbody>\n    <tr>\n      <th>1454</th>\n      <td>-1.554062</td>\n      <td>1.254447</td>\n      <td>-1.086559</td>\n      <td>-0.692618</td>\n      <td>-0.303920</td>\n      <td>-0.833701</td>\n      <td>-0.236776</td>\n      <td>-0.536222</td>\n      <td>1.506180</td>\n      <td>2.203383</td>\n      <td>1.593592</td>\n    </tr>\n    <tr>\n      <th>1822</th>\n      <td>-1.178619</td>\n      <td>1.121878</td>\n      <td>-1.461579</td>\n      <td>-0.158475</td>\n      <td>-0.401766</td>\n      <td>-0.776946</td>\n      <td>0.040511</td>\n      <td>-1.088200</td>\n      <td>1.254093</td>\n      <td>2.399224</td>\n      <td>2.214999</td>\n    </tr>\n  </tbody>\n</table>\n</div>"
     },
     "execution_count": 189,
     "metadata": {},
     "output_type": "execute_result"
    }
   ],
   "source": [
    "res.path"
   ],
   "metadata": {
    "collapsed": false,
    "ExecuteTime": {
     "end_time": "2024-01-30T15:41:52.230524707Z",
     "start_time": "2024-01-30T15:41:52.179068736Z"
    }
   },
   "id": "49e1b322c87c3e3c",
   "execution_count": 189
  },
  {
   "cell_type": "code",
   "outputs": [
    {
     "data": {
      "text/plain": "fixed acidity           3.551967\nvolatile acidity         0.39275\ncitric acid             1.238564\nresidual sugar         -0.559082\nchlorides               1.522538\nfree sulfur dioxide    -1.060721\ntotal sulfur dioxide   -1.327436\ndensity                 2.061323\npH                     -0.384472\nsulphates                0.50609\nalcohol                -0.425979\nclass                      False\nName: 589, dtype: object"
     },
     "execution_count": 190,
     "metadata": {},
     "output_type": "execute_result"
    }
   ],
   "source": [
    "df.iloc[0]"
   ],
   "metadata": {
    "collapsed": false,
    "ExecuteTime": {
     "end_time": "2024-01-30T15:42:09.283242442Z",
     "start_time": "2024-01-30T15:42:09.254443103Z"
    }
   },
   "id": "2af2dbb675992de6",
   "execution_count": 190
  },
  {
   "cell_type": "code",
   "outputs": [
    {
     "data": {
      "text/plain": "fixed acidity          -1.178619\nvolatile acidity        1.121878\ncitric acid            -1.461579\nresidual sugar         -0.158475\nchlorides              -0.401766\nfree sulfur dioxide    -0.776946\ntotal sulfur dioxide    0.040511\ndensity                -1.088200\npH                      1.254093\nsulphates               2.399224\nalcohol                 2.214999\nName: 1822, dtype: float64"
     },
     "execution_count": 191,
     "metadata": {},
     "output_type": "execute_result"
    }
   ],
   "source": [
    "res.counterfactual"
   ],
   "metadata": {
    "collapsed": false,
    "ExecuteTime": {
     "end_time": "2024-01-30T15:42:58.322937349Z",
     "start_time": "2024-01-30T15:42:58.270759262Z"
    }
   },
   "id": "5d229e4952fd9196",
   "execution_count": 191
  },
  {
   "cell_type": "code",
   "outputs": [],
   "source": [],
   "metadata": {
    "collapsed": false
   },
   "id": "9f63b193e0df4026"
  }
 ],
 "metadata": {
  "kernelspec": {
   "display_name": "Python 3 (ipykernel)",
   "language": "python",
   "name": "python3"
  },
  "language_info": {
   "codemirror_mode": {
    "name": "ipython",
    "version": 3
   },
   "file_extension": ".py",
   "mimetype": "text/x-python",
   "name": "python",
   "nbconvert_exporter": "python",
   "pygments_lexer": "ipython3",
   "version": "3.10.13"
  }
 },
 "nbformat": 4,
 "nbformat_minor": 5
}
