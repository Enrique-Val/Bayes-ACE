{
 "cells": [
  {
   "cell_type": "code",
   "execution_count": 1,
   "id": "e5624c71",
   "metadata": {
    "ExecuteTime": {
     "end_time": "2024-01-25T17:29:58.708779146Z",
     "start_time": "2024-01-25T17:29:54.967248375Z"
    }
   },
   "outputs": [],
   "source": [
    "import pandas as pd\n",
    "import numpy as np\n",
    "from pybnesian import hc, CLGNetworkType, SemiparametricBNType, SemiparametricBN, MMHC, RCoT, MutualInformation, KMutualInformation, OperatorSet, Score, OperatorPool, ChangeNodeTypeSet, ArcOperatorSet, HoldoutLikelihood, BIC, BGe, CVLikelihood, CKDE, HCKDE, ValidatedLikelihood\n",
    "#from drawdata import draw_scatter\n",
    "import matplotlib.pyplot as plt\n",
    "\n",
    "from bayesace.utils import *\n",
    "from bayesace.algorithms.bayesace import BayesACE\n",
    "from bayesace.algorithms.face import FACE\n",
    "\n",
    "from sklearn.preprocessing import StandardScaler\n",
    "import openml as oml\n",
    "\n",
    "import time\n"
   ]
  },
  {
   "cell_type": "code",
   "outputs": [
    {
     "name": "stderr",
     "output_type": "stream",
     "text": [
      "/tmp/ipykernel_4048/1030542227.py:1: FutureWarning: Starting from Version 0.15 `download_data`, `download_qualities`, and `download_features_meta_data` will all be ``False`` instead of ``True`` by default to enable lazy loading. To disable this message until version 0.15 explicitly set `download_data`, `download_qualities`, and `download_features_meta_data` to a bool while calling `get_dataset`.\n",
      "  df = oml.datasets.get_dataset(44091).get_data()[0]\n"
     ]
    }
   ],
   "source": [
    "df = oml.datasets.get_dataset(44091).get_data()[0]\n"
   ],
   "metadata": {
    "collapsed": false,
    "ExecuteTime": {
     "end_time": "2024-01-25T17:29:59.755293549Z",
     "start_time": "2024-01-25T17:29:59.525897978Z"
    }
   },
   "id": "b713b8e2c9ac3e2d",
   "execution_count": 2
  },
  {
   "cell_type": "code",
   "outputs": [],
   "source": [
    "df[\"class\"] = df[\"quality\"].astype('string').astype('category')\n",
    "df = df.drop(\"quality\", axis=1)"
   ],
   "metadata": {
    "collapsed": false,
    "ExecuteTime": {
     "end_time": "2024-01-25T17:30:00.185845788Z",
     "start_time": "2024-01-25T17:30:00.077945931Z"
    }
   },
   "id": "496ccf5e8c035444",
   "execution_count": 3
  },
  {
   "cell_type": "code",
   "outputs": [],
   "source": [
    "naive = SemiparametricBN(df.columns)"
   ],
   "metadata": {
    "collapsed": false,
    "ExecuteTime": {
     "end_time": "2024-01-25T17:30:00.877632549Z",
     "start_time": "2024-01-25T17:30:00.842027712Z"
    }
   },
   "id": "5ba5381e91a90da0",
   "execution_count": 4
  },
  {
   "cell_type": "code",
   "outputs": [],
   "source": [
    "for i in [i for i in df.columns if i != \"class\"] :\n",
    "    naive.add_arc(\"class\", i)"
   ],
   "metadata": {
    "collapsed": false,
    "ExecuteTime": {
     "end_time": "2024-01-25T17:30:02.326178568Z",
     "start_time": "2024-01-25T17:30:02.287423556Z"
    }
   },
   "id": "cb6ae853c99c4d4a",
   "execution_count": 5
  },
  {
   "cell_type": "code",
   "outputs": [],
   "source": [
    "df_train = df.head(2000)\n",
    "df_test = df.tail(500)"
   ],
   "metadata": {
    "collapsed": false,
    "ExecuteTime": {
     "end_time": "2024-01-25T17:30:03.119432349Z",
     "start_time": "2024-01-25T17:30:03.090468351Z"
    }
   },
   "id": "7c908f26fcc1d9fc",
   "execution_count": 6
  },
  {
   "cell_type": "code",
   "execution_count": 7,
   "id": "eb6a2ef3",
   "metadata": {
    "ExecuteTime": {
     "end_time": "2024-01-25T17:30:53.050731202Z",
     "start_time": "2024-01-25T17:30:03.737447912Z"
    }
   },
   "outputs": [],
   "source": [
    "test = MutualInformation(df_train, True)\n",
    "#df = pd.read_csv(\"toy-3class.csv\")\n",
    "#df[\"class\"] = df[\"z\"].astype('category')\n",
    "#df[\"z\"] = df[\"z\"].astype('category')\n",
    "#df = df.drop(\"z\", axis = 1 )\n",
    "\n",
    "feature_columns = [i for i in df.columns if i != \"class\"]\n",
    "df[feature_columns] = StandardScaler().fit_transform(df[feature_columns].values)\n",
    "\n",
    "\n",
    "\n",
    "learned = hc(df_train, bn_type = CLGNetworkType(), operators = [\"arcs\"], score = \"bic\")\n",
    "learned.fit(df_train)\n",
    "\n",
    "est = MMHC()\n",
    "learned_kde = MMHC().estimate(hypot_test = test, operators = OperatorPool([ChangeNodeTypeSet(),ArcOperatorSet()]), score = CVLikelihood(df_train), bn_type = SemiparametricBNType()) #, score = \"cv-lik\"\n",
    "learned_kde = hc(df_train, start = naive, operators = [\"node_type\",\"arcs\"], score = \"holdout-lik\", num_folds = 10)\n",
    "learned_kde.fit(df_train)\n",
    "\n"
   ]
  },
  {
   "cell_type": "code",
   "outputs": [
    {
     "name": "stdout",
     "output_type": "stream",
     "text": [
      "fixed acidity\n",
      "[CKDE] P(fixed acidity | chlorides, residual sugar, alcohol, sulphates, total sulfur dioxide) = CKDE with 2000 instances\n",
      "\n",
      "volatile acidity\n",
      "[HCKDE] P(volatile acidity | chlorides, sulphates, pH, class, alcohol, density, total sulfur dioxide)\n",
      "+-------+--------------------------------------------------------------------------------------------------------------------------+\n",
      "|       |                   volatile acidity | chlorides, sulphates, pH, alcohol, density, total sulfur dioxide                    |\n",
      "+-------+--------------------------------------------------------------------------------------------------------------------------+\n",
      "| class |                                                                                                                          |\n",
      "+-------+--------------------------------------------------------------------------------------------------------------------------+\n",
      "| False | [CKDE] P(volatile acidity | chlorides, sulphates, pH, alcohol, density, total sulfur dioxide) = CKDE with 1277 instances |\n",
      "| True  | [CKDE] P(volatile acidity | chlorides, sulphates, pH, alcohol, density, total sulfur dioxide) = CKDE with 723 instances  |\n",
      "+-------+--------------------------------------------------------------------------------------------------------------------------+\n",
      "\n",
      "\n",
      "citric acid\n",
      "[HCKDE] P(citric acid | sulphates, volatile acidity, free sulfur dioxide, chlorides, pH, class, alcohol, total sulfur dioxide, fixed acidity)\n",
      "+-------+------------------------------------------------------------------------------------------------------------------------------------------------------------------+\n",
      "|       |                   citric acid | sulphates, volatile acidity, free sulfur dioxide, chlorides, pH, alcohol, total sulfur dioxide, fixed acidity                    |\n",
      "+-------+------------------------------------------------------------------------------------------------------------------------------------------------------------------+\n",
      "| class |                                                                                                                                                                  |\n",
      "+-------+------------------------------------------------------------------------------------------------------------------------------------------------------------------+\n",
      "| False | [CKDE] P(citric acid | sulphates, volatile acidity, free sulfur dioxide, chlorides, pH, alcohol, total sulfur dioxide, fixed acidity) = CKDE with 1277 instances |\n",
      "| True  | [CKDE] P(citric acid | sulphates, volatile acidity, free sulfur dioxide, chlorides, pH, alcohol, total sulfur dioxide, fixed acidity) = CKDE with 723 instances  |\n",
      "+-------+------------------------------------------------------------------------------------------------------------------------------------------------------------------+\n",
      "\n",
      "\n",
      "residual sugar\n",
      "[CKDE] P(residual sugar | total sulfur dioxide) = CKDE with 2000 instances\n",
      "\n",
      "chlorides\n",
      "[CKDE] P(chlorides | alcohol, total sulfur dioxide) = CKDE with 2000 instances\n",
      "\n",
      "free sulfur dioxide\n",
      "[CKDE] P(free sulfur dioxide) = CKDE with 2000 instances\n",
      "\n",
      "total sulfur dioxide\n",
      "[CKDE] P(total sulfur dioxide | free sulfur dioxide) = CKDE with 2000 instances\n",
      "\n",
      "density\n",
      "[CKDE] P(density | free sulfur dioxide, total sulfur dioxide, sulphates, chlorides, pH, residual sugar, fixed acidity, alcohol) = CKDE with 2000 instances\n",
      "\n",
      "pH\n",
      "[HCKDE] P(pH | fixed acidity, class, total sulfur dioxide, free sulfur dioxide, alcohol, sulphates, residual sugar)\n",
      "+-------+----------------------------------------------------------------------------------------------------------------------------------------+\n",
      "|       |                   pH | fixed acidity, total sulfur dioxide, free sulfur dioxide, alcohol, sulphates, residual sugar                    |\n",
      "+-------+----------------------------------------------------------------------------------------------------------------------------------------+\n",
      "| class |                                                                                                                                        |\n",
      "+-------+----------------------------------------------------------------------------------------------------------------------------------------+\n",
      "| False | [CKDE] P(pH | fixed acidity, total sulfur dioxide, free sulfur dioxide, alcohol, sulphates, residual sugar) = CKDE with 1277 instances |\n",
      "| True  | [CKDE] P(pH | fixed acidity, total sulfur dioxide, free sulfur dioxide, alcohol, sulphates, residual sugar) = CKDE with 723 instances  |\n",
      "+-------+----------------------------------------------------------------------------------------------------------------------------------------+\n",
      "\n",
      "\n",
      "sulphates\n",
      "[HCKDE] P(sulphates | residual sugar, class, chlorides, total sulfur dioxide)\n",
      "+-------+--------------------------------------------------------------------------------------------------+\n",
      "|       |                   sulphates | residual sugar, chlorides, total sulfur dioxide                    |\n",
      "+-------+--------------------------------------------------------------------------------------------------+\n",
      "| class |                                                                                                  |\n",
      "+-------+--------------------------------------------------------------------------------------------------+\n",
      "| False | [CKDE] P(sulphates | residual sugar, chlorides, total sulfur dioxide) = CKDE with 1277 instances |\n",
      "| True  | [CKDE] P(sulphates | residual sugar, chlorides, total sulfur dioxide) = CKDE with 723 instances  |\n",
      "+-------+--------------------------------------------------------------------------------------------------+\n",
      "\n",
      "\n",
      "alcohol\n",
      "[HCKDE] P(alcohol | free sulfur dioxide, total sulfur dioxide, class, residual sugar)\n",
      "+-------+----------------------------------------------------------------------------------------------------------+\n",
      "|       |                   alcohol | free sulfur dioxide, total sulfur dioxide, residual sugar                    |\n",
      "+-------+----------------------------------------------------------------------------------------------------------+\n",
      "| class |                                                                                                          |\n",
      "+-------+----------------------------------------------------------------------------------------------------------+\n",
      "| False | [CKDE] P(alcohol | free sulfur dioxide, total sulfur dioxide, residual sugar) = CKDE with 1277 instances |\n",
      "| True  | [CKDE] P(alcohol | free sulfur dioxide, total sulfur dioxide, residual sugar) = CKDE with 723 instances  |\n",
      "+-------+----------------------------------------------------------------------------------------------------------+\n",
      "\n",
      "\n",
      "class\n",
      "[DiscreteFactor] P(class)\n",
      "+---------------+\n",
      "|     class     |\n",
      "+-------+-------+\n",
      "| False | True  |\n",
      "+-------+-------+\n",
      "| 0.639 | 0.362 |\n",
      "+-------+-------+\n"
     ]
    }
   ],
   "source": [
    "for i in df.columns :\n",
    "    print(i)\n",
    "    print(learned_kde.cpd(i))\n",
    "    print()"
   ],
   "metadata": {
    "collapsed": false,
    "ExecuteTime": {
     "end_time": "2024-01-25T11:17:46.108785222Z",
     "start_time": "2024-01-25T11:17:46.061810312Z"
    }
   },
   "id": "1f32da79009f724d",
   "execution_count": 347
  },
  {
   "cell_type": "code",
   "outputs": [
    {
     "data": {
      "text/plain": "5"
     },
     "execution_count": 348,
     "metadata": {},
     "output_type": "execute_result"
    }
   ],
   "source": [
    "len([i for i in learned_kde.arcs() if \"class\" in i])"
   ],
   "metadata": {
    "collapsed": false,
    "ExecuteTime": {
     "end_time": "2024-01-25T11:17:46.109530940Z",
     "start_time": "2024-01-25T11:17:46.108537216Z"
    }
   },
   "id": "2e8e5399f79bccc",
   "execution_count": 348
  },
  {
   "cell_type": "code",
   "outputs": [
    {
     "name": "stdout",
     "output_type": "stream",
     "text": [
      "Hill climbing with val-lik\n",
      "MSE: 0.16 +- 0.01\n",
      "LL: -32.78 +- 4.03\n",
      "Num arcs: 36.7 +- 6.91\n",
      "Class arcs: 10.85 +- 0.48\n",
      "KDE%: 88.5 +- 7.92\n",
      "Time: 26.52 +- 10.74\n",
      "--------\n",
      "MMHC with val-lik\n",
      "MSE: 0.19 +- 0.01\n",
      "LL: -37.66 +- 1.87\n",
      "Num arcs: 23.1 +- 4.09\n",
      "Class arcs: 4.05 +- 1.86\n",
      "KDE%: 93.5 +- 9.1\n",
      "Time: 12.28 +- 2.72\n",
      "--------\n",
      "MMHC with cv-lik\n",
      "MSE: 0.18 +- 0.0\n",
      "LL: -35.87 +- 0.14\n",
      "Num arcs: 28.85 +- 0.36\n",
      "Class arcs: 7.0 +- 0.0\n",
      "KDE%: 100.0 +- 0.0\n",
      "Time: 19.91 +- 1.64\n",
      "--------\n"
     ]
    }
   ],
   "source": [
    "n_exps = 20\n",
    "df = df.sample(frac = 1)\n",
    "df_train = df.head(2000)\n",
    "for i in df_train.columns[:-2] :\n",
    "    df_train = df_train[df_train[i] <4]\n",
    "    df_train = df_train[df_train[i] >-4]\n",
    "df_test = df.tail(500)\n",
    "for i in df_test.columns[:-2] :\n",
    "    df_test = df_test[df_test[i] <4]\n",
    "    df_test = df_test[df_test[i] >-4]\n",
    "\n",
    "labels = np.zeros(shape = (len(df_test.index)))\n",
    "labels[df_test[\"class\"] == \"True\"] = 1\n",
    "\n",
    "sum_sum = []\n",
    "accuracy = []\n",
    "ll = []\n",
    "num_arcs = []\n",
    "class_arcs = []\n",
    "times = []\n",
    "for i in range(n_exps) :\n",
    "    t0 = time.process_time()\n",
    "    learned_kde = hc(df_train, start = naive, operators = [\"node_type\",\"arcs\"], score = \"validated-lik\", num_folds = 10)\n",
    "    #MMHC().estimate(hypot_test = test, operators = OperatorPool([ChangeNodeTypeSet(),ArcOperatorSet()]), score = CVLikelihood(df_train), bn_type = SemiparametricBNType())\n",
    "    learned_kde.fit(df_train)\n",
    "    times.append(time.process_time()-t0)\n",
    "    saved = predict_class(df_test, learned_kde)\n",
    "    accuracy.append(np.sum((labels-saved[\"True\"])**2) / len(df_test.index))\n",
    "    ll.append(learned_kde.slogl(df_train)/500)\n",
    "    num_arcs.append(learned_kde.num_arcs())\n",
    "    class_arcs.append(len([j for j in learned_kde.arcs() if \"class\" in j]))\n",
    "    sum = 0\n",
    "    for j in learned_kde.nodes()[:-2] :    \n",
    "        if isinstance(learned_kde.cpd(j), CKDE) or isinstance(learned_kde.cpd(j), HCKDE) :\n",
    "            sum = sum + 1\n",
    "    sum_sum.append(sum/10*100)\n",
    "print(\"Hill climbing with val-lik\")\n",
    "print(\"MSE:\",round(np.mean(accuracy),2),\"+-\",round(np.std(accuracy),2))\n",
    "print(\"LL:\",round(np.mean(ll),2),\"+-\",round(np.std(ll),2))\n",
    "print(\"Num arcs:\",round(np.mean(num_arcs),2),\"+-\",round(np.std(num_arcs),2))\n",
    "print(\"Class arcs:\",round(np.mean(class_arcs),2),\"+-\",round(np.std(class_arcs),2))\n",
    "print(\"KDE%:\",round(np.mean(sum_sum),2),\"+-\",round(np.std(sum_sum),2))\n",
    "print(\"Time:\",round(np.mean(times),2),\"+-\",round(np.std(times),2))\n",
    "analysis_hc = pd.DataFrame(data = np.vstack([accuracy,ll,num_arcs,class_arcs,sum_sum,times]).transpose(), columns = [\"MSE\", \"logl\", \"n_arcs\", \"class_arcs\",\"kdes\", \"ptime\"])\n",
    "print(\"--------\")\n",
    "\n",
    "sum_sum = []\n",
    "accuracy = []\n",
    "ll = []\n",
    "num_arcs = []\n",
    "class_arcs = []\n",
    "times = []\n",
    "for i in range(n_exps) :\n",
    "    t0 = time.process_time()\n",
    "    #learned_kde = hc(df_train, start = naive, operators = [\"node_type\",\"arcs\"], score = \"validated-lik\", num_folds = 10)\n",
    "    learned_kde = MMHC().estimate(hypot_test = test, operators = OperatorPool([ChangeNodeTypeSet(),ArcOperatorSet()]), score = ValidatedLikelihood(df_train), bn_type = SemiparametricBNType())\n",
    "    learned_kde.fit(df_train)\n",
    "    times.append(time.process_time()-t0)\n",
    "    saved = predict_class(df_test, learned_kde)\n",
    "    accuracy.append(np.sum((labels-saved[\"True\"])**2) / len(df_test.index))\n",
    "    ll.append(learned_kde.slogl(df_train)/500)\n",
    "    num_arcs.append(learned_kde.num_arcs())\n",
    "    class_arcs.append(len([j for j in learned_kde.arcs() if \"class\" in j]))\n",
    "    sum = 0\n",
    "    for j in learned_kde.nodes()[:-2] :    \n",
    "        if isinstance(learned_kde.cpd(j), CKDE) or isinstance(learned_kde.cpd(j), HCKDE) :\n",
    "            sum = sum + 1\n",
    "    sum_sum.append(sum/10*100)\n",
    "print(\"MMHC with val-lik\")\n",
    "print(\"MSE:\",round(np.mean(accuracy),2),\"+-\",round(np.std(accuracy),2))\n",
    "print(\"LL:\",round(np.mean(ll),2),\"+-\",round(np.std(ll),2))\n",
    "print(\"Num arcs:\",round(np.mean(num_arcs),2),\"+-\",round(np.std(num_arcs),2))\n",
    "print(\"Class arcs:\",round(np.mean(class_arcs),2),\"+-\",round(np.std(class_arcs),2))\n",
    "print(\"KDE%:\",round(np.mean(sum_sum),2),\"+-\",round(np.std(sum_sum),2))\n",
    "print(\"Time:\",round(np.mean(times),2),\"+-\",round(np.std(times),2))\n",
    "analysis_mmhc_val = pd.DataFrame(data = np.vstack([accuracy,ll,num_arcs,class_arcs,sum_sum,times]).transpose(), columns = [\"MSE\", \"logl\", \"n_arcs\", \"class_arcs\",\"kdes\", \"ptime\"])\n",
    "print(\"--------\")\n",
    "\n",
    "sum_sum = []\n",
    "accuracy = []\n",
    "ll = []\n",
    "num_arcs = []\n",
    "class_arcs = []\n",
    "times = []\n",
    "for i in range(n_exps) :\n",
    "    t0 = time.process_time()\n",
    "    #learned_kde = hc(df_train, start = naive, operators = [\"node_type\",\"arcs\"], score = \"validated-lik\", num_folds = 10)\n",
    "    learned_kde = MMHC().estimate(hypot_test = test, operators = OperatorPool([ChangeNodeTypeSet(),ArcOperatorSet()]), score = CVLikelihood(df_train), bn_type = SemiparametricBNType())\n",
    "    learned_kde.fit(df_train)\n",
    "    times.append(time.process_time()-t0)\n",
    "    saved = predict_class(df_test, learned_kde)\n",
    "    accuracy.append(np.sum((labels-saved[\"True\"])**2) / len(df_test.index))\n",
    "    ll.append(learned_kde.slogl(df_train)/500)\n",
    "    num_arcs.append(learned_kde.num_arcs())\n",
    "    class_arcs.append(len([j for j in learned_kde.arcs() if \"class\" in j]))\n",
    "    sum = 0\n",
    "    for j in learned_kde.nodes()[:-2] :    \n",
    "        if isinstance(learned_kde.cpd(j), CKDE) or isinstance(learned_kde.cpd(j), HCKDE) :\n",
    "            sum = sum + 1\n",
    "    sum_sum.append(sum/10*100)\n",
    "print(\"MMHC with cv-lik\")\n",
    "print(\"MSE:\",round(np.mean(accuracy),2),\"+-\",round(np.std(accuracy),2))\n",
    "print(\"LL:\",round(np.mean(ll),2),\"+-\",round(np.std(ll),2))\n",
    "print(\"Num arcs:\",round(np.mean(num_arcs),2),\"+-\",round(np.std(num_arcs),2))\n",
    "print(\"Class arcs:\",round(np.mean(class_arcs),2),\"+-\",round(np.std(class_arcs),2))\n",
    "print(\"KDE%:\",round(np.mean(sum_sum),2),\"+-\",round(np.std(sum_sum),2))\n",
    "print(\"Time:\",round(np.mean(times),2),\"+-\",round(np.std(times),2))\n",
    "analysis_mmhc_cv = pd.DataFrame(data = np.vstack([accuracy,ll,num_arcs,class_arcs,sum_sum,times]).transpose(), columns = [\"MSE\", \"logl\", \"n_arcs\", \"class_arcs\",\"kdes\", \"ptime\"])\n",
    "print(\"--------\")"
   ],
   "metadata": {
    "collapsed": false,
    "ExecuteTime": {
     "end_time": "2024-01-29T12:00:33.706464266Z",
     "start_time": "2024-01-29T11:39:36.945916392Z"
    }
   },
   "id": "389a3e465240c3fb",
   "execution_count": 71
  },
  {
   "cell_type": "code",
   "outputs": [
    {
     "data": {
      "text/plain": "         MSE       logl  n_arcs  class_arcs  kdes     ptime\n0   0.193622 -46.211505    53.0        10.0   0.0  1.459491\n1   0.192682 -46.204224    56.0        11.0   0.0  1.393674\n2   0.193762 -46.185867    61.0        11.0   0.0  2.557138\n3   0.194243 -46.203636    57.0        11.0   0.0  1.479339\n4   0.193261 -46.211125    55.0        10.0   0.0  1.286369\n5   0.191463 -46.189103    57.0        11.0   0.0  1.849517\n6   0.192333 -46.206194    53.0        11.0   0.0  1.214592\n7   0.193319 -46.189057    59.0        11.0   0.0  3.024686\n8   0.194065 -46.192206    60.0        11.0   0.0  1.686018\n9   0.191659 -46.193108    55.0        11.0   0.0  1.733318\n10  0.193745 -46.199898    56.0        11.0   0.0  1.673510\n11  0.191817 -46.197756    55.0        11.0   0.0  1.866494\n12  0.190445 -46.193952    55.0        11.0   0.0  1.529068\n13  0.192872 -46.212516    53.0        10.0   0.0  1.372451\n14  0.191471 -46.194380    57.0        11.0   0.0  1.269541\n15  0.193408 -46.199450    56.0        10.0   0.0  1.816126\n16  0.192927 -46.213095    52.0        10.0   0.0  1.192781\n17  0.193891 -46.192286    60.0        11.0   0.0  2.790898\n18  0.193205 -46.204480    54.0        11.0   0.0  1.471199\n19  0.193889 -46.192286    60.0        11.0   0.0  2.679675",
      "text/html": "<div>\n<style scoped>\n    .dataframe tbody tr th:only-of-type {\n        vertical-align: middle;\n    }\n\n    .dataframe tbody tr th {\n        vertical-align: top;\n    }\n\n    .dataframe thead th {\n        text-align: right;\n    }\n</style>\n<table border=\"1\" class=\"dataframe\">\n  <thead>\n    <tr style=\"text-align: right;\">\n      <th></th>\n      <th>MSE</th>\n      <th>logl</th>\n      <th>n_arcs</th>\n      <th>class_arcs</th>\n      <th>kdes</th>\n      <th>ptime</th>\n    </tr>\n  </thead>\n  <tbody>\n    <tr>\n      <th>0</th>\n      <td>0.193622</td>\n      <td>-46.211505</td>\n      <td>53.0</td>\n      <td>10.0</td>\n      <td>0.0</td>\n      <td>1.459491</td>\n    </tr>\n    <tr>\n      <th>1</th>\n      <td>0.192682</td>\n      <td>-46.204224</td>\n      <td>56.0</td>\n      <td>11.0</td>\n      <td>0.0</td>\n      <td>1.393674</td>\n    </tr>\n    <tr>\n      <th>2</th>\n      <td>0.193762</td>\n      <td>-46.185867</td>\n      <td>61.0</td>\n      <td>11.0</td>\n      <td>0.0</td>\n      <td>2.557138</td>\n    </tr>\n    <tr>\n      <th>3</th>\n      <td>0.194243</td>\n      <td>-46.203636</td>\n      <td>57.0</td>\n      <td>11.0</td>\n      <td>0.0</td>\n      <td>1.479339</td>\n    </tr>\n    <tr>\n      <th>4</th>\n      <td>0.193261</td>\n      <td>-46.211125</td>\n      <td>55.0</td>\n      <td>10.0</td>\n      <td>0.0</td>\n      <td>1.286369</td>\n    </tr>\n    <tr>\n      <th>5</th>\n      <td>0.191463</td>\n      <td>-46.189103</td>\n      <td>57.0</td>\n      <td>11.0</td>\n      <td>0.0</td>\n      <td>1.849517</td>\n    </tr>\n    <tr>\n      <th>6</th>\n      <td>0.192333</td>\n      <td>-46.206194</td>\n      <td>53.0</td>\n      <td>11.0</td>\n      <td>0.0</td>\n      <td>1.214592</td>\n    </tr>\n    <tr>\n      <th>7</th>\n      <td>0.193319</td>\n      <td>-46.189057</td>\n      <td>59.0</td>\n      <td>11.0</td>\n      <td>0.0</td>\n      <td>3.024686</td>\n    </tr>\n    <tr>\n      <th>8</th>\n      <td>0.194065</td>\n      <td>-46.192206</td>\n      <td>60.0</td>\n      <td>11.0</td>\n      <td>0.0</td>\n      <td>1.686018</td>\n    </tr>\n    <tr>\n      <th>9</th>\n      <td>0.191659</td>\n      <td>-46.193108</td>\n      <td>55.0</td>\n      <td>11.0</td>\n      <td>0.0</td>\n      <td>1.733318</td>\n    </tr>\n    <tr>\n      <th>10</th>\n      <td>0.193745</td>\n      <td>-46.199898</td>\n      <td>56.0</td>\n      <td>11.0</td>\n      <td>0.0</td>\n      <td>1.673510</td>\n    </tr>\n    <tr>\n      <th>11</th>\n      <td>0.191817</td>\n      <td>-46.197756</td>\n      <td>55.0</td>\n      <td>11.0</td>\n      <td>0.0</td>\n      <td>1.866494</td>\n    </tr>\n    <tr>\n      <th>12</th>\n      <td>0.190445</td>\n      <td>-46.193952</td>\n      <td>55.0</td>\n      <td>11.0</td>\n      <td>0.0</td>\n      <td>1.529068</td>\n    </tr>\n    <tr>\n      <th>13</th>\n      <td>0.192872</td>\n      <td>-46.212516</td>\n      <td>53.0</td>\n      <td>10.0</td>\n      <td>0.0</td>\n      <td>1.372451</td>\n    </tr>\n    <tr>\n      <th>14</th>\n      <td>0.191471</td>\n      <td>-46.194380</td>\n      <td>57.0</td>\n      <td>11.0</td>\n      <td>0.0</td>\n      <td>1.269541</td>\n    </tr>\n    <tr>\n      <th>15</th>\n      <td>0.193408</td>\n      <td>-46.199450</td>\n      <td>56.0</td>\n      <td>10.0</td>\n      <td>0.0</td>\n      <td>1.816126</td>\n    </tr>\n    <tr>\n      <th>16</th>\n      <td>0.192927</td>\n      <td>-46.213095</td>\n      <td>52.0</td>\n      <td>10.0</td>\n      <td>0.0</td>\n      <td>1.192781</td>\n    </tr>\n    <tr>\n      <th>17</th>\n      <td>0.193891</td>\n      <td>-46.192286</td>\n      <td>60.0</td>\n      <td>11.0</td>\n      <td>0.0</td>\n      <td>2.790898</td>\n    </tr>\n    <tr>\n      <th>18</th>\n      <td>0.193205</td>\n      <td>-46.204480</td>\n      <td>54.0</td>\n      <td>11.0</td>\n      <td>0.0</td>\n      <td>1.471199</td>\n    </tr>\n    <tr>\n      <th>19</th>\n      <td>0.193889</td>\n      <td>-46.192286</td>\n      <td>60.0</td>\n      <td>11.0</td>\n      <td>0.0</td>\n      <td>2.679675</td>\n    </tr>\n  </tbody>\n</table>\n</div>"
     },
     "execution_count": 75,
     "metadata": {},
     "output_type": "execute_result"
    }
   ],
   "source": [
    "analysis_ga_cv"
   ],
   "metadata": {
    "collapsed": false,
    "ExecuteTime": {
     "end_time": "2024-01-29T15:00:18.745264272Z",
     "start_time": "2024-01-29T15:00:18.686841619Z"
    }
   },
   "id": "657fed43b6a3a099",
   "execution_count": 75
  },
  {
   "cell_type": "code",
   "outputs": [
    {
     "name": "stdout",
     "output_type": "stream",
     "text": [
      "Hill climbing with BIC\n",
      "MSE: 0.19 +- 0.0\n",
      "LL: -46.32 +- 0.0\n",
      "Num arcs: 50.0 +- 0.0\n",
      "Class arcs: 9.0 +- 0.0\n",
      "KDE%: 0.0 +- 0.0\n",
      "Time: 0.06 +- 0.0\n",
      "--------\n",
      "Hill climbing with val-lik\n",
      "MSE: 0.2 +- 0.0\n",
      "LL: -47.1 +- 0.49\n",
      "Num arcs: 32.7 +- 5.17\n",
      "Class arcs: 6.0 +- 2.05\n",
      "KDE%: 0.0 +- 0.0\n",
      "Time: 0.44 +- 0.11\n",
      "--------\n",
      "Hill climbing with cv-lik\n",
      "MSE: 0.19 +- 0.0\n",
      "LL: -46.2 +- 0.01\n",
      "Num arcs: 56.2 +- 2.6\n",
      "Class arcs: 10.75 +- 0.43\n",
      "KDE%: 0.0 +- 0.0\n",
      "Time: 1.77 +- 0.54\n",
      "--------\n"
     ]
    }
   ],
   "source": [
    "n_exps = 20\n",
    "df = df.sample(frac = 1)\n",
    "df_train = df.head(2000)\n",
    "for i in df_train.columns[:-2] :\n",
    "    df_train = df_train[df_train[i] <4]\n",
    "    df_train = df_train[df_train[i] >-4]\n",
    "df_test = df.tail(500)\n",
    "\n",
    "for i in df_test.columns[:-2] :\n",
    "    df_test = df_test[df_test[i] <4]\n",
    "    df_test = df_test[df_test[i] >-4]\n",
    "    \n",
    "\n",
    "    \n",
    "labels = np.zeros(shape = (len(df_test.index)))\n",
    "labels[df_test[\"class\"] == \"True\"] = 1\n",
    "\n",
    "sum_sum = []\n",
    "accuracy = []\n",
    "ll = []\n",
    "num_arcs = []\n",
    "class_arcs = []\n",
    "times = []\n",
    "for i in range(n_exps) :\n",
    "    t0 = time.process_time()\n",
    "    learned_kde = hc(df_train, bn_type = CLGNetworkType(), operators = [\"arcs\"], score = \"bic\", num_folds = 10)\n",
    "    #MMHC().estimate(hypot_test = test, operators = OperatorPool([ChangeNodeTypeSet(),ArcOperatorSet()]), score = CVLikelihood(df_train), bn_type = SemiparametricBNType())\n",
    "    learned_kde.fit(df_train)\n",
    "    times.append(time.process_time()-t0)\n",
    "    saved = predict_class(df_test, learned_kde)\n",
    "    accuracy.append(np.sum((labels-saved[\"True\"])**2) / len(df_test.index))\n",
    "    ll.append(learned_kde.slogl(df_train)/500)\n",
    "    num_arcs.append(learned_kde.num_arcs())\n",
    "    class_arcs.append(len([j for j in learned_kde.arcs() if \"class\" in j]))\n",
    "    sum = 0\n",
    "    for j in learned_kde.nodes()[:-2] :    \n",
    "        if isinstance(learned_kde.cpd(j), CKDE) or isinstance(learned_kde.cpd(j), HCKDE) :\n",
    "            sum = sum + 1\n",
    "    sum_sum.append(sum/10*100)\n",
    "print(\"Hill climbing with BIC\")\n",
    "print(\"MSE:\",round(np.mean(accuracy),2),\"+-\",round(np.std(accuracy),2))\n",
    "print(\"LL:\",round(np.mean(ll),2),\"+-\",round(np.std(ll),2))\n",
    "print(\"Num arcs:\",round(np.mean(num_arcs),2),\"+-\",round(np.std(num_arcs),2))\n",
    "print(\"Class arcs:\",round(np.mean(class_arcs),2),\"+-\",round(np.std(class_arcs),2))\n",
    "print(\"KDE%:\",round(np.mean(sum_sum),2),\"+-\",round(np.std(sum_sum),2))\n",
    "print(\"Time:\",round(np.mean(times),2),\"+-\",round(np.std(times),2))\n",
    "analysis_ga_bic = pd.DataFrame(data = np.vstack([accuracy,ll,num_arcs,class_arcs,sum_sum,times]).transpose(), columns = [\"MSE\", \"logl\", \"n_arcs\", \"class_arcs\",\"kdes\", \"ptime\"])\n",
    "print(\"--------\")\n",
    "\n",
    "\n",
    "sum_sum = []\n",
    "accuracy = []\n",
    "ll = []\n",
    "num_arcs = []\n",
    "class_arcs = []\n",
    "times = []\n",
    "for i in range(n_exps) :\n",
    "    t0 = time.process_time()\n",
    "    learned_kde = hc(df_train, bn_type = CLGNetworkType(), operators = [\"arcs\"], score = \"validated-lik\", num_folds = 10)\n",
    "    #MMHC().estimate(hypot_test = test, operators = OperatorPool([ChangeNodeTypeSet(),ArcOperatorSet()]), score = CVLikelihood(df_train), bn_type = SemiparametricBNType())\n",
    "    learned_kde.fit(df_train)\n",
    "    times.append(time.process_time()-t0)\n",
    "    saved = predict_class(df_test, learned_kde)\n",
    "    accuracy.append(np.sum((labels-saved[\"True\"])**2) / len(df_test.index))\n",
    "    ll.append(learned_kde.slogl(df_train)/500)\n",
    "    num_arcs.append(learned_kde.num_arcs())\n",
    "    class_arcs.append(len([j for j in learned_kde.arcs() if \"class\" in j]))\n",
    "    sum = 0\n",
    "    for j in learned_kde.nodes()[:-2] :    \n",
    "        if isinstance(learned_kde.cpd(j), CKDE) or isinstance(learned_kde.cpd(j), HCKDE) :\n",
    "            sum = sum + 1\n",
    "    sum_sum.append(sum/10*100)\n",
    "print(\"Hill climbing with val-lik\")\n",
    "print(\"MSE:\",round(np.mean(accuracy),2),\"+-\",round(np.std(accuracy),2))\n",
    "print(\"LL:\",round(np.mean(ll),2),\"+-\",round(np.std(ll),2))\n",
    "print(\"Num arcs:\",round(np.mean(num_arcs),2),\"+-\",round(np.std(num_arcs),2))\n",
    "print(\"Class arcs:\",round(np.mean(class_arcs),2),\"+-\",round(np.std(class_arcs),2))\n",
    "print(\"KDE%:\",round(np.mean(sum_sum),2),\"+-\",round(np.std(sum_sum),2))\n",
    "print(\"Time:\",round(np.mean(times),2),\"+-\",round(np.std(times),2))\n",
    "analysis_ga_val = pd.DataFrame(data = np.vstack([accuracy,ll,num_arcs,class_arcs,sum_sum,times]).transpose(), columns = [\"MSE\", \"logl\", \"n_arcs\", \"class_arcs\",\"kdes\", \"ptime\"])\n",
    "print(\"--------\")\n",
    "\n",
    "\n",
    "sum_sum = []\n",
    "accuracy = []\n",
    "ll = []\n",
    "num_arcs = []\n",
    "class_arcs = []\n",
    "times = []\n",
    "for i in range(n_exps) :\n",
    "    t0 = time.process_time()\n",
    "    learned_kde = hc(df_train, bn_type = CLGNetworkType(), operators = [\"arcs\"], score = \"cv-lik\", num_folds = 10)\n",
    "    #MMHC().estimate(hypot_test = test, operators = OperatorPool([ChangeNodeTypeSet(),ArcOperatorSet()]), score = CVLikelihood(df_train), bn_type = SemiparametricBNType())\n",
    "    learned_kde.fit(df_train)\n",
    "    times.append(time.process_time()-t0)\n",
    "    saved = predict_class(df_test, learned_kde)\n",
    "    accuracy.append(np.sum((labels-saved[\"True\"])**2) / len(df_test.index))\n",
    "    ll.append(learned_kde.slogl(df_train)/500)\n",
    "    num_arcs.append(learned_kde.num_arcs())\n",
    "    class_arcs.append(len([j for j in learned_kde.arcs() if \"class\" in j]))\n",
    "    sum = 0\n",
    "    for j in learned_kde.nodes()[:-2] :    \n",
    "        if isinstance(learned_kde.cpd(j), CKDE) or isinstance(learned_kde.cpd(j), HCKDE) :\n",
    "            sum = sum + 1\n",
    "    sum_sum.append(sum/10*100)\n",
    "print(\"Hill climbing with cv-lik\")\n",
    "print(\"MSE:\",round(np.mean(accuracy),2),\"+-\",round(np.std(accuracy),2))\n",
    "print(\"LL:\",round(np.mean(ll),2),\"+-\",round(np.std(ll),2))\n",
    "print(\"Num arcs:\",round(np.mean(num_arcs),2),\"+-\",round(np.std(num_arcs),2))\n",
    "print(\"Class arcs:\",round(np.mean(class_arcs),2),\"+-\",round(np.std(class_arcs),2))\n",
    "print(\"KDE%:\",round(np.mean(sum_sum),2),\"+-\",round(np.std(sum_sum),2))\n",
    "print(\"Time:\",round(np.mean(times),2),\"+-\",round(np.std(times),2))\n",
    "analysis_ga_cv = pd.DataFrame(data = np.vstack([accuracy,ll,num_arcs,class_arcs,sum_sum,times]).transpose(), columns = [\"MSE\", \"logl\", \"n_arcs\", \"class_arcs\",\"kdes\", \"ptime\"])\n",
    "print(\"--------\")"
   ],
   "metadata": {
    "collapsed": false,
    "ExecuteTime": {
     "end_time": "2024-01-29T12:01:19.758407806Z",
     "start_time": "2024-01-29T12:00:33.706354856Z"
    }
   },
   "id": "516d36e9571726af",
   "execution_count": 72
  },
  {
   "cell_type": "code",
   "outputs": [
    {
     "name": "stdout",
     "output_type": "stream",
     "text": [
      "fixed acidity KstestResult(statistic=0.14433382926856342, pvalue=6.806213913198701e-47, statistic_location=0.1729773584075554, statistic_sign=1)\n",
      "volatile acidity KstestResult(statistic=0.1427379704356445, pvalue=7.228441082937421e-46, statistic_location=0.061327369979953424, statistic_sign=1)\n",
      "citric acid KstestResult(statistic=0.09933197373690558, pvalue=2.1751231446786863e-22, statistic_location=-0.6365354915635609, statistic_sign=-1)\n",
      "residual sugar KstestResult(statistic=0.19657333596163662, pvalue=6.010921511702523e-87, statistic_location=-0.5145702936416315, statistic_sign=1)\n",
      "chlorides KstestResult(statistic=0.1789337559025822, pvalue=5.181167920837191e-72, statistic_location=0.08746373870199499, statistic_sign=1)\n",
      "free sulfur dioxide KstestResult(statistic=0.05764003476126494, pvalue=8.114116739755302e-08, statistic_location=-1.5715146471652022, statistic_sign=-1)\n",
      "total sulfur dioxide KstestResult(statistic=0.04586395283077263, pvalue=4.1649165020146406e-05, statistic_location=-1.198035335162442, statistic_sign=1)\n",
      "density KstestResult(statistic=0.06431654899817946, pvalue=1.2535877575073352e-09, statistic_location=-0.5362215669681767, statistic_sign=1)\n",
      "pH KstestResult(statistic=0.033866115912602635, pvalue=0.005578378374461033, statistic_location=-0.13238513584473716, statistic_sign=1)\n",
      "sulphates KstestResult(statistic=0.08065434373978875, pvalue=6.716559948798288e-15, statistic_location=0.4408094189555594, statistic_sign=1)\n"
     ]
    }
   ],
   "source": [
    "from scipy.stats import kstest\n",
    "from scipy.stats import norm\n",
    "\n",
    "for i in df.columns[:-2] : \n",
    "    print(i,kstest(df[i], 'norm'))\n"
   ],
   "metadata": {
    "collapsed": false,
    "ExecuteTime": {
     "end_time": "2024-01-29T10:43:27.764579260Z",
     "start_time": "2024-01-29T10:43:27.762415499Z"
    }
   },
   "id": "facf4a89580326dd",
   "execution_count": 66
  },
  {
   "cell_type": "code",
   "outputs": [],
   "source": [
    "df2 =df2.drop(\"index\",axis=1)"
   ],
   "metadata": {
    "collapsed": false,
    "ExecuteTime": {
     "end_time": "2024-01-25T19:17:26.441213533Z",
     "start_time": "2024-01-25T19:17:26.360692900Z"
    }
   },
   "id": "1b4c1f86cebaf15e",
   "execution_count": 52
  },
  {
   "cell_type": "code",
   "outputs": [],
   "source": [
    "df2 = df.copy()\n",
    "for i in df2.columns[:-2] :\n",
    "    df2 = df2[df2[i] <3]\n",
    "    df2 = df2[df2[i] >-3]"
   ],
   "metadata": {
    "collapsed": false,
    "ExecuteTime": {
     "end_time": "2024-01-25T18:13:07.424056582Z",
     "start_time": "2024-01-25T18:13:07.380571294Z"
    }
   },
   "id": "2fd76aca7b64bde9",
   "execution_count": 35
  },
  {
   "cell_type": "code",
   "outputs": [
    {
     "data": {
      "text/plain": "0.9197337509788567"
     },
     "execution_count": 36,
     "metadata": {},
     "output_type": "execute_result"
    }
   ],
   "source": [
    "len(df2.index)/len(df.index)"
   ],
   "metadata": {
    "collapsed": false,
    "ExecuteTime": {
     "end_time": "2024-01-25T18:13:07.995446802Z",
     "start_time": "2024-01-25T18:13:07.959950138Z"
    }
   },
   "id": "dbbb07567a77fe60",
   "execution_count": 36
  },
  {
   "cell_type": "code",
   "outputs": [
    {
     "name": "stdout",
     "output_type": "stream",
     "text": [
      "100.0\n"
     ]
    }
   ],
   "source": [
    "sum = 0\n",
    "for i in learned_kde.nodes()[:-2] :    \n",
    "    if isinstance(learned_kde.cpd(i), CKDE) or isinstance(learned_kde.cpd(i), HCKDE) :\n",
    "        sum = sum + 1\n",
    "print(sum/10 * 100)"
   ],
   "metadata": {
    "collapsed": false,
    "ExecuteTime": {
     "end_time": "2024-01-25T12:42:17.128866663Z",
     "start_time": "2024-01-25T12:42:17.123328436Z"
    }
   },
   "id": "965c1c72b5d5195a",
   "execution_count": 372
  },
  {
   "cell_type": "code",
   "outputs": [
    {
     "data": {
      "text/plain": "0.4489779380314274"
     },
     "execution_count": 356,
     "metadata": {},
     "output_type": "execute_result"
    }
   ],
   "source": [
    "me_hc_h = 0.564\n",
    "me_mmhc_h = 0.52\n",
    "me_hc_cv = 0.59\n",
    "me_mmhc_cv = 0.46"
   ],
   "metadata": {
    "collapsed": false,
    "ExecuteTime": {
     "end_time": "2024-01-25T11:28:17.127010536Z",
     "start_time": "2024-01-25T11:28:17.116824646Z"
    }
   },
   "id": "e845ecb845e0e0b8",
   "execution_count": 356
  },
  {
   "cell_type": "code",
   "outputs": [
    {
     "data": {
      "text/plain": "[('class', 'citric acid'), ('class', 'alcohol')]"
     },
     "execution_count": 394,
     "metadata": {},
     "output_type": "execute_result"
    }
   ],
   "source": [
    "len([i for i in learned_kde.arcs() if \"class\" in i])"
   ],
   "metadata": {
    "collapsed": false,
    "ExecuteTime": {
     "end_time": "2024-01-25T15:57:35.443685692Z",
     "start_time": "2024-01-25T15:57:35.403694591Z"
    }
   },
   "id": "345dc2f166095084",
   "execution_count": 394
  },
  {
   "cell_type": "code",
   "outputs": [
    {
     "data": {
      "text/plain": "array([0.5])"
     },
     "execution_count": 54,
     "metadata": {},
     "output_type": "execute_result"
    }
   ],
   "source": [
    "accuracy(instance.drop(\"class\", axis = 1), \"True\", learned_kde)/"
   ],
   "metadata": {
    "collapsed": false,
    "ExecuteTime": {
     "end_time": "2024-01-24T18:49:37.272247172Z",
     "start_time": "2024-01-24T18:49:37.238528573Z"
    }
   },
   "id": "c1f2876ded385dc6",
   "execution_count": 54
  },
  {
   "cell_type": "code",
   "outputs": [
    {
     "name": "stderr",
     "output_type": "stream",
     "text": [
      "/tmp/ipykernel_22436/3126163979.py:2: SettingWithCopyWarning: \n",
      "A value is trying to be set on a copy of a slice from a DataFrame.\n",
      "Try using .loc[row_indexer,col_indexer] = value instead\n",
      "\n",
      "See the caveats in the documentation: https://pandas.pydata.org/pandas-docs/stable/user_guide/indexing.html#returning-a-view-versus-a-copy\n",
      "  instance[\"class\"] = pd.Categorical([\"False\"], categories=learned_kde.cpd(\"class\").variable_values())\n"
     ]
    },
    {
     "data": {
      "text/plain": "array([0.03584753])"
     },
     "execution_count": 60,
     "metadata": {},
     "output_type": "execute_result"
    }
   ],
   "source": [
    "instance = df.iloc[[0]]\n",
    "instance[\"class\"] = pd.Categorical([\"False\"], categories=learned_kde.cpd(\"class\").variable_values())\n",
    "(math.e ** learned.logl(instance)) / likelihood(instance.drop(\"class\", axis = 1), learned_kde)"
   ],
   "metadata": {
    "collapsed": false,
    "ExecuteTime": {
     "end_time": "2024-01-24T18:51:40.325807154Z",
     "start_time": "2024-01-24T18:51:40.282277509Z"
    }
   },
   "id": "301a011e730c8804",
   "execution_count": 60
  },
  {
   "cell_type": "code",
   "outputs": [],
   "source": [
    "n_vertex = 0\n",
    "x_og = df.iloc[[0]]\n",
    "bayesace = BayesACE(bayesian_network=learned_kde, features= df.columns[:-1], n_vertex=n_vertex, chunks = 100, penalty=1, pop_size=50, likelihood_threshold=0.0, accuracy_threshold= 0.5, generations=10)\n",
    "res = bayesace.run(x_og)"
   ],
   "metadata": {
    "collapsed": false
   },
   "id": "8cfd86dcf24ccfb8",
   "execution_count": null
  },
  {
   "cell_type": "code",
   "outputs": [],
   "source": [
    "res.counterfactual"
   ],
   "metadata": {
    "collapsed": false
   },
   "id": "4e57fbf8b7268ab4",
   "execution_count": null
  },
  {
   "cell_type": "code",
   "outputs": [],
   "source": [
    "df.iloc[0]"
   ],
   "metadata": {
    "collapsed": false
   },
   "id": "afe42a234542fccd",
   "execution_count": null
  },
  {
   "cell_type": "code",
   "outputs": [],
   "source": [
    "x_1 = x_og.drop(\"class\",axis = 1)\n",
    "df_vertex = res.path\n",
    "to_plot = df.drop(\"class\", axis = 1)\n",
    "colours = df[\"class\"].to_numpy()\n",
    "colours[colours == \"a\"] = \"green\"\n",
    "colours[colours == \"b\"] = \"yellow\"\n",
    "colours[colours == \"c\"] = \"blue\"\n",
    "plt.scatter(to_plot[\"x\"],to_plot[\"y\"], color = colours)\n",
    "plt.plot(df_vertex.x,df_vertex.y,color = \"red\")\n",
    "plt.show()"
   ],
   "metadata": {
    "collapsed": false
   },
   "id": "d0088520ea1193ef",
   "execution_count": null
  },
  {
   "cell_type": "code",
   "outputs": [],
   "source": [
    "n_vertex = 1\n",
    "x_og = df.iloc[[0]]\n",
    "face = FACE(bayesian_network=learned_kde, features= df.columns[:-1], dataset=df.drop(\"class\", axis = 1), graph_type = \"epsilon\", chunks = 10, penalty=1, distance_threshold=0.75, accuracy_threshold= 0.5, verbose = False)\n",
    "res = face.run(x_og)"
   ],
   "metadata": {
    "collapsed": false
   },
   "id": "4c0ddeead002c66d",
   "execution_count": null
  },
  {
   "cell_type": "code",
   "outputs": [],
   "source": [
    "x_1 = x_og.drop(\"class\",axis = 1)\n",
    "df_vertex = res.path\n",
    "to_plot = df.drop(\"class\", axis = 1)\n",
    "colours = df[\"class\"].to_numpy()\n",
    "colours[colours == \"a\"] = \"green\"\n",
    "colours[colours == \"b\"] = \"yellow\"\n",
    "colours[colours == \"c\"] = \"blue\"\n",
    "plt.scatter(to_plot[\"x\"],to_plot[\"y\"], color = colours)\n",
    "plt.plot(df_vertex.x,df_vertex.y,color = \"red\")\n",
    "plt.show()"
   ],
   "metadata": {
    "collapsed": false
   },
   "id": "7b612900b31fbb1f",
   "execution_count": null
  },
  {
   "cell_type": "code",
   "outputs": [],
   "source": [],
   "metadata": {
    "collapsed": false
   },
   "id": "b82c14ba5c70a842",
   "execution_count": null
  },
  {
   "cell_type": "code",
   "outputs": [],
   "source": [],
   "metadata": {
    "collapsed": false
   },
   "id": "a2b9132171b37496"
  }
 ],
 "metadata": {
  "kernelspec": {
   "display_name": "Python 3 (ipykernel)",
   "language": "python",
   "name": "python3"
  },
  "language_info": {
   "codemirror_mode": {
    "name": "ipython",
    "version": 3
   },
   "file_extension": ".py",
   "mimetype": "text/x-python",
   "name": "python",
   "nbconvert_exporter": "python",
   "pygments_lexer": "ipython3",
   "version": "3.10.13"
  }
 },
 "nbformat": 4,
 "nbformat_minor": 5
}
