{
 "cells": [
  {
   "cell_type": "code",
   "execution_count": null,
   "id": "initial_id",
   "metadata": {
    "collapsed": true
   },
   "outputs": [],
   "source": [
    "import pandas as pd\n",
    "from drawdata import ScatterWidget\n",
    "from matplotlib import pyplot as plt\n",
    "import seaborn as sns"
   ]
  },
  {
   "cell_type": "code",
   "outputs": [],
   "source": [
    "widget = ScatterWidget()\n",
    "widget"
   ],
   "metadata": {
    "collapsed": false
   },
   "id": "4f46d6207ff1013",
   "execution_count": null
  },
  {
   "cell_type": "code",
   "outputs": [],
   "source": [
    "df = widget.data_as_pandas\n"
   ],
   "metadata": {
    "collapsed": false
   },
   "id": "3392a0a976af60ed",
   "execution_count": null
  },
  {
   "cell_type": "code",
   "outputs": [],
   "source": [
    "df = df.drop(columns=['color'])"
   ],
   "metadata": {
    "collapsed": false
   },
   "id": "ec691ba1061890a6",
   "execution_count": null
  },
  {
   "cell_type": "code",
   "outputs": [],
   "source": [
    "df.to_csv(\"datasets/s_data_dot_dense.csv\", index=False)"
   ],
   "metadata": {
    "collapsed": false
   },
   "id": "4a72ea64baf264d1",
   "execution_count": null
  },
  {
   "cell_type": "code",
   "outputs": [],
   "source": [
    "df2 = pd.read_csv(\"datasets/s_data_dot_dense.csv\")\n",
    "df2"
   ],
   "metadata": {
    "collapsed": false
   },
   "id": "431e136ddf1fed06",
   "execution_count": null
  },
  {
   "cell_type": "code",
   "outputs": [],
   "source": [
    "linedf = df2.iloc[[1,350]]\n",
    "linedf.loc[:,'label'] = ['red']*linedf.shape[0]\n",
    "print(linedf.columns)\n",
    "# Rename the columns\n",
    "#linedf.columns = ['x2', 'y2', 'label2']\n",
    "sns.scatterplot(data=df2, x='x', y='y', hue='label')\n",
    "sns.lineplot(data=linedf, x='x', y='y', color='red', linewidth=3)\n",
    "plt.show()"
   ],
   "metadata": {
    "collapsed": false
   },
   "id": "d6f804863caa6c14",
   "execution_count": null
  },
  {
   "cell_type": "code",
   "outputs": [],
   "source": [
    "linedf = df2.iloc[[1,50,75,121,201,220,250,275,321]]\n",
    "linedf.loc[:,'label'] = ['red']*linedf.shape[0]\n",
    "# Rename the columns\n",
    "sns.scatterplot(data=df2, x='x', y='y', hue='label')\n",
    "sns.lineplot(data=linedf, x='x', y='y', color='red', linewidth=3)\n",
    "plt.show()"
   ],
   "metadata": {
    "collapsed": false
   },
   "id": "fdbdf05f83caf0aa",
   "execution_count": null
  },
  {
   "cell_type": "code",
   "outputs": [],
   "source": [
    "# Learn KDE over the data\n",
    "linedf = pd.DataFrame({'x': [72.188,300,550,700], 'y': [287.9,125,425,300]})\n",
    "linedf['label'] = ['red']*linedf.shape[0]\n",
    "sns.kdeplot(data=df2, x='x', y='y', hue=\"label\", fill=True, bw_adjust=0.5, alpha=0.75)\n",
    "sns.lineplot(data=linedf, x='x', y='y', color='red', linewidth=3)"
   ],
   "metadata": {
    "collapsed": false
   },
   "id": "17d4233478842d4e",
   "execution_count": null
  },
  {
   "cell_type": "code",
   "outputs": [],
   "source": [
    "import matplotlib.pyplot as plt\n",
    "from mpl_toolkits.mplot3d import axes3d\n",
    "import numpy as np\n",
    "from scipy import stats\n",
    "\n",
    "X = df2[\"x\"]\n",
    "Y = df2[\"y\"]\n",
    "\n",
    "kernel = stats.gaussian_kde(np.array([X, Y]))\n",
    "\n",
    "fig = plt.figure()\n",
    "ax = fig.add_subplot(111, projection=\"3d\")\n",
    "xs, ys = np.mgrid[0:800:30j, 0:450:30j]\n",
    "zs = kernel(np.array([xs.ravel(), ys.ravel()])).reshape(xs.shape)\n",
    "ax.plot_surface(xs, ys, zs, cmap=\"hot_r\", lw=0.5, rstride=1, cstride=1, ec='k', alpha=0.5)\n",
    "plt.show()"
   ],
   "metadata": {
    "collapsed": false
   },
   "id": "f275b5c61f1c95aa",
   "execution_count": null
  },
  {
   "cell_type": "code",
   "outputs": [],
   "source": [],
   "metadata": {
    "collapsed": false
   },
   "id": "22d58a23fc5c2838"
  }
 ],
 "metadata": {
  "kernelspec": {
   "display_name": "Python 3",
   "language": "python",
   "name": "python3"
  },
  "language_info": {
   "codemirror_mode": {
    "name": "ipython",
    "version": 2
   },
   "file_extension": ".py",
   "mimetype": "text/x-python",
   "name": "python",
   "nbconvert_exporter": "python",
   "pygments_lexer": "ipython2",
   "version": "2.7.6"
  }
 },
 "nbformat": 4,
 "nbformat_minor": 5
}
