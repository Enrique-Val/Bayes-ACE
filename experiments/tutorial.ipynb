{
 "cells": [
  {
   "cell_type": "code",
   "execution_count": null,
   "id": "initial_id",
   "metadata": {
    "collapsed": true
   },
   "outputs": [],
   "source": [
    "import pandas as pd\n",
    "from drawdata import ScatterWidget\n",
    "from matplotlib import pyplot as plt\n",
    "import seaborn as sns\n",
    "sns.set(font_scale = 1.7)"
   ]
  },
  {
   "cell_type": "code",
   "outputs": [],
   "source": [
    "widget = ScatterWidget()\n",
    "widget"
   ],
   "metadata": {
    "collapsed": false
   },
   "id": "4f46d6207ff1013",
   "execution_count": null
  },
  {
   "cell_type": "code",
   "outputs": [],
   "source": [
    "df = widget.data_as_pandas\n"
   ],
   "metadata": {
    "collapsed": false
   },
   "id": "3392a0a976af60ed",
   "execution_count": null
  },
  {
   "cell_type": "code",
   "outputs": [],
   "source": [
    "df = df.drop(columns=['color'])"
   ],
   "metadata": {
    "collapsed": false
   },
   "id": "ec691ba1061890a6",
   "execution_count": null
  },
  {
   "cell_type": "code",
   "outputs": [],
   "source": [
    "#df.to_csv(\"datasets/s_data_dot_dense.csv\", index=False)\n",
    "def plot_path(linedf, color='red', style='-'):\n",
    "    plt.plot(linedf['x1'], linedf['x2'], color=color, linewidth=3, linestyle=style)\n",
    "    plt.plot(linedf['x1'].head(1), linedf['x2'].head(1), 'o', markersize=10, color=color)\n",
    "    plt.plot(linedf['x1'].tail(1), linedf['x2'].tail(1), 'x', markersize=15, markeredgewidth=3, color=color)"
   ],
   "metadata": {
    "collapsed": false
   },
   "id": "4a72ea64baf264d1",
   "execution_count": null
  },
  {
   "cell_type": "code",
   "outputs": [],
   "source": [
    "df2 = pd.read_csv(\"datasets/s_data_dot_dense.csv\")\n",
    "df_toy = pd.read_csv(\"../bayesace/dataset/toy-3class.csv\")\n",
    "#Substitute class c with b\n",
    "df_toy['label'] = df_toy['z'].replace('c', 'b')\n",
    "df_toy = df_toy.drop(columns=['z'])\n",
    "df_toy['x'] = df_toy['x']-100\n",
    "df_toy = df_toy[df_toy['x'] < 500]\n",
    "# Rename x and y as x1 and x2\n",
    "df_toy = df_toy.rename(columns={'x': 'x1', 'y': 'x2'})\n",
    "df2 = df2.rename(columns={'x': 'x1', 'y': 'x2'})\n",
    "\n",
    "# Replace in both datasets the labels\n",
    "df2['label'] = df2['label'].replace('a', 'class 1')\n",
    "df2['label'] = df2['label'].replace('b', 'class 2')\n",
    "df_toy['label'] = df_toy['label'].replace('a', 'class 1')\n",
    "df_toy['label'] = df_toy['label'].replace('b', 'class 2')"
   ],
   "metadata": {
    "collapsed": false
   },
   "id": "431e136ddf1fed06",
   "execution_count": null
  },
  {
   "cell_type": "code",
   "outputs": [],
   "source": [
    "linedf = df2.iloc[[1,350]]\n",
    "linedf = linedf.drop(columns=['label']).reset_index(drop=True)\n",
    "# Rename the columns\n",
    "#linedf.columns = ['x2', 'y2', 'label2']\n",
    "sns.scatterplot(data=df2, x='x1', y='x2', hue='label')\n",
    "plot_path(linedf, style=':')\n",
    "plt.savefig(\"./results/images_tutorial/original_data_s.pdf\")\n",
    "plt.show()"
   ],
   "metadata": {
    "collapsed": false
   },
   "id": "d6f804863caa6c14",
   "execution_count": null
  },
  {
   "cell_type": "code",
   "outputs": [],
   "source": [
    "linedf = df_toy.loc[[1,350]]\n",
    "linedf = linedf.drop(columns=['label']).reset_index(drop=True)\n",
    "# Rename the columns\n",
    "#linedf.columns = ['x2', 'y2', 'label2']\n",
    "# Scatter, but within certain limits\n",
    "sns.scatterplot(data=df_toy, x='x1', y='x2', hue='label', legend=True)\n",
    "plot_path(linedf, style=':')\n",
    "plt.savefig(\"./results/images_tutorial/original_data_c.pdf\")\n",
    "plt.show()"
   ],
   "metadata": {
    "collapsed": false
   },
   "id": "d7a4d3a9d1b0ac9b",
   "execution_count": null
  },
  {
   "cell_type": "code",
   "outputs": [],
   "source": [
    "linedf = df2.iloc[[1,50,75,121,201,220,250,275,300]]\n",
    "linedf = linedf.drop(columns=['label']).reset_index(drop=True)\n",
    "# Rename the columns\n",
    "sns.scatterplot(data=df2, x='x1', y='x2', hue='label')\n",
    "plot_path(linedf)\n",
    "plt.savefig(\"./results/images_tutorial/face_data_s.pdf\")\n",
    "plt.show()"
   ],
   "metadata": {
    "collapsed": false
   },
   "id": "fdbdf05f83caf0aa",
   "execution_count": null
  },
  {
   "cell_type": "code",
   "outputs": [],
   "source": [
    "linedf = df_toy.iloc[[1,50,75,121,200,220]]\n",
    "linedf = linedf.drop(columns=['label']).reset_index(drop=True)\n",
    "# Rename the columns\n",
    "sns.scatterplot(data=df_toy, x='x1', y='x2', hue='label', legend=True)\n",
    "plot_path(linedf)\n",
    "plt.savefig(\"./results/images_tutorial/face_data_c.pdf\")\n",
    "plt.show()"
   ],
   "metadata": {
    "collapsed": false
   },
   "id": "cbc5af4619484dd4",
   "execution_count": null
  },
  {
   "cell_type": "code",
   "outputs": [],
   "source": [
    "levels = 7\n",
    "bw_adjust = 0.75\n",
    "\n",
    "# Learn KDE over the data\n",
    "linedf = pd.DataFrame({'x1': [72.188,280], 'x2': [287.9,375]}) #200,130\n",
    "sns.kdeplot(data=df2, x='x1', y='x2', hue=\"label\", fill=True, bw_adjust=bw_adjust, alpha=0.75, levels=levels, thresh=0.0001)\n",
    "plot_path(linedf)\n",
    "plt.savefig(\"./results/images_tutorial/bayes_data_s_penalty_0.pdf\")\n",
    "\n",
    "plt.show()\n",
    "\n",
    "# Learn KDE over the data\n",
    "linedf = pd.DataFrame({'x1': [72.188,280,550,700], 'x2': [287.9,125,425,300]}) #200,130\n",
    "sns.kdeplot(data=df2, x='x1', y='x2', hue=\"label\", fill=True, bw_adjust=bw_adjust, alpha=0.75, levels=levels, thresh=0.15)\n",
    "plot_path(linedf)\n",
    "plt.savefig(\"./results/images_tutorial/bayes_data_s_penalty_1.pdf\")\n",
    "plt.show()\n",
    "\n",
    "# Learn KDE over the data\n",
    "linedf = pd.DataFrame({'x1': [72.188,180,350,525,630,660], 'x2': [287.9,140,150,400,400,320]}) #200,130\n",
    "sns.kdeplot(data=df2, x='x1', y='x2', hue=\"label\", fill=True, bw_adjust=bw_adjust, alpha=0.75, levels=levels, thresh=0.4)\n",
    "plot_path(linedf)\n",
    "plt.savefig(\"./results/images_tutorial/bayes_data_s_penalty_5.pdf\")\n",
    "plt.show()"
   ],
   "metadata": {
    "collapsed": false
   },
   "id": "17d4233478842d4e",
   "execution_count": null
  },
  {
   "cell_type": "code",
   "outputs": [],
   "source": [
    "levels = 7\n",
    "bw_adjust = 0.75\n",
    "\n",
    "# Learn KDE over the data\n",
    "linedf = pd.DataFrame({'x1': [100,325], 'x2': [450,425]})\n",
    "sns.kdeplot(data=df_toy, x='x1', y='x2', hue=\"label\", fill=True, bw_adjust=bw_adjust, alpha=0.75, levels=levels, thresh=0.00001, legend= False)\n",
    "plot_path(linedf)\n",
    "plt.savefig(\"./results/images_tutorial/bayes_data_c_penalty_0.pdf\")\n",
    "plt.show()\n",
    "\n",
    "# Learn KDE over the data\n",
    "linedf = pd.DataFrame({'x1': [100,75,250], 'x2': [450,175,50]})\n",
    "\n",
    "linedf['label'] = ['red']*linedf.shape[0]\n",
    "sns.kdeplot(data=df_toy, x='x1', y='x2', hue=\"label\", fill=True, bw_adjust=bw_adjust, alpha=0.75, levels=levels, thresh=0.15, legend= False)\n",
    "plot_path(linedf)\n",
    "plt.savefig(\"./results/images_tutorial/bayes_data_c_penalty_1.pdf\")\n",
    "plt.show()\n",
    "\n",
    "# Learn KDE over the data\n",
    "linedf = pd.DataFrame({'x1': [100,50,150,250], 'x2': [450,225,50,50]})\n",
    "sns.kdeplot(data=df_toy, x='x1', y='x2', hue=\"label\", fill=True, bw_adjust=bw_adjust, alpha=0.75, levels=levels, thresh=0.35, legend= False)\n",
    "plot_path(linedf)\n",
    "plt.savefig(\"./results/images_tutorial/bayes_data_c_penalty_5.pdf\")\n",
    "plt.show()"
   ],
   "metadata": {
    "collapsed": false
   },
   "id": "3713e9aa8bfcefa5",
   "execution_count": null
  },
  {
   "cell_type": "code",
   "outputs": [],
   "source": [
    "import matplotlib.pyplot as plt\n",
    "from mpl_toolkits.mplot3d import axes3d\n",
    "import numpy as np\n",
    "from scipy import stats\n",
    "\n",
    "X = df2[\"x\"]\n",
    "Y = df2[\"y\"]\n",
    "\n",
    "kernel = stats.gaussian_kde(np.array([X, Y]))\n",
    "\n",
    "fig = plt.figure()\n",
    "ax = fig.add_subplot(111, projection=\"3d\")\n",
    "xs, ys = np.mgrid[0:800:50j, 0:450:50j]\n",
    "zs = kernel(np.array([xs.ravel(), ys.ravel()])).reshape(xs.shape)\n",
    "ax.plot_surface(xs, ys, zs, cmap=\"hot_r\", lw=0.25, rstride=1, cstride=1, ec='k', alpha=0.5)\n",
    "plt.show()"
   ],
   "metadata": {
    "collapsed": false
   },
   "id": "f275b5c61f1c95aa",
   "execution_count": null
  },
  {
   "cell_type": "code",
   "outputs": [],
   "source": [],
   "metadata": {
    "collapsed": false
   },
   "id": "22d58a23fc5c2838",
   "execution_count": null
  },
  {
   "cell_type": "code",
   "outputs": [],
   "source": [],
   "metadata": {
    "collapsed": false
   },
   "id": "1ceed57ffddc39d0"
  }
 ],
 "metadata": {
  "kernelspec": {
   "display_name": "Python 3",
   "language": "python",
   "name": "python3"
  },
  "language_info": {
   "codemirror_mode": {
    "name": "ipython",
    "version": 2
   },
   "file_extension": ".py",
   "mimetype": "text/x-python",
   "name": "python",
   "nbconvert_exporter": "python",
   "pygments_lexer": "ipython2",
   "version": "2.7.6"
  }
 },
 "nbformat": 4,
 "nbformat_minor": 5
}
