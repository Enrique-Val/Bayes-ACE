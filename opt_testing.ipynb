{
 "cells": [
  {
   "cell_type": "code",
   "execution_count": null,
   "id": "e5624c71",
   "metadata": {},
   "outputs": [],
   "source": [
    "import pandas as pd\n",
    "import numpy as np\n",
    "from pybnesian import hc, CLGNetworkType, SemiparametricBNType, SemiparametricBN\n",
    "#from drawdata import draw_scatter\n",
    "import matplotlib.pyplot as plt\n",
    "import math\n",
    "\n",
    "from pymoo.core.problem import ElementwiseProblem\n",
    "\n",
    "from pymoo.optimize import minimize\n",
    "\n",
    "from bayesace.utils import *\n",
    "from bayesace.algorithms.bayesace_algorithm import BayesACE\n",
    "from bayesace.algorithms.face import FACE\n",
    "\n",
    "from sklearn.preprocessing import StandardScaler, MinMaxScaler\n"
   ]
  },
  {
   "cell_type": "code",
   "execution_count": null,
   "id": "460574e2bdef1af3",
   "metadata": {
    "collapsed": false,
    "jupyter": {
     "outputs_hidden": false
    }
   },
   "outputs": [],
   "source": [
    "df = pd.read_csv(\"toy-3class.csv\")\n",
    "df[\"class\"] = df[\"z\"].astype('category')\n",
    "df = df.drop(\"z\", axis = 1 )\n",
    "\n",
    "feature_columns = [i for i in df.columns if i != \"class\"]\n",
    "df[feature_columns] = StandardScaler().fit_transform(df[feature_columns].values)"
   ]
  },
  {
   "cell_type": "code",
   "execution_count": null,
   "id": "3ce75b70fda7afc3",
   "metadata": {
    "collapsed": false,
    "jupyter": {
     "outputs_hidden": false
    }
   },
   "outputs": [],
   "source": [
    "df = pd.read_csv(\"six_gaussians.csv\")\n",
    "df[\"class\"] = df[\"class\"].astype(str).astype('category')\n",
    "\n",
    "feature_columns = [i for i in df.columns if i != \"class\"]\n",
    "df[feature_columns] = StandardScaler().fit_transform(df[feature_columns].values)\n",
    "df = df.sample(frac=1).reset_index(drop=True)"
   ]
  },
  {
   "cell_type": "code",
   "execution_count": null,
   "id": "eb6a2ef3",
   "metadata": {},
   "outputs": [],
   "source": [
    "learned = hc(df, bn_type = CLGNetworkType(), operators = [\"arcs\"], score = \"validated-lik\")\n",
    "learned.fit(df)\n",
    "\n",
    "'''naive = SemiparametricBN(df.columns)\n",
    "feature_columns = [i for i in df.columns if i != \"class\"]\n",
    "for i in [i for i in df.columns if i != \"class\"] :\n",
    "    naive.add_arc(\"class\", i)\n",
    "learned_kde = hc(df, start = naive, operators = [\"arcs\", \"node_type\"], score = \"validated-lik\")\n",
    "learned_kde.fit(df)'''\n",
    "\n",
    "\n",
    "\n"
   ]
  },
  {
   "cell_type": "code",
   "execution_count": null,
   "id": "93d59b5c5037d4be",
   "metadata": {
    "collapsed": false,
    "jupyter": {
     "outputs_hidden": false
    }
   },
   "outputs": [],
   "source": [
    "from bayesace.models.multi_bnaf import Arguments, MultiBnaf\n",
    "\n",
    "args = Arguments()\n",
    "args.device = \"cpu\"\n",
    "args.save = False\n",
    "args.load = False\n",
    "args.batch_dim = 2000\n",
    "args.epochs = 5000\n",
    "mbnaf = MultiBnaf(args, df)\n",
    "\n"
   ]
  },
  {
   "cell_type": "code",
   "execution_count": null,
   "id": "af52e5a22a5e63ca",
   "metadata": {
    "collapsed": false,
    "jupyter": {
     "outputs_hidden": false
    }
   },
   "outputs": [],
   "source": [
    "plt.imshow(get_probability_plot(mbnaf))"
   ]
  },
  {
   "cell_type": "code",
   "execution_count": null,
   "id": "db6503302d01fe1e",
   "metadata": {
    "collapsed": false,
    "jupyter": {
     "outputs_hidden": false
    }
   },
   "outputs": [],
   "source": [
    "predict_class(df, mbnaf)"
   ]
  },
  {
   "cell_type": "code",
   "execution_count": null,
   "id": "345dc2f166095084",
   "metadata": {
    "collapsed": false,
    "jupyter": {
     "outputs_hidden": false
    }
   },
   "outputs": [],
   "source": [
    "for i in learned.nodes() :\n",
    "    print(i)\n",
    "    print(learned_kde.cpd(i))"
   ]
  },
  {
   "cell_type": "code",
   "execution_count": null,
   "id": "301a011e730c8804",
   "metadata": {
    "collapsed": false,
    "jupyter": {
     "outputs_hidden": false
    }
   },
   "outputs": [],
   "source": [
    "instance = df.iloc[[0]]\n",
    "instance[\"class\"] = pd.Categorical([\"a\"], categories=learned.cpd(\"class\").variable_values())\n",
    "log_likelihood(instance,learned)"
   ]
  },
  {
   "cell_type": "code",
   "execution_count": null,
   "id": "8cfd86dcf24ccfb8",
   "metadata": {
    "collapsed": false,
    "jupyter": {
     "outputs_hidden": false
    }
   },
   "outputs": [],
   "source": [
    "n_vertex = 2\n",
    "x_og = df.iloc[[0]]\n",
    "bayesace = BayesACE(bayesian_network=learned, features= df.columns[:-1], n_vertex=n_vertex, chunks = 10, penalty=10, pop_size=100, likelihood_threshold=0.01, accuracy_threshold= 0.05, generations=20, verbose=False)\n",
    "res = bayesace.run(x_og)\n",
    "res_b = res"
   ]
  },
  {
   "cell_type": "code",
   "execution_count": null,
   "id": "d0088520ea1193ef",
   "metadata": {
    "collapsed": false,
    "jupyter": {
     "outputs_hidden": false
    }
   },
   "outputs": [],
   "source": [
    "x_1 = x_og.drop(\"class\",axis = 1)\n",
    "df_vertex = res_b.path\n",
    "to_plot = df.drop(\"class\", axis = 1)\n",
    "colours = df[\"class\"].to_numpy()\n",
    "colours[colours == \"a\"] = \"green\"\n",
    "colours[colours == \"b\"] = \"yellow\"\n",
    "colours[colours == \"c\"] = \"blue\"\n",
    "plt.scatter(to_plot[\"x\"],to_plot[\"y\"], color = colours)\n",
    "plt.plot(df_vertex.x,df_vertex.y,color = \"red\")\n",
    "#plt.show()\n",
    "plt.savefig(\"bace.png\")"
   ]
  },
  {
   "cell_type": "code",
   "execution_count": null,
   "id": "4c0ddeead002c66d",
   "metadata": {
    "collapsed": false,
    "jupyter": {
     "outputs_hidden": false
    }
   },
   "outputs": [],
   "source": [
    "x_og = df.iloc[[0]]\n",
    "face = FACE(bayesian_network=learned, features= df.columns[:-1], dataset=df.drop(\"class\", axis = 1), graph_type = \"epsilon\", chunks = 10, penalty=1, distance_threshold=0.75, accuracy_threshold= 0.05,  likelihood_threshold=0.35, verbose = False)\n",
    "res = face.run(x_og)"
   ]
  },
  {
   "cell_type": "code",
   "execution_count": null,
   "id": "7b612900b31fbb1f",
   "metadata": {
    "collapsed": false,
    "jupyter": {
     "outputs_hidden": false
    }
   },
   "outputs": [],
   "source": [
    "x_1 = x_og.drop(\"class\",axis = 1)\n",
    "df_vertex = res.path\n",
    "to_plot = df.drop(\"class\", axis = 1)\n",
    "colours = df[\"class\"].to_numpy()\n",
    "colours[colours == \"a\"] = \"green\"\n",
    "colours[colours == \"b\"] = \"yellow\"\n",
    "colours[colours == \"c\"] = \"blue\"\n",
    "plt.scatter(to_plot[\"x\"],to_plot[\"y\"], color = colours)\n",
    "limit = 3\n",
    "plt.plot(df_vertex.x,df_vertex.y,color = \"red\")\n",
    "plt.xlim((-3,3))\n",
    "plt.ylim((-3,3))\n",
    "plt.show()\n",
    "#plt.savefig(\"face.png\")"
   ]
  },
  {
   "cell_type": "code",
   "execution_count": null,
   "id": "b82c14ba5c70a842",
   "metadata": {
    "collapsed": false,
    "jupyter": {
     "outputs_hidden": false
    }
   },
   "outputs": [],
   "source": []
  },
  {
   "cell_type": "code",
   "execution_count": null,
   "id": "a2b9132171b37496",
   "metadata": {
    "collapsed": false,
    "jupyter": {
     "outputs_hidden": false
    }
   },
   "outputs": [],
   "source": [
    "sum(abs(res.path-res_b.path))"
   ]
  },
  {
   "cell_type": "code",
   "execution_count": null,
   "id": "8c1c3ae6ecbaf270",
   "metadata": {
    "collapsed": false,
    "jupyter": {
     "outputs_hidden": false
    }
   },
   "outputs": [],
   "source": [
    "path_likelihood_length(res.path, learned) - path_likelihood_length(res_b.path, learned)"
   ]
  },
  {
   "cell_type": "code",
   "execution_count": null,
   "id": "c6bf9fc6b18d4b17",
   "metadata": {
    "collapsed": false,
    "jupyter": {
     "outputs_hidden": false
    }
   },
   "outputs": [],
   "source": []
  }
 ],
 "metadata": {
  "kernelspec": {
   "display_name": "Python 3 (ipykernel)",
   "language": "python",
   "name": "python3"
  },
  "language_info": {
   "codemirror_mode": {
    "name": "ipython",
    "version": 3
   },
   "file_extension": ".py",
   "mimetype": "text/x-python",
   "name": "python",
   "nbconvert_exporter": "python",
   "pygments_lexer": "ipython3",
   "version": "3.11.8"
  }
 },
 "nbformat": 4,
 "nbformat_minor": 5
}
