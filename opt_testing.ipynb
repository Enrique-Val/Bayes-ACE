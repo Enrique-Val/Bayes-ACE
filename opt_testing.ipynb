{
 "cells": [
  {
   "cell_type": "code",
   "execution_count": null,
   "id": "e5624c71",
   "metadata": {},
   "outputs": [],
   "source": [
    "import pandas as pd\n",
    "import numpy as np\n",
    "from pybnesian import hc, CLGNetworkType, SemiparametricBNType\n",
    "#from drawdata import draw_scatter\n",
    "import matplotlib.pyplot as plt\n",
    "import math\n",
    "\n",
    "from pymoo.core.problem import ElementwiseProblem\n",
    "\n",
    "from pymoo.optimize import minimize\n",
    "\n",
    "from bayesace.algorithms.face import face_algorithm\n",
    "from bayesace.utils import *\n",
    "from bayesace.algorithms.bayesace import BayesACE\n",
    "from bayesace.algorithms.face import FACE\n",
    "\n",
    "from sklearn.preprocessing import StandardScaler\n"
   ]
  },
  {
   "cell_type": "code",
   "execution_count": null,
   "id": "eb6a2ef3",
   "metadata": {},
   "outputs": [],
   "source": [
    "df = pd.read_csv(\"toy-3class.csv\")\n",
    "df[\"class\"] = df[\"z\"].astype('category')\n",
    "df = df.drop(\"z\", axis = 1 )\n",
    "\n",
    "feature_columns = [i for i in df.columns if i != \"class\"]\n",
    "df[feature_columns] = StandardScaler().fit_transform(df[feature_columns].values)\n",
    "\n",
    "\n",
    "\n",
    "learned = hc(df, bn_type = CLGNetworkType(), operators = [\"arcs\"], score = \"validated-lik\")\n",
    "learned.fit(df)\n",
    "\n",
    "learned_kde = hc(df, bn_type = SemiparametricBNType(), operators = [\"arcs\", \"node_type\"], score = \"validated-lik\")\n",
    "learned_kde.fit(df)\n",
    "\n"
   ]
  },
  {
   "cell_type": "code",
   "outputs": [],
   "source": [
    "predict_class(df, learned_kde)"
   ],
   "metadata": {
    "collapsed": false
   },
   "id": "db6503302d01fe1e",
   "execution_count": null
  },
  {
   "cell_type": "code",
   "outputs": [],
   "source": [
    "for i in learned.nodes() :\n",
    "    print(i)\n",
    "    print(learned.cpd(i))"
   ],
   "metadata": {
    "collapsed": false
   },
   "id": "345dc2f166095084",
   "execution_count": null
  },
  {
   "cell_type": "code",
   "outputs": [],
   "source": [
    "instance = df.iloc[[0]]\n",
    "instance[\"class\"] = pd.Categorical([\"False\"], categories=learned.cpd(\"class\").variable_values())\n",
    "math.e ** learned.logl(instance)"
   ],
   "metadata": {
    "collapsed": false
   },
   "id": "301a011e730c8804",
   "execution_count": null
  },
  {
   "cell_type": "code",
   "outputs": [],
   "source": [
    "n_vertex = 0\n",
    "x_og = df.iloc[[0]]\n",
    "bayesace = BayesACE(bayesian_network=learned_kde, features= df.columns[:-1], n_vertex=n_vertex, chunks = 100, penalty=1, pop_size=50, likelihood_threshold=0.0, accuracy_threshold= 0.5, generations=10)\n",
    "res = bayesace.run(x_og)"
   ],
   "metadata": {
    "collapsed": false
   },
   "id": "8cfd86dcf24ccfb8",
   "execution_count": null
  },
  {
   "cell_type": "code",
   "outputs": [],
   "source": [
    "res.counterfactual"
   ],
   "metadata": {
    "collapsed": false
   },
   "id": "4e57fbf8b7268ab4",
   "execution_count": null
  },
  {
   "cell_type": "code",
   "outputs": [],
   "source": [
    "df.iloc[0]"
   ],
   "metadata": {
    "collapsed": false
   },
   "id": "afe42a234542fccd",
   "execution_count": null
  },
  {
   "cell_type": "code",
   "outputs": [],
   "source": [
    "x_1 = x_og.drop(\"class\",axis = 1)\n",
    "df_vertex = res.path\n",
    "to_plot = df.drop(\"class\", axis = 1)\n",
    "colours = df[\"class\"].to_numpy()\n",
    "colours[colours == \"a\"] = \"green\"\n",
    "colours[colours == \"b\"] = \"yellow\"\n",
    "colours[colours == \"c\"] = \"blue\"\n",
    "plt.scatter(to_plot[\"x\"],to_plot[\"y\"], color = colours)\n",
    "plt.plot(df_vertex.x,df_vertex.y,color = \"red\")\n",
    "plt.show()"
   ],
   "metadata": {
    "collapsed": false
   },
   "id": "d0088520ea1193ef",
   "execution_count": null
  },
  {
   "cell_type": "code",
   "outputs": [],
   "source": [
    "n_vertex = 1\n",
    "x_og = df.iloc[[0]]\n",
    "face = FACE(bayesian_network=learned_kde, features= df.columns[:-1], dataset=df.drop(\"class\", axis = 1), graph_type = \"epsilon\", chunks = 10, penalty=1, distance_threshold=0.75, accuracy_threshold= 0.5, verbose = False)\n",
    "res = face.run(x_og)"
   ],
   "metadata": {
    "collapsed": false
   },
   "id": "4c0ddeead002c66d",
   "execution_count": null
  },
  {
   "cell_type": "code",
   "outputs": [],
   "source": [
    "x_1 = x_og.drop(\"class\",axis = 1)\n",
    "df_vertex = res.path\n",
    "to_plot = df.drop(\"class\", axis = 1)\n",
    "colours = df[\"class\"].to_numpy()\n",
    "colours[colours == \"a\"] = \"green\"\n",
    "colours[colours == \"b\"] = \"yellow\"\n",
    "colours[colours == \"c\"] = \"blue\"\n",
    "plt.scatter(to_plot[\"x\"],to_plot[\"y\"], color = colours)\n",
    "plt.plot(df_vertex.x,df_vertex.y,color = \"red\")\n",
    "plt.show()"
   ],
   "metadata": {
    "collapsed": false
   },
   "id": "7b612900b31fbb1f",
   "execution_count": null
  },
  {
   "cell_type": "code",
   "outputs": [],
   "source": [],
   "metadata": {
    "collapsed": false
   },
   "id": "b82c14ba5c70a842",
   "execution_count": null
  },
  {
   "cell_type": "code",
   "outputs": [],
   "source": [],
   "metadata": {
    "collapsed": false
   },
   "id": "a2b9132171b37496"
  }
 ],
 "metadata": {
  "kernelspec": {
   "display_name": "Python 3 (ipykernel)",
   "language": "python",
   "name": "python3"
  },
  "language_info": {
   "codemirror_mode": {
    "name": "ipython",
    "version": 3
   },
   "file_extension": ".py",
   "mimetype": "text/x-python",
   "name": "python",
   "nbconvert_exporter": "python",
   "pygments_lexer": "ipython3",
   "version": "3.10.13"
  }
 },
 "nbformat": 4,
 "nbformat_minor": 5
}
