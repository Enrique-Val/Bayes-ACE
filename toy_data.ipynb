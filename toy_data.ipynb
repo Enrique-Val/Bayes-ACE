{
 "cells": [
  {
   "cell_type": "code",
   "execution_count": null,
   "id": "e5624c71",
   "metadata": {},
   "outputs": [],
   "source": [
    "import pandas as pd\n",
    "import numpy as np\n",
    "from pybnesian import hc, CLGNetworkType\n",
    "#from drawdata import draw_scatter\n",
    "import matplotlib.pyplot as plt\n",
    "import math\n",
    "\n",
    "from pymoo.core.problem import ElementwiseProblem\n",
    "from pymoo.algorithms.moo.nsga2 import NSGA2\n",
    "from pymoo.optimize import minimize\n",
    "import pygad\n"
   ]
  },
  {
   "cell_type": "code",
   "execution_count": null,
   "id": "f77e28b7",
   "metadata": {},
   "outputs": [],
   "source": [
    "#draw_scatter()"
   ]
  },
  {
   "cell_type": "code",
   "execution_count": null,
   "id": "c22eb499",
   "metadata": {},
   "outputs": [],
   "source": [
    "#df = pd.read_clipboard(sep=\",\")\n",
    "#df.to_csv(\"toy-2class.csv\", index = False)"
   ]
  },
  {
   "cell_type": "code",
   "execution_count": null,
   "id": "7c113aaf",
   "metadata": {},
   "outputs": [],
   "source": [
    "df = pd.read_csv(\"toy-3class.csv\")"
   ]
  },
  {
   "cell_type": "code",
   "execution_count": null,
   "id": "eb6a2ef3",
   "metadata": {},
   "outputs": [],
   "source": [
    "df[\"class\"] = df[\"z\"].astype('category')\n",
    "#df[\"z\"] = df[\"z\"].astype('category')\n",
    "df = df.drop(\"z\", axis = 1 )\n",
    "\n",
    "\n",
    "learned = hc(df, bn_type = CLGNetworkType(), operators = [\"arcs\"], score = \"validated-lik\")\n",
    "learned.num_arcs()\n",
    "\n",
    "learned.fit(df)"
   ]
  },
  {
   "cell_type": "code",
   "execution_count": null,
   "id": "a29d3d4a",
   "metadata": {},
   "outputs": [],
   "source": [
    "synt = learned.sample(1000).to_pandas()"
   ]
  },
  {
   "cell_type": "code",
   "execution_count": null,
   "id": "bd19c347",
   "metadata": {},
   "outputs": [],
   "source": [
    "def euclidean_distance(x_cfx, x_og) :\n",
    "    # Make sure attributes go in the same order\n",
    "    #x_og = x_og[x_cfx.index]\n",
    "    \n",
    "    # Return Euclidean distance\n",
    "    return np.sqrt(np.sum((x_cfx.values-x_og.values)**2))\n",
    "\n",
    "def delta_distance(x_cfx, x_og, eps = 0.1) :\n",
    "    abs_distance = abs(x_cfx.values-x_og.values)\n",
    "    return sum(map(lambda i: i > eps, abs_distance[0]))\n",
    "\n",
    "def likelihood(x_cfx,bn) :\n",
    "    class_cpd = bn.cpd(\"class\")\n",
    "    class_values = class_cpd.variable_values()\n",
    "    cfx = x_cfx.copy()\n",
    "    n_samples = x_cfx.shape[0]\n",
    "    likelihood = 0\n",
    "    for v in class_values :\n",
    "        cfx[\"class\"] = pd.Categorical([v]*n_samples, categories = class_values)\n",
    "        likelihood = likelihood + math.e**bn.logl(cfx)\n",
    "    return likelihood\n",
    "\n",
    "def log_likelihood(x_cfx,bn) :\n",
    "    return np.log(likelihood(x_cfx,bn))\n",
    "\n",
    "def accuracy(x_cfx, y_og : str | list, bn) :\n",
    "    class_cpd = bn.cpd(\"class\")\n",
    "    class_values = class_cpd.variable_values()\n",
    "    cfx = x_cfx.copy()\n",
    "    if isinstance(y_og,str) :\n",
    "        cfx[\"class\"] = pd.Categorical([y_og], categories = class_values)\n",
    "    else :\n",
    "        cfx[\"class\"] = pd.Categorical(y_og, categories = class_values)\n",
    "    prob = math.e**bn.logl(cfx)\n",
    "    ll = likelihood(x_cfx,bn)\n",
    "    if ll>0 :\n",
    "        return prob/ll\n",
    "    else :\n",
    "        return 1\n",
    "\n",
    "\n",
    "def straight_path(x_1, x_2) :\n",
    "    spacing = int(euclidean_distance(x_1,x_2)/10)\n",
    "    points = np.zeros(shape=(x_2.shape[1],spacing))\n",
    "    for i,att in enumerate(x_2.columns) :\n",
    "        points[i] = np.linspace(x_1[att].values[0],x_2[att].values[0],spacing)\n",
    "    to_ret = pd.DataFrame(columns = x_2.columns, index = range(0,spacing))\n",
    "    to_ret[:] = points.transpose()\n",
    "    return to_ret\n",
    "\n",
    "def path(df_vertex) :\n",
    "    to_ret = pd.DataFrame(columns = df_vertex.columns)\n",
    "    for i in range(len(df_vertex.index)-1) :\n",
    "        x_1 = df_vertex.iloc[[i]]\n",
    "        x_2 = df_vertex.iloc[[i+1]]\n",
    "        to_ret = pd.concat([to_ret,straight_path(x_1, x_2)])\n",
    "    return to_ret.reset_index()\n",
    "\n",
    "def avg_path_logl(x_cfx, x_og, bn, penalty) :\n",
    "    likelihood_path = (-log_likelihood(straight_path(x_og, x_cfx),bn)+1)**penalty\n",
    "    return np.sum(likelihood_path)\n",
    "\n",
    "def increase_monotonically(path,bn) :\n",
    "    pass"
   ]
  },
  {
   "cell_type": "code",
   "execution_count": null,
   "id": "25a044cb",
   "metadata": {},
   "outputs": [],
   "source": [
    "x_cfx = synt.iloc[[100]]\n",
    "x_cfx = x_cfx.drop(\"class\",axis = 1)\n",
    "x_og = synt.iloc[[200]]\n",
    "x_og = x_og.drop(\"class\",axis = 1)\n",
    "path_x = straight_path(x_cfx,x_og)"
   ]
  },
  {
   "cell_type": "code",
   "execution_count": null,
   "id": "df470750",
   "metadata": {},
   "outputs": [],
   "source": [
    "path(pd.concat([x_og,x_cfx,x_og]))"
   ]
  },
  {
   "cell_type": "code",
   "execution_count": null,
   "outputs": [],
   "source": [
    "pd.concat([x_og,x_cfx])"
   ],
   "metadata": {
    "collapsed": false
   }
  },
  {
   "cell_type": "code",
   "execution_count": null,
   "id": "e01eaf2b",
   "metadata": {},
   "outputs": [],
   "source": [
    "isinstance(\"a\",str)"
   ]
  },
  {
   "cell_type": "code",
   "execution_count": null,
   "id": "c96a4947",
   "metadata": {},
   "outputs": [],
   "source": [
    "accuracy(x_og,\"a\",learned)"
   ]
  },
  {
   "cell_type": "code",
   "execution_count": null,
   "id": "da1a5d6d",
   "metadata": {},
   "outputs": [],
   "source": [
    "class BNCfx(ElementwiseProblem):\n",
    "\n",
    "    def __init__(self):\n",
    "        super().__init__(n_var=2,\n",
    "                         n_obj=4,\n",
    "                         n_ieq_constr=2,\n",
    "                         xl=np.array([0]*2),\n",
    "                         xu=np.array([700]*2))\n",
    "\n",
    "    def _evaluate(self, x, out, *args, **kwargs):\n",
    "        x_cfx = x_og.copy()\n",
    "        x_cfx[:] = x\n",
    "        f1 = euclidean_distance(x_cfx,x_og)\n",
    "        f2 = -log_likelihood(x_cfx, learned)\n",
    "        f3 = avg_path_logl(x_cfx, x_og, learned, penalty = 20)\n",
    "        f4 = delta_distance(x_cfx,x_og, eps = 15)\n",
    "        out[\"F\"] = np.column_stack([f1, f2, f3, f4])\n",
    "        \n",
    "        g1 = -0.1#-likelihood(x_cfx, learned)+0.0000001\n",
    "        g2 = accuracy(x_cfx,y_og,learned)-0.05\n",
    "        out[\"G\"] = np.column_stack([g1,g2])"
   ]
  },
  {
   "cell_type": "code",
   "execution_count": null,
   "id": "456713f2",
   "metadata": {},
   "outputs": [],
   "source": [
    "problem = BNCfx()\n",
    "\n",
    "x_og = synt.iloc[[300]].copy()\n",
    "x_og = x_og.drop(\"class\",axis = 1)\n",
    "x_og.columns = [\"x\",\"y\"]\n",
    "x_og[\"x\"] = 192.069\n",
    "x_og[\"y\"] = 444.152 + -1.215*192.069 + np.sqrt(16335.215)*2\n",
    "y_og = \"a\"\n",
    "#x_cfx[\"class\"] = pd.Categorical(\"a\", categories = [\"a\",\"b\",\"c\"])\n",
    "\n",
    "algorithm = NSGA2(pop_size=100)\n",
    "\n",
    "res = minimize(problem,\n",
    "               algorithm,\n",
    "               ('n_gen', 10),\n",
    "               seed=1,\n",
    "               verbose=True)\n",
    "\n",
    "# calculate a hash to show that all executions end with the same result\n",
    "print(\"hash\", res.F.sum())"
   ]
  },
  {
   "cell_type": "code",
   "execution_count": null,
   "outputs": [],
   "source": [
    "res.X"
   ],
   "metadata": {
    "collapsed": false
   }
  },
  {
   "cell_type": "code",
   "execution_count": null,
   "id": "23cf5c78",
   "metadata": {},
   "outputs": [],
   "source": [
    "x_og"
   ]
  },
  {
   "cell_type": "code",
   "execution_count": null,
   "id": "482c4dd1",
   "metadata": {},
   "outputs": [],
   "source": [
    "to_plot = df.drop(\"class\", axis = 1)\n",
    "colours = df[\"class\"].to_numpy()\n",
    "colours[colours == \"a\"] = \"green\"\n",
    "colours[colours == \"b\"] = \"yellow\"\n",
    "colours[colours == \"c\"] = \"blue\"\n",
    "plt.scatter(to_plot[\"x\"],to_plot[\"y\"], color = colours)\n",
    "plt.scatter(res.X.transpose()[0],res.X.transpose()[1],color = \"red\")\n",
    "plt.scatter(x_og[\"x\"],x_og[\"y\"], color = \"black\")\n",
    "plt.show()"
   ]
  },
  {
   "cell_type": "code",
   "execution_count": null,
   "id": "92a0e80e",
   "metadata": {},
   "outputs": [],
   "source": [
    "x_test = x_og.copy()\n",
    "x_test.x = 450.0\n",
    "x_test.y = 425.0\n",
    "print(\"Logl:\",log_likelihood(x_test,learned))\n",
    "print(\"Path logl:\",avg_path_logl(x_test,x_og,learned))\n",
    "print(\"Accuracy:\",accuracy(x_test,\"a\",learned))"
   ]
  },
  {
   "cell_type": "code",
   "execution_count": null,
   "id": "adb8462e",
   "metadata": {},
   "outputs": [],
   "source": [
    "0.9**2"
   ]
  },
  {
   "cell_type": "code",
   "execution_count": null,
   "id": "e6c0ca64",
   "metadata": {},
   "outputs": [],
   "source": [
    "x_test = x_og.copy()\n",
    "x_test.x = 700.0\n",
    "x_test.y = 700.0\n",
    "print(\"Logl:\",log_likelihood(x_test,learned))\n",
    "print(\"Path logl:\",avg_path_logl(x_test,x_og,learned))\n",
    "print(\"Accuracy:\",accuracy(x_test,\"a\",learned))"
   ]
  },
  {
   "cell_type": "code",
   "execution_count": null,
   "outputs": [],
   "source": [
    "x_1 = x_og\n",
    "x_2 = x_1.copy()\n",
    "x_2.x = 600\n",
    "x_2.y = 50\n",
    "class BestPathFinder(ElementwiseProblem):\n",
    "    def __init__(self, n_vertex = 1, penalty = 1):\n",
    "        super().__init__(n_var=2*n_vertex,\n",
    "                         n_obj=1,\n",
    "                         n_ieq_constr=1,\n",
    "                         xl=np.array([0]*2*n_vertex),\n",
    "                         xu=np.array([700]*2*n_vertex))\n",
    "        self.n_vertex = n_vertex\n",
    "        self.penalty = penalty\n",
    "\n",
    "    def _evaluate(self, x, out, *args, **kwargs):\n",
    "        df_vertex = pd.DataFrame(columns = x_1.columns, data=np.resize(x,new_shape=(self.n_vertex, 2)))\n",
    "        df_vertex = pd.concat([x_1,df_vertex,x_2])\n",
    "        df_vertex = df_vertex.reset_index()\n",
    "        path_x = path(df_vertex)\n",
    "        likelihood_path = (-log_likelihood(path_x,learned)+1)**self.penalty\n",
    "        f1 = np.sum(likelihood_path)\n",
    "        out[\"F\"] = np.column_stack([f1])\n",
    "\n",
    "        g1 = -0.1#-likelihood(x_cfx, learned)+0.0000001\n",
    "        out[\"G\"] = np.column_stack([g1])\n",
    "\n",
    "\n",
    "problem = BestPathFinder(n_vertex = 3, penalty = 5)\n",
    "algorithm = NSGA2(pop_size=100)\n",
    "\n",
    "res = minimize(problem,\n",
    "               algorithm,\n",
    "               ('n_gen', 10),\n",
    "               seed=1,\n",
    "               verbose=True)"
   ],
   "metadata": {
    "collapsed": false
   }
  },
  {
   "cell_type": "code",
   "execution_count": null,
   "outputs": [],
   "source": [
    "df_vertex = pd.DataFrame(columns = x_1.columns, data=np.resize(res.X,new_shape=(3, 2)))\n",
    "df_vertex = pd.concat([x_1,df_vertex, x_2])\n",
    "to_plot = df.drop(\"class\", axis = 1)\n",
    "colours = df[\"class\"].to_numpy()\n",
    "colours[colours == \"a\"] = \"green\"\n",
    "colours[colours == \"b\"] = \"yellow\"\n",
    "colours[colours == \"c\"] = \"blue\"\n",
    "plt.scatter(to_plot[\"x\"],to_plot[\"y\"], color = colours)\n",
    "plt.plot(df_vertex.x,df_vertex.y,color = \"red\")\n",
    "plt.show()"
   ],
   "metadata": {
    "collapsed": false
   }
  },
  {
   "cell_type": "code",
   "execution_count": null,
   "outputs": [],
   "source": [],
   "metadata": {
    "collapsed": false
   }
  },
  {
   "cell_type": "code",
   "execution_count": null,
   "outputs": [],
   "source": [
    "x_mid = x_og.copy()\n",
    "x_mid[:] = np.flip(res.X)"
   ],
   "metadata": {
    "collapsed": false
   }
  },
  {
   "cell_type": "code",
   "execution_count": null,
   "outputs": [],
   "source": [
    "likelihood_path = (-log_likelihood(path(pd.concat([x_1,x_mid,x_2]).reset_index()),learned)+1)\n",
    "np.sum(likelihood_path)"
   ],
   "metadata": {
    "collapsed": false
   }
  },
  {
   "cell_type": "code",
   "execution_count": null,
   "outputs": [],
   "source": [
    "pd.concat([x_1,x_mid,x_2])"
   ],
   "metadata": {
    "collapsed": false
   }
  },
  {
   "cell_type": "code",
   "execution_count": null,
   "outputs": [],
   "source": [
    "x_1 = x_og\n",
    "x_2 = x_1.copy()\n",
    "x_2.x = 600\n",
    "x_2.y = 50\n",
    "n_vertex = 3\n",
    "n_attr = 2\n",
    "penalty = 1\n",
    "\n",
    "def fitness_func(ga_instance, solution, solution_idx):\n",
    "    x = solution\n",
    "    df_vertex = pd.DataFrame(columns = x_1.columns, data=np.resize(x,new_shape=(n_vertex, n_attr)))\n",
    "    df_vertex = pd.concat([x_1,df_vertex,x_2])\n",
    "    df_vertex = df_vertex.reset_index()\n",
    "    path_x = path(df_vertex)\n",
    "    likelihood_path = -(-log_likelihood(path_x,learned)+1)**penalty\n",
    "    return np.sum(likelihood_path)\n",
    "\n",
    "fitness_function = fitness_func\n",
    "\n",
    "num_generations = 50\n",
    "num_parents_mating = 4\n",
    "\n",
    "sol_per_pop = 100\n",
    "num_genes = n_vertex*n_attr\n",
    "\n",
    "init_range_low = 0\n",
    "init_range_high = 700\n",
    "\n",
    "parent_selection_type = \"sss\"\n",
    "keep_parents = 1\n",
    "\n",
    "crossover_type = \"single_point\"\n",
    "\n",
    "mutation_type = \"random\"\n",
    "mutation_percent_genes = 10\n",
    "\n",
    "ga_instance = pygad.GA(num_generations=num_generations,\n",
    "                       num_parents_mating=num_parents_mating,\n",
    "                       fitness_func=fitness_function,\n",
    "                       sol_per_pop=sol_per_pop,\n",
    "                       num_genes=num_genes,\n",
    "                       init_range_low=init_range_low,\n",
    "                       init_range_high=init_range_high,\n",
    "                       parent_selection_type=parent_selection_type,\n",
    "                       keep_parents=keep_parents,\n",
    "                       crossover_type=crossover_type,\n",
    "                       mutation_type=mutation_type,\n",
    "                       mutation_percent_genes=mutation_percent_genes)\n",
    "\n",
    "ga_instance.run()\n",
    "\n",
    "solution, solution_fitness, solution_idx = ga_instance.best_solution()\n",
    "print(\"Parameters of the best solution : {solution}\".format(solution=solution))\n",
    "print(\"Fitness value of the best solution = {solution_fitness}\".format(solution_fitness=solution_fitness))"
   ],
   "metadata": {
    "collapsed": false
   }
  },
  {
   "cell_type": "code",
   "execution_count": null,
   "outputs": [],
   "source": [
    "def best_path(x_1,x_2, vertex = 0) :\n",
    "    if vertex == 0 :\n",
    "        return straight_path(x_1,x_2)"
   ],
   "metadata": {
    "collapsed": false
   }
  },
  {
   "cell_type": "code",
   "execution_count": null,
   "outputs": [],
   "source": [
    "res.X"
   ],
   "metadata": {
    "collapsed": false
   }
  },
  {
   "cell_type": "code",
   "execution_count": null,
   "outputs": [],
   "source": [
    "df_vertex = pd.DataFrame(columns=x_1.columns, data=np.resize(solution, new_shape=(3, 2)))\n",
    "df_vertex = pd.concat([x_1, df_vertex, x_2])\n",
    "to_plot = df.drop(\"class\", axis=1)\n",
    "colours = df[\"class\"].to_numpy()\n",
    "colours[colours == \"a\"] = \"green\"\n",
    "colours[colours == \"b\"] = \"yellow\"\n",
    "colours[colours == \"c\"] = \"blue\"\n",
    "plt.scatter(to_plot[\"x\"], to_plot[\"y\"], color=colours)\n",
    "plt.plot(df_vertex.x, df_vertex.y, color=\"red\")\n",
    "plt.show()"
   ],
   "metadata": {
    "collapsed": false
   }
  },
  {
   "cell_type": "code",
   "execution_count": null,
   "outputs": [],
   "source": [],
   "metadata": {
    "collapsed": false
   }
  }
 ],
 "metadata": {
  "kernelspec": {
   "display_name": "Python 3 (ipykernel)",
   "language": "python",
   "name": "python3"
  },
  "language_info": {
   "codemirror_mode": {
    "name": "ipython",
    "version": 3
   },
   "file_extension": ".py",
   "mimetype": "text/x-python",
   "name": "python",
   "nbconvert_exporter": "python",
   "pygments_lexer": "ipython3",
   "version": "3.9.18"
  }
 },
 "nbformat": 4,
 "nbformat_minor": 5
}
