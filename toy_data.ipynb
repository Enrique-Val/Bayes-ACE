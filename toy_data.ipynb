{
 "cells": [
  {
   "cell_type": "code",
   "execution_count": 1,
   "id": "e5624c71",
   "metadata": {},
   "outputs": [],
   "source": [
    "import pandas as pd\n",
    "import numpy as np\n",
    "from pybnesian import hc, HeterogeneousBNType, GaussianNetwork, CLGNetwork, CLGNetworkType, KDENetworkType\n",
    "from scipy.stats import rv_discrete\n",
    "from drawdata import draw_scatter\n",
    "import matplotlib.pyplot as plt\n",
    "import math\n"
   ]
  },
  {
   "cell_type": "code",
   "execution_count": 2,
   "id": "f77e28b7",
   "metadata": {},
   "outputs": [],
   "source": [
    "#draw_scatter()"
   ]
  },
  {
   "cell_type": "code",
   "execution_count": 3,
   "id": "c22eb499",
   "metadata": {},
   "outputs": [],
   "source": [
    "#df = pd.read_clipboard(sep=\",\")\n",
    "#df.to_csv(\"toy-2class.csv\", index = False)"
   ]
  },
  {
   "cell_type": "code",
   "execution_count": 4,
   "id": "7c113aaf",
   "metadata": {},
   "outputs": [],
   "source": [
    "df = pd.read_csv(\"toy-3class.csv\")"
   ]
  },
  {
   "cell_type": "code",
   "execution_count": 5,
   "id": "eb6a2ef3",
   "metadata": {},
   "outputs": [],
   "source": [
    "df[\"class\"] = df[\"z\"].astype('category')\n",
    "#df[\"z\"] = df[\"z\"].astype('category')\n",
    "df = df.drop(\"z\", axis = 1 )\n",
    "\n",
    "\n",
    "learned = hc(df, bn_type = CLGNetworkType(), operators = [\"arcs\"], score = \"validated-lik\")\n",
    "learned.num_arcs()\n",
    "\n",
    "learned.fit(df)"
   ]
  },
  {
   "cell_type": "code",
   "execution_count": 6,
   "id": "23906b40",
   "metadata": {},
   "outputs": [],
   "source": [
    "factor = learned.cpd(\"class\")"
   ]
  },
  {
   "cell_type": "code",
   "execution_count": 7,
   "id": "ac76fa25",
   "metadata": {},
   "outputs": [
    {
     "data": {
      "text/plain": [
       "[]"
      ]
     },
     "execution_count": 7,
     "metadata": {},
     "output_type": "execute_result"
    }
   ],
   "source": [
    "factor.parent_values()"
   ]
  },
  {
   "cell_type": "code",
   "execution_count": 8,
   "id": "a29d3d4a",
   "metadata": {},
   "outputs": [],
   "source": [
    "synt = learned.sample(1000).to_pandas()"
   ]
  },
  {
   "cell_type": "code",
   "execution_count": 9,
   "id": "b7d55f87",
   "metadata": {},
   "outputs": [
    {
     "data": {
      "text/plain": [
       "class    182\n",
       "y        182\n",
       "x        182\n",
       "dtype: int64"
      ]
     },
     "execution_count": 9,
     "metadata": {},
     "output_type": "execute_result"
    }
   ],
   "source": [
    "synt[synt[\"class\"] == \"c\"].count()"
   ]
  },
  {
   "cell_type": "code",
   "execution_count": 10,
   "id": "bd19c347",
   "metadata": {},
   "outputs": [],
   "source": [
    "def euclidean_distance(x_cfx, x_og) :\n",
    "    # Make sure attributes go in the same order\n",
    "    #x_og = x_og[x_cfx.index]\n",
    "    \n",
    "    # Return Euclidean distance\n",
    "    return np.sqrt(np.sum((x_cfx-x_og).values**2))\n",
    "\n",
    "def delta_distance(x_cfx, x_og) :\n",
    "    pass\n",
    "\n",
    "def likelihood(x_cfx,bn) :\n",
    "    class_cpd = bn.cpd(\"class\")\n",
    "    class_values = class_cpd.variable_values()\n",
    "    cfx = x_cfx.copy()\n",
    "    likelihood = 0\n",
    "    for v in class_values :\n",
    "        cfx[\"class\"] = pd.Categorical([v], categories = class_values)\n",
    "        likelihood = likelihood + math.e**bn.logl(cfx)\n",
    "    return likelihood\n",
    "\n",
    "def accuracy(x_cfx, y_og, bn) :\n",
    "    class_cpd = bn.cpd(\"class\")\n",
    "    class_values = class_cpd.variable_values()\n",
    "    cfx = x_cfx.copy()\n",
    "    prob = 0\n",
    "    for v in class_values :\n",
    "        if v != y_og :\n",
    "            cfx[\"class\"] = pd.Categorical([v], categories = class_values)\n",
    "            prob = prob + math.e**bn.logl(cfx)\n",
    "    ll = likelihood(x_cfx,bn)\n",
    "    if ll>0 :\n",
    "        return prob/likelihood(x_cfx,bn)\n",
    "    else :\n",
    "        return 1\n",
    "\n",
    "\n",
    "def path(x_cfx, x_og, bn) :\n",
    "    pass\n",
    "\n"
   ]
  },
  {
   "cell_type": "code",
   "execution_count": 11,
   "id": "25a044cb",
   "metadata": {},
   "outputs": [
    {
     "data": {
      "text/plain": [
       "-11.657973445704627"
      ]
     },
     "execution_count": 11,
     "metadata": {},
     "output_type": "execute_result"
    }
   ],
   "source": [
    "learned.slogl(synt.iloc[[100]])"
   ]
  },
  {
   "cell_type": "code",
   "execution_count": 12,
   "id": "7229ca55",
   "metadata": {},
   "outputs": [
    {
     "data": {
      "text/plain": [
       "360.5772314367417"
      ]
     },
     "execution_count": 12,
     "metadata": {},
     "output_type": "execute_result"
    }
   ],
   "source": [
    "euclidean_distance(synt.iloc[0].drop(\"class\"), synt.iloc[2].drop(\"class\"))"
   ]
  },
  {
   "cell_type": "code",
   "execution_count": 13,
   "id": "bbb1e9ca",
   "metadata": {},
   "outputs": [
    {
     "data": {
      "text/html": [
       "<div>\n",
       "<style scoped>\n",
       "    .dataframe tbody tr th:only-of-type {\n",
       "        vertical-align: middle;\n",
       "    }\n",
       "\n",
       "    .dataframe tbody tr th {\n",
       "        vertical-align: top;\n",
       "    }\n",
       "\n",
       "    .dataframe thead th {\n",
       "        text-align: right;\n",
       "    }\n",
       "</style>\n",
       "<table border=\"1\" class=\"dataframe\">\n",
       "  <thead>\n",
       "    <tr style=\"text-align: right;\">\n",
       "      <th></th>\n",
       "      <th>class</th>\n",
       "      <th>y</th>\n",
       "      <th>x</th>\n",
       "    </tr>\n",
       "  </thead>\n",
       "  <tbody>\n",
       "    <tr>\n",
       "      <th>0</th>\n",
       "      <td>c</td>\n",
       "      <td>384.720621</td>\n",
       "      <td>422.12262</td>\n",
       "    </tr>\n",
       "  </tbody>\n",
       "</table>\n",
       "</div>"
      ],
      "text/plain": [
       "  class           y          x\n",
       "0     c  384.720621  422.12262"
      ]
     },
     "execution_count": 13,
     "metadata": {},
     "output_type": "execute_result"
    }
   ],
   "source": [
    "synt.iloc[[0]]#.drop(\"class\", axis = 1)"
   ]
  },
  {
   "cell_type": "code",
   "execution_count": 79,
   "id": "8d3cdd78",
   "metadata": {},
   "outputs": [
    {
     "data": {
      "text/plain": [
       "[CLinearGaussianCPD] P(y | class)\n",
       "+-------+--------------------------------------------------+\n",
       "|       |                        y                         |\n",
       "+-------+--------------------------------------------------+\n",
       "| class |                                                  |\n",
       "+-------+--------------------------------------------------+\n",
       "|   a   | [LinearGaussianCPD] P(y) = N(210.809, 20024.579) |\n",
       "|   b   |  [LinearGaussianCPD] P(y) = N(50.340, 579.054)   |\n",
       "|   c   |  [LinearGaussianCPD] P(y) = N(422.662, 686.162)  |\n",
       "+-------+--------------------------------------------------+"
      ]
     },
     "execution_count": 79,
     "metadata": {},
     "output_type": "execute_result"
    }
   ],
   "source": [
    "learned.cpd(\"y\")"
   ]
  },
  {
   "cell_type": "code",
   "execution_count": 15,
   "id": "dce88725",
   "metadata": {},
   "outputs": [
    {
     "name": "stdout",
     "output_type": "stream",
     "text": [
      "    class           y        x\n",
      "300     a  441.427157  192.069\n"
     ]
    }
   ],
   "source": [
    "x_cfx = synt.iloc[[300]].copy()\n",
    "#x_cfx = x_cfx.drop(\"class\",axis = 1)\n",
    "x_cfx[\"x\"] = [192.069]\n",
    "x_cfx.loc[x_cfx.index][\"y\"] = 444.152 + -1.215*192.069\n",
    "x_cfx.loc[x_cfx.index][\"class\"] = pd.Categorical([\"a\"], categories = [\"a\",\"b\",\"c\"])\n",
    "print(x_cfx)"
   ]
  },
  {
   "cell_type": "code",
   "execution_count": 16,
   "id": "e57afd0d",
   "metadata": {},
   "outputs": [
    {
     "ename": "ValueError",
     "evalue": "Column \"y\" not found in DataFrame",
     "output_type": "error",
     "traceback": [
      "\u001b[0;31m---------------------------------------------------------------------------\u001b[0m",
      "\u001b[0;31mValueError\u001b[0m                                Traceback (most recent call last)",
      "\u001b[0;32m/tmp/ipykernel_8602/483796770.py\u001b[0m in \u001b[0;36m<module>\u001b[0;34m\u001b[0m\n\u001b[0;32m----> 1\u001b[0;31m \u001b[0mprint\u001b[0m\u001b[0;34m(\u001b[0m\u001b[0mmath\u001b[0m\u001b[0;34m.\u001b[0m\u001b[0me\u001b[0m\u001b[0;34m**\u001b[0m\u001b[0mlearned\u001b[0m\u001b[0;34m.\u001b[0m\u001b[0mcpd\u001b[0m\u001b[0;34m(\u001b[0m\u001b[0;34m\"x\"\u001b[0m\u001b[0;34m)\u001b[0m\u001b[0;34m.\u001b[0m\u001b[0mlogl\u001b[0m\u001b[0;34m(\u001b[0m\u001b[0mx_cfx\u001b[0m\u001b[0;34m.\u001b[0m\u001b[0mdrop\u001b[0m\u001b[0;34m(\u001b[0m\u001b[0;34m[\u001b[0m\u001b[0;34m\"y\"\u001b[0m\u001b[0;34m]\u001b[0m\u001b[0;34m,\u001b[0m \u001b[0maxis\u001b[0m \u001b[0;34m=\u001b[0m \u001b[0;36m1\u001b[0m\u001b[0;34m)\u001b[0m\u001b[0;34m)\u001b[0m\u001b[0;34m)\u001b[0m\u001b[0;34m\u001b[0m\u001b[0;34m\u001b[0m\u001b[0m\n\u001b[0m\u001b[1;32m      2\u001b[0m \u001b[0mprint\u001b[0m\u001b[0;34m(\u001b[0m\u001b[0mmath\u001b[0m\u001b[0;34m.\u001b[0m\u001b[0me\u001b[0m\u001b[0;34m**\u001b[0m\u001b[0mlearned\u001b[0m\u001b[0;34m.\u001b[0m\u001b[0mcpd\u001b[0m\u001b[0;34m(\u001b[0m\u001b[0;34m\"y\"\u001b[0m\u001b[0;34m)\u001b[0m\u001b[0;34m.\u001b[0m\u001b[0mlogl\u001b[0m\u001b[0;34m(\u001b[0m\u001b[0mx_cfx\u001b[0m\u001b[0;34m)\u001b[0m\u001b[0;34m)\u001b[0m\u001b[0;34m\u001b[0m\u001b[0;34m\u001b[0m\u001b[0m\n\u001b[1;32m      3\u001b[0m \u001b[0mprint\u001b[0m\u001b[0;34m(\u001b[0m\u001b[0mmath\u001b[0m\u001b[0;34m.\u001b[0m\u001b[0me\u001b[0m\u001b[0;34m**\u001b[0m\u001b[0mlearned\u001b[0m\u001b[0;34m.\u001b[0m\u001b[0mcpd\u001b[0m\u001b[0;34m(\u001b[0m\u001b[0;34m\"class\"\u001b[0m\u001b[0;34m)\u001b[0m\u001b[0;34m.\u001b[0m\u001b[0mlogl\u001b[0m\u001b[0;34m(\u001b[0m\u001b[0mx_cfx\u001b[0m\u001b[0;34m.\u001b[0m\u001b[0mdrop\u001b[0m\u001b[0;34m(\u001b[0m\u001b[0;34m[\u001b[0m\u001b[0;34m\"x\"\u001b[0m\u001b[0;34m,\u001b[0m\u001b[0;34m\"y\"\u001b[0m\u001b[0;34m]\u001b[0m\u001b[0;34m,\u001b[0m \u001b[0maxis\u001b[0m \u001b[0;34m=\u001b[0m \u001b[0;36m1\u001b[0m\u001b[0;34m)\u001b[0m\u001b[0;34m)\u001b[0m\u001b[0;34m)\u001b[0m\u001b[0;34m\u001b[0m\u001b[0;34m\u001b[0m\u001b[0m\n",
      "\u001b[0;31mValueError\u001b[0m: Column \"y\" not found in DataFrame"
     ]
    }
   ],
   "source": [
    "print(math.e**learned.cpd(\"x\").logl(x_cfx.drop([\"y\"], axis = 1)))\n",
    "print(math.e**learned.cpd(\"y\").logl(x_cfx))\n",
    "print(math.e**learned.cpd(\"class\").logl(x_cfx.drop([\"x\",\"y\"], axis = 1)))"
   ]
  },
  {
   "cell_type": "code",
   "execution_count": 17,
   "id": "f8e3a895",
   "metadata": {},
   "outputs": [],
   "source": [
    "from scipy.stats import norm"
   ]
  },
  {
   "cell_type": "code",
   "execution_count": 28,
   "id": "b31d3597",
   "metadata": {},
   "outputs": [],
   "source": [
    "x = norm(192.069, np.sqrt(2554.987))\n",
    "y = norm(444.152 + -1.215*192.069, np.sqrt(16335.215))"
   ]
  },
  {
   "cell_type": "code",
   "execution_count": 29,
   "id": "05444f0c",
   "metadata": {},
   "outputs": [
    {
     "data": {
      "text/plain": [
       "1.1800458182782846e-05"
      ]
     },
     "execution_count": 29,
     "metadata": {},
     "output_type": "execute_result"
    }
   ],
   "source": [
    "x.pdf(192.069)*y.pdf(444.152 + -1.215*192.069)*0.479"
   ]
  },
  {
   "cell_type": "code",
   "execution_count": 30,
   "id": "dba094e8",
   "metadata": {},
   "outputs": [
    {
     "data": {
      "text/plain": [
       "0.00789252049721482"
      ]
     },
     "execution_count": 30,
     "metadata": {},
     "output_type": "execute_result"
    }
   ],
   "source": [
    "x.pdf(192.069)"
   ]
  },
  {
   "cell_type": "code",
   "execution_count": 31,
   "id": "fcb4448e",
   "metadata": {},
   "outputs": [
    {
     "data": {
      "text/plain": [
       "array([1.17898997e-05])"
      ]
     },
     "execution_count": 31,
     "metadata": {},
     "output_type": "execute_result"
    }
   ],
   "source": [
    "math.e**learned.logl(x_cfx)"
   ]
  },
  {
   "cell_type": "code",
   "execution_count": 93,
   "id": "da536679",
   "metadata": {},
   "outputs": [
    {
     "ename": "AttributeError",
     "evalue": "'DataFrame' object has no attribute 'add_column'",
     "output_type": "error",
     "traceback": [
      "\u001b[0;31m---------------------------------------------------------------------------\u001b[0m",
      "\u001b[0;31mAttributeError\u001b[0m                            Traceback (most recent call last)",
      "\u001b[0;32m/tmp/ipykernel_7633/784803662.py\u001b[0m in \u001b[0;36m<module>\u001b[0;34m\u001b[0m\n\u001b[0;32m----> 1\u001b[0;31m \u001b[0mlikelihood\u001b[0m\u001b[0;34m(\u001b[0m\u001b[0mx_cfx\u001b[0m\u001b[0;34m,\u001b[0m\u001b[0mlearned\u001b[0m\u001b[0;34m)\u001b[0m\u001b[0;34m\u001b[0m\u001b[0;34m\u001b[0m\u001b[0m\n\u001b[0m",
      "\u001b[0;32m/tmp/ipykernel_7633/892350833.py\u001b[0m in \u001b[0;36mlikelihood\u001b[0;34m(x_cfx, bn)\u001b[0m\n\u001b[1;32m     13\u001b[0m     \u001b[0mclass_values\u001b[0m \u001b[0;34m=\u001b[0m \u001b[0mclass_cpd\u001b[0m\u001b[0;34m.\u001b[0m\u001b[0mvariable_values\u001b[0m\u001b[0;34m(\u001b[0m\u001b[0;34m)\u001b[0m\u001b[0;34m\u001b[0m\u001b[0;34m\u001b[0m\u001b[0m\n\u001b[1;32m     14\u001b[0m     \u001b[0mcfx\u001b[0m \u001b[0;34m=\u001b[0m \u001b[0mx_cfx\u001b[0m\u001b[0;34m.\u001b[0m\u001b[0mcopy\u001b[0m\u001b[0;34m(\u001b[0m\u001b[0;34m)\u001b[0m\u001b[0;34m\u001b[0m\u001b[0;34m\u001b[0m\u001b[0m\n\u001b[0;32m---> 15\u001b[0;31m     \u001b[0mcfx\u001b[0m \u001b[0;34m=\u001b[0m \u001b[0mcfx\u001b[0m\u001b[0;34m.\u001b[0m\u001b[0madd_column\u001b[0m\u001b[0;34m(\u001b[0m\u001b[0;34m\"class\"\u001b[0m\u001b[0;34m,\u001b[0m\u001b[0mpd\u001b[0m\u001b[0;34m.\u001b[0m\u001b[0mCategorical\u001b[0m\u001b[0;34m(\u001b[0m\u001b[0;34m\"a\"\u001b[0m\u001b[0;34m,\u001b[0m \u001b[0mcategories\u001b[0m \u001b[0;34m=\u001b[0m \u001b[0mclass_values\u001b[0m\u001b[0;34m)\u001b[0m\u001b[0;34m)\u001b[0m\u001b[0;34m\u001b[0m\u001b[0;34m\u001b[0m\u001b[0m\n\u001b[0m\u001b[1;32m     16\u001b[0m     \u001b[0mlikelihood\u001b[0m \u001b[0;34m=\u001b[0m \u001b[0;36m0\u001b[0m\u001b[0;34m\u001b[0m\u001b[0;34m\u001b[0m\u001b[0m\n\u001b[1;32m     17\u001b[0m     \u001b[0;32mfor\u001b[0m \u001b[0mv\u001b[0m \u001b[0;32min\u001b[0m \u001b[0mclass_values\u001b[0m \u001b[0;34m:\u001b[0m\u001b[0;34m\u001b[0m\u001b[0;34m\u001b[0m\u001b[0m\n",
      "\u001b[0;32m~/anaconda3/lib/python3.9/site-packages/pandas/core/generic.py\u001b[0m in \u001b[0;36m__getattr__\u001b[0;34m(self, name)\u001b[0m\n\u001b[1;32m   5573\u001b[0m         ):\n\u001b[1;32m   5574\u001b[0m             \u001b[0;32mreturn\u001b[0m \u001b[0mself\u001b[0m\u001b[0;34m[\u001b[0m\u001b[0mname\u001b[0m\u001b[0;34m]\u001b[0m\u001b[0;34m\u001b[0m\u001b[0;34m\u001b[0m\u001b[0m\n\u001b[0;32m-> 5575\u001b[0;31m         \u001b[0;32mreturn\u001b[0m \u001b[0mobject\u001b[0m\u001b[0;34m.\u001b[0m\u001b[0m__getattribute__\u001b[0m\u001b[0;34m(\u001b[0m\u001b[0mself\u001b[0m\u001b[0;34m,\u001b[0m \u001b[0mname\u001b[0m\u001b[0;34m)\u001b[0m\u001b[0;34m\u001b[0m\u001b[0;34m\u001b[0m\u001b[0m\n\u001b[0m\u001b[1;32m   5576\u001b[0m \u001b[0;34m\u001b[0m\u001b[0m\n\u001b[1;32m   5577\u001b[0m     \u001b[0;32mdef\u001b[0m \u001b[0m__setattr__\u001b[0m\u001b[0;34m(\u001b[0m\u001b[0mself\u001b[0m\u001b[0;34m,\u001b[0m \u001b[0mname\u001b[0m\u001b[0;34m:\u001b[0m \u001b[0mstr\u001b[0m\u001b[0;34m,\u001b[0m \u001b[0mvalue\u001b[0m\u001b[0;34m)\u001b[0m \u001b[0;34m->\u001b[0m \u001b[0;32mNone\u001b[0m\u001b[0;34m:\u001b[0m\u001b[0;34m\u001b[0m\u001b[0;34m\u001b[0m\u001b[0m\n",
      "\u001b[0;31mAttributeError\u001b[0m: 'DataFrame' object has no attribute 'add_column'"
     ]
    }
   ],
   "source": [
    "likelihood(x_cfx,learned)"
   ]
  },
  {
   "cell_type": "code",
   "execution_count": 33,
   "id": "c81d0f14",
   "metadata": {},
   "outputs": [
    {
     "data": {
      "text/plain": [
       "[]"
      ]
     },
     "execution_count": 33,
     "metadata": {},
     "output_type": "execute_result"
    }
   ],
   "source": [
    "factor.parent_values()"
   ]
  },
  {
   "cell_type": "code",
   "execution_count": 19,
   "id": "e1fc32b9",
   "metadata": {},
   "outputs": [],
   "source": [
    "from pymoo.core.problem import ElementwiseProblem\n",
    "from pymoo.algorithms.moo.nsga2 import NSGA2\n",
    "from pymoo.optimize import minimize"
   ]
  },
  {
   "cell_type": "code",
   "execution_count": 73,
   "id": "da1a5d6d",
   "metadata": {},
   "outputs": [],
   "source": [
    "class MyProblem(ElementwiseProblem):\n",
    "\n",
    "    def __init__(self):\n",
    "        super().__init__(n_var=2,\n",
    "                         n_obj=3,\n",
    "                         n_ieq_constr=2,\n",
    "                         xl=np.array([0]*2),\n",
    "                         xu=np.array([10000]*2))\n",
    "\n",
    "    def _evaluate(self, x, out, *args, **kwargs):\n",
    "        x_cfx = x_og.copy()\n",
    "        x_cfx[:] = x\n",
    "        f1 = euclidean_distance(x_cfx,x_og)\n",
    "        f2 = -likelihood(x_cfx, learned)\n",
    "        f3 = -accuracy(x_cfx,y_og,learned)\n",
    "        out[\"F\"] = np.column_stack([f1, f2,f3])\n",
    "        \n",
    "        g1 = -likelihood(x_cfx, learned)+0.00001\n",
    "        g2 = -accuracy(x_cfx,y_og,learned)+0.2\n",
    "        out[\"G\"] = np.column_stack([g1,g2])"
   ]
  },
  {
   "cell_type": "code",
   "execution_count": 74,
   "id": "456713f2",
   "metadata": {},
   "outputs": [
    {
     "name": "stdout",
     "output_type": "stream",
     "text": [
      "    class           y           x\n",
      "300     a  441.427157  156.647531\n",
      "==========================================================================================\n",
      "n_gen  |  n_eval  | n_nds  |     cv_min    |     cv_avg    |      eps      |   indicator  \n",
      "==========================================================================================\n",
      "     1 |      200 |      1 |  0.0000100000 |  0.0140099807 |             - |             -\n",
      "     2 |      400 |      1 |  9.999999E-06 |  1.000000E-05 |             - |             -\n",
      "     3 |      600 |      1 |  9.999228E-06 |  9.999995E-06 |             - |             -\n",
      "     4 |      800 |      1 |  1.875182E-06 |  9.959371E-06 |             - |             -\n",
      "     5 |     1000 |      1 |  1.875182E-06 |  9.944558E-06 |             - |             -\n",
      "     6 |     1200 |      1 |  0.000000E+00 |  9.843601E-06 |             - |             -\n",
      "     7 |     1400 |      2 |  0.000000E+00 |  9.735948E-06 |  1.0000000000 |         ideal\n",
      "     8 |     1600 |      4 |  0.000000E+00 |  9.535152E-06 |  0.0314868815 |         ideal\n",
      "     9 |     1800 |      4 |  0.000000E+00 |  9.134957E-06 |  0.000000E+00 |             f\n",
      "    10 |     2000 |      6 |  0.000000E+00 |  8.110305E-06 |  0.4149646203 |         ideal\n",
      "    11 |     2200 |      6 |  0.000000E+00 |  6.143845E-06 |  0.4249328884 |         ideal\n",
      "    12 |     2400 |      8 |  0.000000E+00 |  3.922739E-06 |  0.0545429207 |         nadir\n",
      "    13 |     2600 |     11 |  0.000000E+00 |  1.937567E-06 |  0.0809894211 |             f\n",
      "    14 |     2800 |     13 |  0.000000E+00 |  5.794239E-07 |  0.1419466539 |         ideal\n",
      "    15 |     3000 |     22 |  0.000000E+00 |  1.718255E-08 |  0.0165669214 |             f\n",
      "    16 |     3200 |     25 |  0.000000E+00 |  0.000000E+00 |  0.0170949647 |             f\n",
      "    17 |     3400 |     30 |  0.000000E+00 |  0.000000E+00 |  0.0457990689 |         nadir\n",
      "    18 |     3600 |     37 |  0.000000E+00 |  0.000000E+00 |  0.4146760819 |         ideal\n",
      "    19 |     3800 |     45 |  0.000000E+00 |  0.000000E+00 |  0.2678650228 |         ideal\n",
      "    20 |     4000 |     52 |  0.000000E+00 |  0.000000E+00 |  0.0044155198 |         nadir\n",
      "    21 |     4200 |     59 |  0.000000E+00 |  0.000000E+00 |  0.0318778049 |         nadir\n",
      "    22 |     4400 |     73 |  0.000000E+00 |  0.000000E+00 |  0.0057096773 |         nadir\n",
      "    23 |     4600 |     75 |  0.000000E+00 |  0.000000E+00 |  0.0560387883 |         ideal\n",
      "    24 |     4800 |     95 |  0.000000E+00 |  0.000000E+00 |  0.0448484260 |         nadir\n",
      "    25 |     5000 |    106 |  0.000000E+00 |  0.000000E+00 |  0.0023267671 |             f\n",
      "    26 |     5200 |    124 |  0.000000E+00 |  0.000000E+00 |  0.0053830727 |             f\n",
      "    27 |     5400 |    146 |  0.000000E+00 |  0.000000E+00 |  0.0146767677 |         ideal\n",
      "    28 |     5600 |    162 |  0.000000E+00 |  0.000000E+00 |  0.0197121980 |         ideal\n",
      "    29 |     5800 |    190 |  0.000000E+00 |  0.000000E+00 |  0.2924545880 |         nadir\n",
      "    30 |     6000 |    200 |  0.000000E+00 |  0.000000E+00 |  0.0111157582 |         nadir\n",
      "hash 75929.02179767577\n"
     ]
    }
   ],
   "source": [
    "problem = MyProblem()\n",
    "\n",
    "x_og = synt.iloc[[300]].copy()\n",
    "print(x_og)\n",
    "x_og[\"x\"] = 192.069\n",
    "x_og[\"y\"] = 444.152 + -1.215*192.069 + np.sqrt(16335.215)\n",
    "x_og = x_og.drop(\"class\",axis = 1)\n",
    "y_og = \"a\"\n",
    "#x_cfx[\"class\"] = pd.Categorical(\"a\", categories = [\"a\",\"b\",\"c\"])\n",
    "\n",
    "algorithm = NSGA2(pop_size=200)\n",
    "\n",
    "res = minimize(problem,\n",
    "               algorithm,\n",
    "               ('n_gen', 30),\n",
    "               seed=1,\n",
    "               verbose=True)\n",
    "\n",
    "# calculate a hash to show that all executions end with the same result\n",
    "print(\"hash\", res.F.sum())"
   ]
  },
  {
   "cell_type": "code",
   "execution_count": 75,
   "id": "23cf5c78",
   "metadata": {},
   "outputs": [
    {
     "data": {
      "text/plain": [
       "array([[ 2.32312438e+02, -1.06090823e-05, -9.99999859e-01],\n",
       "       [ 5.03866204e+02, -1.25539260e-05, -1.00000000e+00],\n",
       "       [ 4.99887910e+02, -1.22069760e-05, -1.00000000e+00],\n",
       "       [ 2.75113989e+02, -3.38251119e-05, -1.00000000e+00],\n",
       "       [ 3.19193423e+02, -1.08875909e-05, -1.00000000e+00],\n",
       "       [ 4.46038907e+02, -1.33906563e-05, -1.00000000e+00],\n",
       "       [ 2.34466403e+02, -1.15524281e-05, -9.99999900e-01],\n",
       "       [ 2.32783947e+02, -1.06468688e-05, -9.99999912e-01],\n",
       "       [ 2.35795201e+02, -1.50050990e-05, -9.99999952e-01],\n",
       "       [ 2.41282920e+02, -1.50128984e-05, -9.99999979e-01],\n",
       "       [ 2.38049153e+02, -1.21394740e-05, -9.99999961e-01],\n",
       "       [ 2.44740493e+02, -2.09443427e-05, -9.99999989e-01],\n",
       "       [ 2.50994214e+02, -2.30085028e-05, -9.99999996e-01],\n",
       "       [ 2.60625354e+02, -1.83772111e-05, -9.99999999e-01],\n",
       "       [ 2.88433083e+02, -2.93492371e-05, -1.00000000e+00],\n",
       "       [ 2.81388006e+02, -3.22083083e-05, -1.00000000e+00],\n",
       "       [ 2.75214262e+02, -3.01407866e-05, -1.00000000e+00],\n",
       "       [ 2.98051254e+02, -2.44947668e-05, -1.00000000e+00],\n",
       "       [ 2.45920480e+02, -2.15447613e-05, -9.99999991e-01],\n",
       "       [ 2.80209906e+02, -3.08313179e-05, -1.00000000e+00],\n",
       "       [ 2.84190770e+02, -2.22785933e-05, -1.00000000e+00],\n",
       "       [ 2.69084256e+02, -3.29092328e-05, -1.00000000e+00],\n",
       "       [ 3.08993211e+02, -1.65812478e-05, -1.00000000e+00],\n",
       "       [ 2.52581417e+02, -2.53668369e-05, -9.99999997e-01],\n",
       "       [ 2.81982160e+02, -3.15998599e-05, -1.00000000e+00],\n",
       "       [ 3.18258923e+02, -1.13883104e-05, -1.00000000e+00],\n",
       "       [ 2.64776344e+02, -2.82658463e-05, -1.00000000e+00],\n",
       "       [ 2.87570007e+02, -2.59723821e-05, -1.00000000e+00],\n",
       "       [ 2.56229731e+02, -2.55734922e-05, -9.99999998e-01],\n",
       "       [ 2.47136251e+02, -2.18546503e-05, -9.99999993e-01],\n",
       "       [ 2.96274961e+02, -1.89263100e-05, -1.00000000e+00],\n",
       "       [ 2.55687818e+02, -2.66778465e-05, -9.99999998e-01],\n",
       "       [ 3.02011705e+02, -2.05121284e-05, -1.00000000e+00],\n",
       "       [ 2.48956588e+02, -2.19036280e-05, -9.99999995e-01],\n",
       "       [ 4.70085192e+02, -1.63756017e-05, -1.00000000e+00],\n",
       "       [ 3.05504391e+02, -2.00100474e-05, -1.00000000e+00],\n",
       "       [ 2.96996168e+02, -2.40490600e-05, -1.00000000e+00],\n",
       "       [ 2.65260914e+02, -2.86182324e-05, -1.00000000e+00],\n",
       "       [ 3.05058034e+02, -1.80820402e-05, -1.00000000e+00],\n",
       "       [ 2.74224114e+02, -3.16436737e-05, -1.00000000e+00],\n",
       "       [ 2.52883276e+02, -2.39135712e-05, -9.99999997e-01],\n",
       "       [ 4.90189958e+02, -1.20504666e-05, -1.00000000e+00],\n",
       "       [ 2.54397578e+02, -2.70670170e-05, -9.99999998e-01],\n",
       "       [ 2.51282646e+02, -2.44586240e-05, -9.99999996e-01],\n",
       "       [ 2.45682552e+02, -1.95422895e-05, -9.99999991e-01],\n",
       "       [ 4.61825546e+02, -1.59324099e-05, -1.00000000e+00],\n",
       "       [ 2.65568035e+02, -3.04798680e-05, -1.00000000e+00],\n",
       "       [ 2.52379034e+02, -2.58774787e-05, -9.99999997e-01],\n",
       "       [ 3.00456696e+02, -1.99308526e-05, -1.00000000e+00],\n",
       "       [ 2.91402066e+02, -2.88731489e-05, -1.00000000e+00],\n",
       "       [ 4.92687652e+02, -1.34614912e-05, -1.00000000e+00],\n",
       "       [ 2.48348329e+02, -2.07405714e-05, -9.99999994e-01],\n",
       "       [ 2.55565686e+02, -2.73441499e-05, -9.99999998e-01],\n",
       "       [ 3.02054564e+02, -1.96665823e-05, -1.00000000e+00],\n",
       "       [ 2.77361004e+02, -3.31474655e-05, -1.00000000e+00],\n",
       "       [ 2.90310048e+02, -1.92502806e-05, -1.00000000e+00],\n",
       "       [ 2.87670739e+02, -2.77650136e-05, -1.00000000e+00],\n",
       "       [ 2.84917880e+02, -2.20935376e-05, -1.00000000e+00],\n",
       "       [ 2.86795125e+02, -2.79468345e-05, -1.00000000e+00],\n",
       "       [ 4.76738494e+02, -1.58333600e-05, -1.00000000e+00],\n",
       "       [ 3.04024901e+02, -1.94621136e-05, -1.00000000e+00],\n",
       "       [ 2.62182608e+02, -2.07123504e-05, -9.99999999e-01],\n",
       "       [ 2.67674558e+02, -2.55188940e-05, -1.00000000e+00],\n",
       "       [ 2.72091828e+02, -3.08071837e-05, -1.00000000e+00],\n",
       "       [ 3.18713525e+02, -1.11298403e-05, -1.00000000e+00],\n",
       "       [ 4.96522380e+02, -1.34510955e-05, -1.00000000e+00],\n",
       "       [ 2.74114030e+02, -3.30150689e-05, -1.00000000e+00],\n",
       "       [ 2.48805735e+02, -2.36649498e-05, -9.99999994e-01],\n",
       "       [ 2.91406183e+02, -2.88727239e-05, -1.00000000e+00],\n",
       "       [ 4.71691442e+02, -1.36711105e-05, -1.00000000e+00],\n",
       "       [ 4.81535376e+02, -1.41152595e-05, -1.00000000e+00],\n",
       "       [ 2.76345799e+02, -3.36330400e-05, -1.00000000e+00],\n",
       "       [ 2.46325569e+02, -2.06468987e-05, -9.99999992e-01],\n",
       "       [ 4.98113417e+02, -1.12415866e-05, -1.00000000e+00],\n",
       "       [ 2.48674021e+02, -2.35799553e-05, -9.99999994e-01],\n",
       "       [ 4.57409162e+02, -1.77775788e-05, -1.00000000e+00],\n",
       "       [ 4.65061602e+02, -1.69222837e-05, -1.00000000e+00],\n",
       "       [ 2.94005453e+02, -2.33120793e-05, -1.00000000e+00],\n",
       "       [ 3.06890284e+02, -1.89699927e-05, -1.00000000e+00],\n",
       "       [ 4.56776229e+02, -1.78324417e-05, -1.00000000e+00],\n",
       "       [ 2.54913054e+02, -2.74718652e-05, -9.99999998e-01],\n",
       "       [ 2.82992520e+02, -3.07183259e-05, -1.00000000e+00],\n",
       "       [ 2.64135952e+02, -2.55511021e-05, -9.99999999e-01],\n",
       "       [ 2.81314654e+02, -3.05471306e-05, -1.00000000e+00],\n",
       "       [ 2.94313050e+02, -2.67484451e-05, -1.00000000e+00],\n",
       "       [ 4.74323880e+02, -1.55853647e-05, -1.00000000e+00],\n",
       "       [ 4.98461858e+02, -1.31729118e-05, -1.00000000e+00],\n",
       "       [ 3.06543392e+02, -1.93364423e-05, -1.00000000e+00],\n",
       "       [ 4.60349491e+02, -1.48101727e-05, -1.00000000e+00],\n",
       "       [ 3.06766499e+02, -1.91037275e-05, -1.00000000e+00],\n",
       "       [ 2.86065217e+02, -2.33416608e-05, -1.00000000e+00],\n",
       "       [ 4.92415904e+02, -1.30248842e-05, -1.00000000e+00],\n",
       "       [ 4.87492435e+02, -1.26772913e-05, -1.00000000e+00],\n",
       "       [ 2.46508666e+02, -2.09382089e-05, -9.99999992e-01],\n",
       "       [ 4.73066518e+02, -1.32300537e-05, -1.00000000e+00],\n",
       "       [ 2.77015436e+02, -3.33197010e-05, -1.00000000e+00],\n",
       "       [ 4.55530648e+02, -1.70846831e-05, -1.00000000e+00],\n",
       "       [ 4.53789009e+02, -1.76461446e-05, -1.00000000e+00],\n",
       "       [ 4.86479271e+02, -1.23048804e-05, -1.00000000e+00],\n",
       "       [ 2.93093992e+02, -2.69648429e-05, -1.00000000e+00],\n",
       "       [ 3.01001010e+02, -1.96085122e-05, -1.00000000e+00],\n",
       "       [ 2.85376284e+02, -2.54365225e-05, -1.00000000e+00],\n",
       "       [ 2.87262169e+02, -2.78938687e-05, -1.00000000e+00],\n",
       "       [ 2.76746904e+02, -3.35165525e-05, -1.00000000e+00],\n",
       "       [ 2.70423528e+02, -3.32316276e-05, -1.00000000e+00],\n",
       "       [ 4.66179738e+02, -1.56283309e-05, -1.00000000e+00],\n",
       "       [ 4.48505214e+02, -1.48159735e-05, -1.00000000e+00],\n",
       "       [ 2.88333385e+02, -2.68325695e-05, -1.00000000e+00],\n",
       "       [ 2.48673985e+02, -2.09122532e-05, -9.99999994e-01],\n",
       "       [ 4.54974388e+02, -1.75468011e-05, -1.00000000e+00],\n",
       "       [ 4.96905639e+02, -1.25332970e-05, -1.00000000e+00],\n",
       "       [ 4.83681770e+02, -1.28014526e-05, -1.00000000e+00],\n",
       "       [ 2.75028158e+02, -3.37731823e-05, -1.00000000e+00],\n",
       "       [ 4.77674931e+02, -1.24581374e-05, -1.00000000e+00],\n",
       "       [ 4.50592851e+02, -1.51343647e-05, -1.00000000e+00],\n",
       "       [ 4.77662797e+02, -1.57297228e-05, -1.00000000e+00],\n",
       "       [ 4.50341367e+02, -1.49871932e-05, -1.00000000e+00],\n",
       "       [ 4.84181282e+02, -1.27113033e-05, -1.00000000e+00],\n",
       "       [ 4.53525190e+02, -1.49648719e-05, -1.00000000e+00],\n",
       "       [ 2.74151121e+02, -3.34443936e-05, -1.00000000e+00],\n",
       "       [ 2.70378547e+02, -3.32259822e-05, -1.00000000e+00],\n",
       "       [ 4.88124628e+02, -1.42275172e-05, -1.00000000e+00],\n",
       "       [ 4.68333395e+02, -1.65976886e-05, -1.00000000e+00],\n",
       "       [ 4.48026164e+02, -1.50313949e-05, -1.00000000e+00],\n",
       "       [ 4.62920774e+02, -1.59084259e-05, -1.00000000e+00],\n",
       "       [ 4.84765114e+02, -1.13867201e-05, -1.00000000e+00],\n",
       "       [ 4.78769463e+02, -1.52834447e-05, -1.00000000e+00],\n",
       "       [ 2.55845497e+02, -2.69259491e-05, -9.99999998e-01],\n",
       "       [ 2.54901307e+02, -2.74638701e-05, -9.99999998e-01],\n",
       "       [ 4.56216492e+02, -1.68394239e-05, -1.00000000e+00],\n",
       "       [ 4.65523637e+02, -1.56901721e-05, -1.00000000e+00],\n",
       "       [ 4.78796799e+02, -1.44556329e-05, -1.00000000e+00],\n",
       "       [ 4.80496955e+02, -1.47718641e-05, -1.00000000e+00],\n",
       "       [ 2.93579756e+02, -2.70026999e-05, -1.00000000e+00],\n",
       "       [ 4.98431792e+02, -1.29007259e-05, -1.00000000e+00],\n",
       "       [ 4.52372713e+02, -1.50329802e-05, -1.00000000e+00],\n",
       "       [ 4.90438177e+02, -1.37123798e-05, -1.00000000e+00],\n",
       "       [ 4.54361276e+02, -1.72689376e-05, -1.00000000e+00],\n",
       "       [ 4.68726959e+02, -1.67028758e-05, -1.00000000e+00],\n",
       "       [ 4.48192344e+02, -1.46093810e-05, -1.00000000e+00],\n",
       "       [ 4.60621331e+02, -1.74984358e-05, -1.00000000e+00],\n",
       "       [ 4.84770466e+02, -1.14174597e-05, -1.00000000e+00],\n",
       "       [ 4.82684691e+02, -1.44375389e-05, -1.00000000e+00],\n",
       "       [ 4.88453137e+02, -1.37226169e-05, -1.00000000e+00],\n",
       "       [ 4.79084147e+02, -1.54450044e-05, -1.00000000e+00],\n",
       "       [ 4.91708528e+02, -1.28145432e-05, -1.00000000e+00],\n",
       "       [ 4.82423123e+02, -1.48707578e-05, -1.00000000e+00],\n",
       "       [ 4.65180600e+02, -1.54000039e-05, -1.00000000e+00],\n",
       "       [ 4.86075663e+02, -1.40009334e-05, -1.00000000e+00],\n",
       "       [ 4.77876852e+02, -1.55101286e-05, -1.00000000e+00],\n",
       "       [ 4.63728923e+02, -1.64729889e-05, -1.00000000e+00],\n",
       "       [ 4.78751108e+02, -1.43946219e-05, -1.00000000e+00],\n",
       "       [ 4.50919696e+02, -1.46897817e-05, -1.00000000e+00],\n",
       "       [ 4.89726642e+02, -1.33118592e-05, -1.00000000e+00],\n",
       "       [ 4.57354824e+02, -1.73550259e-05, -1.00000000e+00],\n",
       "       [ 2.83028245e+02, -2.44719533e-05, -1.00000000e+00],\n",
       "       [ 4.67442636e+02, -1.65011817e-05, -1.00000000e+00],\n",
       "       [ 4.88896491e+02, -1.43160199e-05, -1.00000000e+00],\n",
       "       [ 4.72206317e+02, -1.38270044e-05, -1.00000000e+00],\n",
       "       [ 4.53909908e+02, -1.73027165e-05, -1.00000000e+00],\n",
       "       [ 4.54468758e+02, -1.65130171e-05, -1.00000000e+00],\n",
       "       [ 4.57131356e+02, -1.67690942e-05, -1.00000000e+00],\n",
       "       [ 4.69335482e+02, -1.64516445e-05, -1.00000000e+00],\n",
       "       [ 4.89785243e+02, -1.42382570e-05, -1.00000000e+00],\n",
       "       [ 4.67170327e+02, -1.64630917e-05, -1.00000000e+00],\n",
       "       [ 4.85101044e+02, -1.33612099e-05, -1.00000000e+00],\n",
       "       [ 4.73836102e+02, -1.36774056e-05, -1.00000000e+00],\n",
       "       [ 4.51816677e+02, -1.67903608e-05, -1.00000000e+00],\n",
       "       [ 4.63458029e+02, -1.71761818e-05, -1.00000000e+00],\n",
       "       [ 4.60965889e+02, -1.44513198e-05, -1.00000000e+00],\n",
       "       [ 4.79915341e+02, -1.53273263e-05, -1.00000000e+00],\n",
       "       [ 4.51550669e+02, -1.50613229e-05, -1.00000000e+00],\n",
       "       [ 4.63712921e+02, -1.71257703e-05, -1.00000000e+00],\n",
       "       [ 4.56424505e+02, -1.74310622e-05, -1.00000000e+00],\n",
       "       [ 4.89385788e+02, -1.39536592e-05, -1.00000000e+00],\n",
       "       [ 4.89527209e+02, -1.38092658e-05, -1.00000000e+00],\n",
       "       [ 4.68419162e+02, -1.39013981e-05, -1.00000000e+00],\n",
       "       [ 4.79932333e+02, -1.53279569e-05, -1.00000000e+00],\n",
       "       [ 4.85367107e+02, -1.47282919e-05, -1.00000000e+00],\n",
       "       [ 4.48193694e+02, -1.46102460e-05, -1.00000000e+00],\n",
       "       [ 4.86613477e+02, -1.38111878e-05, -1.00000000e+00],\n",
       "       [ 4.92180373e+02, -1.39193316e-05, -1.00000000e+00],\n",
       "       [ 4.77732023e+02, -1.48941100e-05, -1.00000000e+00],\n",
       "       [ 2.94034230e+02, -2.66848976e-05, -1.00000000e+00],\n",
       "       [ 2.81899099e+02, -3.16166979e-05, -1.00000000e+00],\n",
       "       [ 4.56363600e+02, -1.74212586e-05, -1.00000000e+00],\n",
       "       [ 4.80352990e+02, -1.43410257e-05, -1.00000000e+00],\n",
       "       [ 4.89658570e+02, -1.38299302e-05, -1.00000000e+00],\n",
       "       [ 4.85494655e+02, -1.28437529e-05, -1.00000000e+00],\n",
       "       [ 2.86063612e+02, -2.33374169e-05, -1.00000000e+00],\n",
       "       [ 4.51759710e+02, -1.67073997e-05, -1.00000000e+00],\n",
       "       [ 4.63203497e+02, -1.71741698e-05, -1.00000000e+00],\n",
       "       [ 4.55695274e+02, -1.59133142e-05, -1.00000000e+00],\n",
       "       [ 4.84845213e+02, -1.43667419e-05, -1.00000000e+00],\n",
       "       [ 4.69349870e+02, -1.64526252e-05, -1.00000000e+00],\n",
       "       [ 4.91821656e+02, -1.28485011e-05, -1.00000000e+00],\n",
       "       [ 4.63420453e+02, -1.55297089e-05, -1.00000000e+00],\n",
       "       [ 4.51080544e+02, -1.50879424e-05, -1.00000000e+00],\n",
       "       [ 4.89088899e+02, -1.43219065e-05, -1.00000000e+00],\n",
       "       [ 4.79920492e+02, -1.54657071e-05, -1.00000000e+00]])"
      ]
     },
     "execution_count": 75,
     "metadata": {},
     "output_type": "execute_result"
    }
   ],
   "source": [
    "res.F"
   ]
  },
  {
   "cell_type": "code",
   "execution_count": 81,
   "id": "482c4dd1",
   "metadata": {},
   "outputs": [
    {
     "data": {
      "image/png": "[encoded data removed]",
      "text/plain": [
       "<Figure size 640x480 with 1 Axes>"
      ]
     },
     "metadata": {},
     "output_type": "display_data"
    }
   ],
   "source": [
    "to_plot = df.drop(\"class\", axis = 1)\n",
    "colours = df[\"class\"].to_numpy()\n",
    "colours[colours == \"a\"] = \"green\"\n",
    "colours[colours == \"b\"] = \"yellow\"\n",
    "colours[colours == \"c\"] = \"blue\"\n",
    "plt.scatter(to_plot[\"x\"],to_plot[\"y\"], color = colours)\n",
    "plt.scatter(res.X.transpose()[0],res.X.transpose()[1],color = \"red\")\n",
    "plt.scatter(x_og[\"x\"],x_og[\"y\"], color = \"black\")\n",
    "plt.show()"
   ]
  },
  {
   "cell_type": "code",
   "execution_count": 58,
   "id": "92a0e80e",
   "metadata": {},
   "outputs": [
    {
     "data": {
      "text/plain": [
       "array([[282.9782019 , 435.57954636, 421.64949798, 340.71448906,\n",
       "         57.21428289,  65.16204679, 400.55098326, 399.21634328,\n",
       "        399.39417379, 387.55893596, 387.22424096, 399.36603519,\n",
       "         67.44014535, 388.28365637, 422.12762761, 401.66382655,\n",
       "         61.65062931,  49.74380037, 405.21259938, 398.08645284,\n",
       "        347.17067389, 318.68170103, 415.82625692, 423.48966913,\n",
       "        128.41096339,  64.50671903, 411.9869542 , 398.08645284,\n",
       "        399.36824571, 399.21634328, 397.03101413, 387.55893596,\n",
       "        420.6934228 , 249.00937653, 400.69339821, 358.26963701,\n",
       "        399.27468395, 421.19667442, 413.16512054, 387.55893596,\n",
       "        418.47127133, 239.86867421, 387.55893596, 401.39816268,\n",
       "        387.75006556, 421.82231836, 400.55098326, 387.32735505,\n",
       "         80.54859694, 421.58923209, 420.30410608, 398.08645284,\n",
       "        387.55893596, 387.11327314, 419.97598439, 412.83316105,\n",
       "         56.640607  , 411.9869542 , 399.05187921, 124.1096037 ,\n",
       "        382.7869886 , 383.86097425, 398.08645284, 399.21634328,\n",
       "        347.17067389, 407.9255239 , 417.87268139, 400.72146586,\n",
       "        406.35279547, 397.83645995,  67.98130982, 399.77859357,\n",
       "        406.48017279, 396.50211821,  62.87771511, 438.58370046,\n",
       "        400.94261803, 400.57689381, 396.50211821, 421.70375979,\n",
       "        370.36616829, 415.41903692, 223.66035868, 383.86097425,\n",
       "        410.69199153, 407.7826754 , 406.48017279, 401.14662947,\n",
       "        386.40935847, 164.22983956, 425.60036489, 394.33401169,\n",
       "        413.46461583, 393.83421259, 393.1701741 , 399.36824571,\n",
       "        383.86097425, 418.12222474, 394.6503829 , 146.61962405,\n",
       "        413.74127014, 160.78289932, 421.86753271, 413.89996972,\n",
       "         51.51591425, 417.95164519, 399.30886912, 408.69996177,\n",
       "        390.47541535, 413.68481595, 406.35279547, 405.67785215,\n",
       "        361.44550229, 410.69844936, 383.86097425, 418.47127133,\n",
       "        407.78193943, 227.08716246, 401.66382655, 410.69199153,\n",
       "        327.74184088, 376.87676998, 396.48844764, 116.0068887 ,\n",
       "        387.54046948, 431.68006796,  67.4868754 , 387.67525138,\n",
       "        374.19277045, 317.80542628, 403.14326657, 425.45889132,\n",
       "        283.61015379,  65.42112241, 408.10698163, 403.53677545,\n",
       "        400.55098326, 403.53677545, 397.69361145, 438.47647666,\n",
       "        396.50211821, 399.31230426, 418.26442408,  61.29278343,\n",
       "        438.58370046, 397.79127513, 408.3164256 , 413.28713733,\n",
       "        392.46971334, 396.88543686, 376.92517555, 385.64031096,\n",
       "        423.48966913, 387.57195371, 391.4848765 , 414.54697876,\n",
       "        401.14662947, 399.77859357,  69.35469089, 419.21192287,\n",
       "        399.36824571, 425.60036489, 417.43542629, 420.24171408,\n",
       "        397.23913267,  59.66968886, 399.40747288, 416.15932797,\n",
       "        399.39417379, 412.05268127, 399.36824571, 386.72999748,\n",
       "        438.58370046, 410.69844936, 159.93233144, 358.12531965,\n",
       "         89.21184303, 395.25462175, 425.84752577, 415.96838313,\n",
       "        168.87519484, 407.94010081, 418.11578283, 405.99816456,\n",
       "        386.77348464, 390.74736754, 407.78193943, 400.55098326,\n",
       "        412.09213587, 413.46461583, 438.78837076, 413.63118337,\n",
       "        411.07696561, 386.71632691, 410.69844936, 410.33215004,\n",
       "        397.57003033, 329.63667205, 399.39936485, 347.17067389],\n",
       "       [173.60970386, 583.9117398 , 453.21469901, 192.62124388,\n",
       "        604.13351059, 551.26154487, 329.68487456, 334.76196469,\n",
       "        331.15770546, 338.02147368, 327.58778422, 321.95142311,\n",
       "        576.85284893, 324.15539646, 428.55427162, 325.29502285,\n",
       "        564.72845645, 592.819996  , 440.20941927, 301.2358343 ,\n",
       "        192.62124388, 194.63537745, 416.82378747, 574.89341912,\n",
       "        200.97451686, 594.50011515, 452.66587038, 335.54388587,\n",
       "        336.83806964, 338.02147368, 328.35297671, 330.03843282,\n",
       "        447.17387179, 220.35293472, 323.63825132, 215.5594952 ,\n",
       "        309.0495524 , 485.89262565, 498.69547948, 337.76603825,\n",
       "        439.78156277, 206.76869235, 340.33008288, 320.14798022,\n",
       "        321.64397124, 429.64186801, 401.26710043, 345.262941  ,\n",
       "        595.49575457, 504.48666391, 440.20941927, 234.69274863,\n",
       "        340.64524102, 329.68487456, 418.45640353, 470.24582714,\n",
       "        554.78272883, 444.98184154, 371.58432094, 215.56461972,\n",
       "        320.91896169, 352.04282622, 332.17758167, 383.41438663,\n",
       "        215.92460921, 448.67085899, 482.38580599, 329.25155634,\n",
       "        425.16925789, 225.69514766, 555.06974541, 323.64265815,\n",
       "        466.94413508, 327.72879043, 576.85284893, 469.60045406,\n",
       "        416.6996533 , 337.76603825, 328.35297671, 430.23997985,\n",
       "        233.12662043, 455.14206174, 194.63537745, 322.22416213,\n",
       "        335.54388587, 445.48463464, 464.63402005, 328.18716469,\n",
       "        330.42632513, 204.30370593, 524.51715556, 320.14798022,\n",
       "        452.16385833, 351.74867376, 415.96787589, 336.65596011,\n",
       "        366.55434055, 426.00101075, 329.68487456, 233.12662043,\n",
       "        439.76311232, 248.65683943, 456.72341874, 425.37571019,\n",
       "        556.44550499, 462.15184499, 341.60871043, 329.66910925,\n",
       "        336.06095728, 468.53005135, 322.3189843 , 447.50068053,\n",
       "        225.25726694, 424.91906323, 321.64397124, 455.45024128,\n",
       "        431.74010305, 192.62403049, 327.60651855, 472.89475463,\n",
       "        181.95957781, 220.61151456, 329.66910925, 216.27953713,\n",
       "        327.90073931, 524.74825255, 602.32602419, 323.60012496,\n",
       "        198.09708586, 175.18915036, 236.65895592, 487.78636195,\n",
       "        192.85617884, 556.44550499, 433.62285787, 330.79015758,\n",
       "        331.16573494, 330.77402222, 318.54749001, 486.62603735,\n",
       "        406.28174735, 309.93788241, 344.95424679, 576.85284893,\n",
       "        257.87938818, 329.68487456, 323.60012496, 482.62793856,\n",
       "        347.50872615, 320.14798022, 218.95371926, 332.41673891,\n",
       "        531.84153648, 344.03836071, 331.16949812, 548.38874419,\n",
       "        328.87065366, 331.16573494, 610.07471575, 513.5935363 ,\n",
       "        343.03366545, 468.53005135, 513.5935363 , 535.93707608,\n",
       "        424.15182707, 554.78272883, 321.64397124, 428.44600675,\n",
       "        329.18129819, 478.81017518, 343.1103921 , 328.3539525 ,\n",
       "        537.06349931, 504.46997212, 241.37078134, 224.96576322,\n",
       "        575.06362211, 313.87127678, 487.78636195, 424.83652559,\n",
       "        183.42651677, 323.60012496, 521.33629857, 487.78636195,\n",
       "        233.12662043, 344.55541494, 426.28734517, 499.82557652,\n",
       "        486.38540457, 309.11962862, 556.44550499, 468.53005135,\n",
       "        426.3955458 , 329.67008504, 424.76782705, 245.2245814 ,\n",
       "        327.5757697 , 200.97451686, 321.37395722, 199.76747385]])"
      ]
     },
     "execution_count": 58,
     "metadata": {},
     "output_type": "execute_result"
    }
   ],
   "source": [
    "res.X.transpose()"
   ]
  },
  {
   "cell_type": "code",
   "execution_count": null,
   "id": "4c1cf20e",
   "metadata": {},
   "outputs": [],
   "source": []
  },
  {
   "cell_type": "code",
   "execution_count": null,
   "id": "f4cc95d0",
   "metadata": {},
   "outputs": [],
   "source": []
  }
 ],
 "metadata": {
  "kernelspec": {
   "display_name": "Python 3 (ipykernel)",
   "language": "python",
   "name": "python3"
  },
  "language_info": {
   "codemirror_mode": {
    "name": "ipython",
    "version": 3
   },
   "file_extension": ".py",
   "mimetype": "text/x-python",
   "name": "python",
   "nbconvert_exporter": "python",
   "pygments_lexer": "ipython3",
   "version": "3.9.15"
  }
 },
 "nbformat": 4,
 "nbformat_minor": 5
}
