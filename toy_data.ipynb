{
 "cells": [
  {
   "cell_type": "code",
   "execution_count": null,
   "id": "e5624c71",
   "metadata": {},
   "outputs": [],
   "source": [
    "import pandas as pd\n",
    "import numpy as np\n",
    "from pybnesian import hc, HeterogeneousBNType, GaussianNetwork, CLGNetwork, CLGNetworkType, KDENetworkType\n",
    "from scipy.stats import rv_discrete\n",
    "from drawdata import draw_scatter\n",
    "import matplotlib.pyplot as plt\n",
    "import math\n"
   ]
  },
  {
   "cell_type": "code",
   "execution_count": null,
   "id": "f77e28b7",
   "metadata": {},
   "outputs": [],
   "source": [
    "#draw_scatter()"
   ]
  },
  {
   "cell_type": "code",
   "execution_count": null,
   "id": "c22eb499",
   "metadata": {},
   "outputs": [],
   "source": [
    "#df = pd.read_clipboard(sep=\",\")\n",
    "#df.to_csv(\"toy-2class.csv\", index = False)"
   ]
  },
  {
   "cell_type": "code",
   "execution_count": null,
   "id": "7c113aaf",
   "metadata": {},
   "outputs": [],
   "source": [
    "df = pd.read_csv(\"toy-3class.csv\")"
   ]
  },
  {
   "cell_type": "code",
   "execution_count": null,
   "id": "eb6a2ef3",
   "metadata": {},
   "outputs": [],
   "source": [
    "df[\"class\"] = df[\"z\"].astype('category')\n",
    "#df[\"z\"] = df[\"z\"].astype('category')\n",
    "df = df.drop(\"z\", axis = 1 )\n",
    "\n",
    "\n",
    "learned = hc(df, bn_type = CLGNetworkType(), operators = [\"arcs\"], score = \"validated-lik\")\n",
    "learned.num_arcs()\n",
    "\n",
    "learned.fit(df)"
   ]
  },
  {
   "cell_type": "code",
   "execution_count": null,
   "id": "23906b40",
   "metadata": {},
   "outputs": [],
   "source": [
    "factor = learned.cpd(\"class\")"
   ]
  },
  {
   "cell_type": "code",
   "execution_count": null,
   "id": "ac76fa25",
   "metadata": {},
   "outputs": [],
   "source": [
    "factor.parent_values()"
   ]
  },
  {
   "cell_type": "code",
   "execution_count": null,
   "id": "a29d3d4a",
   "metadata": {},
   "outputs": [],
   "source": [
    "synt = learned.sample(1000).to_pandas()"
   ]
  },
  {
   "cell_type": "code",
   "execution_count": null,
   "id": "b7d55f87",
   "metadata": {},
   "outputs": [],
   "source": [
    "synt[synt[\"class\"] == \"c\"].count()"
   ]
  },
  {
   "cell_type": "code",
   "execution_count": null,
   "id": "bd19c347",
   "metadata": {},
   "outputs": [],
   "source": [
    "def euclidean_distance(x_cfx, x_og) :\n",
    "    # Make sure attributes go in the same order\n",
    "    #x_og = x_og[x_cfx.index]\n",
    "    \n",
    "    # Return Euclidean distance\n",
    "    return np.sqrt(np.sum((x_cfx-x_og).values**2))\n",
    "\n",
    "def delta_distance(x_cfx, x_og) :\n",
    "    pass\n",
    "\n",
    "def likelihood(x_cfx,bn) :\n",
    "    class_cpd = bn.cpd(\"class\")\n",
    "    class_values = class_cpd.variable_values()\n",
    "    cfx = x_cfx.copy()\n",
    "    n_samples = x_cfx.shape[0]\n",
    "    likelihood = 0\n",
    "    for v in class_values :\n",
    "        cfx[\"class\"] = pd.Categorical([v]*n_samples, categories = class_values)\n",
    "        likelihood = likelihood + math.e**bn.logl(cfx)\n",
    "    return likelihood\n",
    "\n",
    "def log_likelihood(x_cfx,bn) :\n",
    "    return np.log(likelihood(x_cfx,bn))\n",
    "\n",
    "def accuracy(x_cfx, y_og, bn) :\n",
    "    class_cpd = bn.cpd(\"class\")\n",
    "    class_values = class_cpd.variable_values()\n",
    "    cfx = x_cfx.copy()\n",
    "    cfx[\"class\"] = pd.Categorical([y_og], categories = class_values)\n",
    "    prob = math.e**bn.logl(cfx)\n",
    "    ll = likelihood(x_cfx,bn)\n",
    "    if ll>0 :\n",
    "        return prob/ll\n",
    "    else :\n",
    "        return 1\n",
    "\n",
    "\n",
    "def straight_path(x_1, x_2) :\n",
    "    spacing = int(euclidean_distance(x_1,x_2)/10)\n",
    "    points = np.zeros(shape=(x_2.shape[1],spacing))\n",
    "    for i,att in enumerate(x_2.columns) :\n",
    "        points[i] = np.linspace(x_1[att].values[0],x_2[att].values[0],spacing)\n",
    "    to_ret = pd.DataFrame(columns = x_2.columns, index = range(0,spacing))\n",
    "    to_ret[:] = points.transpose()\n",
    "    return to_ret\n",
    "\n",
    "def path(x_1, x_2) :\n",
    "    return straight_path(x_1,x_2)\n",
    "\n",
    "def avg_path_logl(x_cfx, x_og, bn) :\n",
    "    likelihood_path = (-log_likelihood(path(x_og, x_cfx),bn))**10\n",
    "    return np.sum(likelihood_path)\n",
    "\n",
    "\n",
    "\n"
   ]
  },
  {
   "cell_type": "code",
   "execution_count": null,
   "id": "25a044cb",
   "metadata": {},
   "outputs": [],
   "source": [
    "x_cfx = synt.iloc[[100]]\n",
    "x_cfx = x_cfx.drop(\"class\",axis = 1)\n",
    "x_og = synt.iloc[[200]]\n",
    "x_og = x_og.drop(\"class\",axis = 1)\n",
    "path_x = straight_path(x_cfx,x_og,learned)"
   ]
  },
  {
   "cell_type": "code",
   "execution_count": null,
   "id": "11adc95b",
   "metadata": {},
   "outputs": [],
   "source": [
    "del path"
   ]
  },
  {
   "cell_type": "code",
   "execution_count": null,
   "id": "c96a4947",
   "metadata": {},
   "outputs": [],
   "source": [
    "likelihood(path_x,learned)"
   ]
  },
  {
   "cell_type": "code",
   "execution_count": null,
   "id": "60515a10",
   "metadata": {},
   "outputs": [],
   "source": [
    "avg_path_likelihood(x_cfx,x_og,learned)"
   ]
  },
  {
   "cell_type": "code",
   "execution_count": null,
   "id": "8536d70c",
   "metadata": {},
   "outputs": [],
   "source": [
    "likelihood(x_cfx,learned)"
   ]
  },
  {
   "cell_type": "code",
   "execution_count": null,
   "id": "7229ca55",
   "metadata": {},
   "outputs": [],
   "source": [
    "euclidean_distance(synt.iloc[0].drop(\"class\"), synt.iloc[2].drop(\"class\"))"
   ]
  },
  {
   "cell_type": "code",
   "execution_count": null,
   "id": "bbb1e9ca",
   "metadata": {},
   "outputs": [],
   "source": [
    "synt.iloc[[0]]#.drop(\"class\", axis = 1)"
   ]
  },
  {
   "cell_type": "code",
   "execution_count": null,
   "id": "8d3cdd78",
   "metadata": {},
   "outputs": [],
   "source": [
    "learned.cpd(\"x\")"
   ]
  },
  {
   "cell_type": "code",
   "execution_count": null,
   "id": "dce88725",
   "metadata": {},
   "outputs": [],
   "source": [
    "x_cfx = synt.iloc[[300]].copy()\n",
    "#x_cfx = x_cfx.drop(\"class\",axis = 1)\n",
    "x_cfx[\"x\"] = [192.069]\n",
    "x_cfx.loc[x_cfx.index][\"y\"] = 444.152 + -1.215*192.069\n",
    "x_cfx.loc[x_cfx.index][\"class\"] = pd.Categorical([\"a\"], categories = [\"a\",\"b\",\"c\"])\n",
    "print(x_cfx)"
   ]
  },
  {
   "cell_type": "code",
   "execution_count": null,
   "id": "e57afd0d",
   "metadata": {},
   "outputs": [],
   "source": [
    "print(math.e**learned.cpd(\"x\").logl(x_cfx.drop([\"y\"], axis = 1)))\n",
    "print(math.e**learned.cpd(\"y\").logl(x_cfx))\n",
    "print(math.e**learned.cpd(\"class\").logl(x_cfx.drop([\"x\",\"y\"], axis = 1)))"
   ]
  },
  {
   "cell_type": "code",
   "execution_count": null,
   "id": "f8e3a895",
   "metadata": {},
   "outputs": [],
   "source": [
    "from scipy.stats import norm"
   ]
  },
  {
   "cell_type": "code",
   "execution_count": null,
   "id": "b31d3597",
   "metadata": {},
   "outputs": [],
   "source": [
    "x = norm(192.069, np.sqrt(2554.987))\n",
    "y = norm(444.152 + -1.215*192.069, np.sqrt(16335.215))"
   ]
  },
  {
   "cell_type": "code",
   "execution_count": null,
   "id": "05444f0c",
   "metadata": {},
   "outputs": [],
   "source": [
    "x.pdf(192.069)*y.pdf(444.152 + -1.215*192.069)*0.479"
   ]
  },
  {
   "cell_type": "code",
   "execution_count": null,
   "id": "dba094e8",
   "metadata": {},
   "outputs": [],
   "source": [
    "x.pdf(192.069)"
   ]
  },
  {
   "cell_type": "code",
   "execution_count": null,
   "id": "fcb4448e",
   "metadata": {},
   "outputs": [],
   "source": [
    "math.e**learned.logl(x_cfx)"
   ]
  },
  {
   "cell_type": "code",
   "execution_count": null,
   "id": "da536679",
   "metadata": {},
   "outputs": [],
   "source": [
    "likelihood(x_cfx,learned)"
   ]
  },
  {
   "cell_type": "code",
   "execution_count": null,
   "id": "c81d0f14",
   "metadata": {},
   "outputs": [],
   "source": [
    "factor.parent_values()"
   ]
  },
  {
   "cell_type": "code",
   "execution_count": null,
   "id": "e1fc32b9",
   "metadata": {},
   "outputs": [],
   "source": [
    "from pymoo.core.problem import ElementwiseProblem\n",
    "from pymoo.algorithms.moo.nsga2 import NSGA2\n",
    "from pymoo.optimize import minimize"
   ]
  },
  {
   "cell_type": "code",
   "execution_count": null,
   "id": "da1a5d6d",
   "metadata": {},
   "outputs": [],
   "source": [
    "class MyProblem(ElementwiseProblem):\n",
    "\n",
    "    def __init__(self):\n",
    "        super().__init__(n_var=2,\n",
    "                         n_obj=3,\n",
    "                         n_ieq_constr=2,\n",
    "                         xl=np.array([0]*2),\n",
    "                         xu=np.array([700]*2))\n",
    "\n",
    "    def _evaluate(self, x, out, *args, **kwargs):\n",
    "        x_cfx = x_og.copy()\n",
    "        x_cfx[:] = x\n",
    "        f1 = euclidean_distance(x_cfx,x_og)\n",
    "        f2 = -log_likelihood(x_cfx, learned)\n",
    "        f3 = avg_path_logl(x_cfx, x_og, learned)\n",
    "        out[\"F\"] = np.column_stack([f1, f2, f3])\n",
    "        \n",
    "        g1 = -0.1#-likelihood(x_cfx, learned)+0.0000001\n",
    "        g2 = accuracy(x_cfx,y_og,learned)-0.05\n",
    "        out[\"G\"] = np.column_stack([g1,g2])"
   ]
  },
  {
   "cell_type": "code",
   "execution_count": null,
   "id": "456713f2",
   "metadata": {},
   "outputs": [],
   "source": [
    "problem = MyProblem()\n",
    "\n",
    "x_og = synt.iloc[[300]].copy()\n",
    "x_og = x_og.drop(\"class\",axis = 1)\n",
    "x_og.columns = [\"x\",\"y\"]\n",
    "x_og[\"x\"] = 192.069\n",
    "x_og[\"y\"] = 444.152 + -1.215*192.069 + np.sqrt(16335.215)*2\n",
    "y_og = \"a\"\n",
    "#x_cfx[\"class\"] = pd.Categorical(\"a\", categories = [\"a\",\"b\",\"c\"])\n",
    "\n",
    "algorithm = NSGA2(pop_size=100)\n",
    "\n",
    "res = minimize(problem,\n",
    "               algorithm,\n",
    "               ('n_gen', 10),\n",
    "               seed=1,\n",
    "               verbose=True)\n",
    "\n",
    "# calculate a hash to show that all executions end with the same result\n",
    "print(\"hash\", res.F.sum())"
   ]
  },
  {
   "cell_type": "code",
   "execution_count": null,
   "id": "23cf5c78",
   "metadata": {},
   "outputs": [],
   "source": [
    "x_og"
   ]
  },
  {
   "cell_type": "code",
   "execution_count": null,
   "id": "482c4dd1",
   "metadata": {},
   "outputs": [],
   "source": [
    "to_plot = df.drop(\"class\", axis = 1)\n",
    "colours = df[\"class\"].to_numpy()\n",
    "colours[colours == \"a\"] = \"green\"\n",
    "colours[colours == \"b\"] = \"yellow\"\n",
    "colours[colours == \"c\"] = \"blue\"\n",
    "plt.scatter(to_plot[\"x\"],to_plot[\"y\"], color = colours)\n",
    "plt.scatter(res.X.transpose()[0],res.X.transpose()[1],color = \"red\")\n",
    "plt.scatter(x_og[\"x\"],x_og[\"y\"], color = \"black\")\n",
    "plt.show()"
   ]
  },
  {
   "cell_type": "code",
   "execution_count": null,
   "id": "92a0e80e",
   "metadata": {},
   "outputs": [],
   "source": [
    "x_test = x_og.copy()\n",
    "x_test.x = 450.0\n",
    "x_test.y = 425.0\n",
    "print(\"Logl:\",log_likelihood(x_test,learned))\n",
    "print(\"Path logl:\",avg_path_logl(x_test,x_og,learned))\n",
    "print(\"Accuracy:\",accuracy(x_test,\"a\",learned))"
   ]
  },
  {
   "cell_type": "code",
   "execution_count": null,
   "id": "adb8462e",
   "metadata": {},
   "outputs": [],
   "source": [
    "0.9**2"
   ]
  },
  {
   "cell_type": "code",
   "execution_count": null,
   "id": "e6c0ca64",
   "metadata": {},
   "outputs": [],
   "source": [
    "x_test = x_og.copy()\n",
    "x_test.x = 700.0\n",
    "x_test.y = 700.0\n",
    "print(\"Logl:\",log_likelihood(x_test,learned))\n",
    "print(\"Path logl:\",avg_path_logl(x_test,x_og,learned))\n",
    "print(\"Accuracy:\",accuracy(x_test,\"a\",learned))"
   ]
  },
  {
   "cell_type": "code",
   "execution_count": null,
   "id": "78d7e575",
   "metadata": {},
   "outputs": [],
   "source": [
    "x = [95, 102.5]\n",
    "y = [5, 17]\n",
    "\n",
    "x_new = 100\n",
    "\n",
    "y_new = np.interp(x_new, x, y)\n",
    "print(y_new)\n",
    "# 13.0\n",
    "\n",
    "plt.plot(x, y, \"og-\", x_new, y_new, \"or\");"
   ]
  },
  {
   "cell_type": "code",
   "execution_count": null,
   "id": "3305f40b",
   "metadata": {},
   "outputs": [],
   "source": [
    "x = [95, 102.5]\n",
    "y = [5, 17]\n",
    "\n",
    "x_new = np.arange(95,102.5,0.5)\n",
    "\n",
    "y_new = np.interp(x_new, x, y)\n",
    "print(y_new)\n",
    "# 13.0\n",
    "\n",
    "#plt.plot(x, y, \"og-\", x_new, y_new, \"or\");"
   ]
  },
  {
   "cell_type": "code",
   "execution_count": null,
   "id": "84bcfa2d",
   "metadata": {},
   "outputs": [],
   "source": [
    "np.meshgrid(np.arange(-5, 5.1, 0.5), np.arange(-5, 5.1, 0.5), np.arange(-5, 5.1, 0.5))"
   ]
  },
  {
   "cell_type": "code",
   "execution_count": null,
   "id": "e9b6033e",
   "metadata": {},
   "outputs": [],
   "source": [
    "1.1**0.3"
   ]
  },
  {
   "cell_type": "code",
   "execution_count": null,
   "id": "5bc80dc0",
   "metadata": {},
   "outputs": [],
   "source": [
    "x = np.arange(0.01,1,0.01)\n",
    "z=1\n",
    "exp = 1\n",
    "f_x = (-np.emath.logn(10,x)+z)**exp\n",
    "plt.plot(x,f_x)\n",
    "plt.show()"
   ]
  },
  {
   "cell_type": "code",
   "execution_count": null,
   "id": "eb0ef648",
   "metadata": {},
   "outputs": [],
   "source": [
    "plt.plot(x[:-1],np.diff(f_x))"
   ]
  },
  {
   "cell_type": "code",
   "execution_count": null,
   "id": "c582a601",
   "metadata": {},
   "outputs": [],
   "source": [
    "plt.plot(x,f_x-x)"
   ]
  },
  {
   "cell_type": "code",
   "execution_count": null,
   "id": "1aa82087",
   "metadata": {},
   "outputs": [],
   "source": [
    "0.9**2"
   ]
  },
  {
   "cell_type": "code",
   "execution_count": null,
   "id": "a18b1db2",
   "metadata": {},
   "outputs": [],
   "source": []
  }
 ],
 "metadata": {
  "kernelspec": {
   "display_name": "Python 3 (ipykernel)",
   "language": "python",
   "name": "python3"
  },
  "language_info": {
   "codemirror_mode": {
    "name": "ipython",
    "version": 3
   },
   "file_extension": ".py",
   "mimetype": "text/x-python",
   "name": "python",
   "nbconvert_exporter": "python",
   "pygments_lexer": "ipython3",
   "version": "3.9.12"
  }
 },
 "nbformat": 4,
 "nbformat_minor": 5
}
